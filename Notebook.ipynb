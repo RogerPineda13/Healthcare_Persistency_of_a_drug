{
  "nbformat": 4,
  "nbformat_minor": 0,
  "metadata": {
    "colab": {
      "provenance": [],
      "toc_visible": true,
      "authorship_tag": "ABX9TyMJ/j6SVJBBM7hENadwwOJu",
      "include_colab_link": true
    },
    "kernelspec": {
      "name": "python3",
      "display_name": "Python 3"
    },
    "language_info": {
      "name": "python"
    }
  },
  "cells": [
    {
      "cell_type": "markdown",
      "metadata": {
        "id": "view-in-github",
        "colab_type": "text"
      },
      "source": [
        "<a href=\"https://colab.research.google.com/github/RogerPineda13/Healthcare_Persistency_of_a_drug/blob/main/Notebook.ipynb\" target=\"_parent\"><img src=\"https://colab.research.google.com/assets/colab-badge.svg\" alt=\"Open In Colab\"/></a>"
      ]
    },
    {
      "cell_type": "code",
      "execution_count": 139,
      "metadata": {
        "id": "8ubtzKUxQn-c"
      },
      "outputs": [],
      "source": [
        "import pandas as pd\n",
        "from sklearn.preprocessing import OneHotEncoder"
      ]
    },
    {
      "cell_type": "code",
      "source": [],
      "metadata": {
        "id": "-buQS9wxkEkX"
      },
      "execution_count": null,
      "outputs": []
    },
    {
      "cell_type": "code",
      "source": [
        "def onehotencoder(column_name,df):\n",
        "  column_name_ohe = df[[column_name]]\n",
        "  ohe = OneHotEncoder(categories='auto', sparse=False)\n",
        "  ohe.fit(column_name_ohe)\n",
        "  column_transformed = ohe.transform(column_name_ohe)\n",
        "  column_encoded_ohe=pd.DateFrame(column_transformed,columns = ohe.get_feature_names([column_name]),index=df.index)\n",
        "  return column_encoded_ohe"
      ],
      "metadata": {
        "id": "cjlRjP3vkI48"
      },
      "execution_count": 140,
      "outputs": []
    },
    {
      "cell_type": "code",
      "source": [
        "from google.colab import files\n",
        "uploaded = files.upload()"
      ],
      "metadata": {
        "colab": {
          "base_uri": "https://localhost:8080/",
          "height": 73
        },
        "id": "eKAO2JXbQq7J",
        "outputId": "a0a964f2-ecaa-424f-bbec-3b1d81123e84"
      },
      "execution_count": 2,
      "outputs": [
        {
          "output_type": "display_data",
          "data": {
            "text/plain": [
              "<IPython.core.display.HTML object>"
            ],
            "text/html": [
              "\n",
              "     <input type=\"file\" id=\"files-af95fea4-965b-4a1a-89d5-dea81de6f3f8\" name=\"files[]\" multiple disabled\n",
              "        style=\"border:none\" />\n",
              "     <output id=\"result-af95fea4-965b-4a1a-89d5-dea81de6f3f8\">\n",
              "      Upload widget is only available when the cell has been executed in the\n",
              "      current browser session. Please rerun this cell to enable.\n",
              "      </output>\n",
              "      <script>// Copyright 2017 Google LLC\n",
              "//\n",
              "// Licensed under the Apache License, Version 2.0 (the \"License\");\n",
              "// you may not use this file except in compliance with the License.\n",
              "// You may obtain a copy of the License at\n",
              "//\n",
              "//      http://www.apache.org/licenses/LICENSE-2.0\n",
              "//\n",
              "// Unless required by applicable law or agreed to in writing, software\n",
              "// distributed under the License is distributed on an \"AS IS\" BASIS,\n",
              "// WITHOUT WARRANTIES OR CONDITIONS OF ANY KIND, either express or implied.\n",
              "// See the License for the specific language governing permissions and\n",
              "// limitations under the License.\n",
              "\n",
              "/**\n",
              " * @fileoverview Helpers for google.colab Python module.\n",
              " */\n",
              "(function(scope) {\n",
              "function span(text, styleAttributes = {}) {\n",
              "  const element = document.createElement('span');\n",
              "  element.textContent = text;\n",
              "  for (const key of Object.keys(styleAttributes)) {\n",
              "    element.style[key] = styleAttributes[key];\n",
              "  }\n",
              "  return element;\n",
              "}\n",
              "\n",
              "// Max number of bytes which will be uploaded at a time.\n",
              "const MAX_PAYLOAD_SIZE = 100 * 1024;\n",
              "\n",
              "function _uploadFiles(inputId, outputId) {\n",
              "  const steps = uploadFilesStep(inputId, outputId);\n",
              "  const outputElement = document.getElementById(outputId);\n",
              "  // Cache steps on the outputElement to make it available for the next call\n",
              "  // to uploadFilesContinue from Python.\n",
              "  outputElement.steps = steps;\n",
              "\n",
              "  return _uploadFilesContinue(outputId);\n",
              "}\n",
              "\n",
              "// This is roughly an async generator (not supported in the browser yet),\n",
              "// where there are multiple asynchronous steps and the Python side is going\n",
              "// to poll for completion of each step.\n",
              "// This uses a Promise to block the python side on completion of each step,\n",
              "// then passes the result of the previous step as the input to the next step.\n",
              "function _uploadFilesContinue(outputId) {\n",
              "  const outputElement = document.getElementById(outputId);\n",
              "  const steps = outputElement.steps;\n",
              "\n",
              "  const next = steps.next(outputElement.lastPromiseValue);\n",
              "  return Promise.resolve(next.value.promise).then((value) => {\n",
              "    // Cache the last promise value to make it available to the next\n",
              "    // step of the generator.\n",
              "    outputElement.lastPromiseValue = value;\n",
              "    return next.value.response;\n",
              "  });\n",
              "}\n",
              "\n",
              "/**\n",
              " * Generator function which is called between each async step of the upload\n",
              " * process.\n",
              " * @param {string} inputId Element ID of the input file picker element.\n",
              " * @param {string} outputId Element ID of the output display.\n",
              " * @return {!Iterable<!Object>} Iterable of next steps.\n",
              " */\n",
              "function* uploadFilesStep(inputId, outputId) {\n",
              "  const inputElement = document.getElementById(inputId);\n",
              "  inputElement.disabled = false;\n",
              "\n",
              "  const outputElement = document.getElementById(outputId);\n",
              "  outputElement.innerHTML = '';\n",
              "\n",
              "  const pickedPromise = new Promise((resolve) => {\n",
              "    inputElement.addEventListener('change', (e) => {\n",
              "      resolve(e.target.files);\n",
              "    });\n",
              "  });\n",
              "\n",
              "  const cancel = document.createElement('button');\n",
              "  inputElement.parentElement.appendChild(cancel);\n",
              "  cancel.textContent = 'Cancel upload';\n",
              "  const cancelPromise = new Promise((resolve) => {\n",
              "    cancel.onclick = () => {\n",
              "      resolve(null);\n",
              "    };\n",
              "  });\n",
              "\n",
              "  // Wait for the user to pick the files.\n",
              "  const files = yield {\n",
              "    promise: Promise.race([pickedPromise, cancelPromise]),\n",
              "    response: {\n",
              "      action: 'starting',\n",
              "    }\n",
              "  };\n",
              "\n",
              "  cancel.remove();\n",
              "\n",
              "  // Disable the input element since further picks are not allowed.\n",
              "  inputElement.disabled = true;\n",
              "\n",
              "  if (!files) {\n",
              "    return {\n",
              "      response: {\n",
              "        action: 'complete',\n",
              "      }\n",
              "    };\n",
              "  }\n",
              "\n",
              "  for (const file of files) {\n",
              "    const li = document.createElement('li');\n",
              "    li.append(span(file.name, {fontWeight: 'bold'}));\n",
              "    li.append(span(\n",
              "        `(${file.type || 'n/a'}) - ${file.size} bytes, ` +\n",
              "        `last modified: ${\n",
              "            file.lastModifiedDate ? file.lastModifiedDate.toLocaleDateString() :\n",
              "                                    'n/a'} - `));\n",
              "    const percent = span('0% done');\n",
              "    li.appendChild(percent);\n",
              "\n",
              "    outputElement.appendChild(li);\n",
              "\n",
              "    const fileDataPromise = new Promise((resolve) => {\n",
              "      const reader = new FileReader();\n",
              "      reader.onload = (e) => {\n",
              "        resolve(e.target.result);\n",
              "      };\n",
              "      reader.readAsArrayBuffer(file);\n",
              "    });\n",
              "    // Wait for the data to be ready.\n",
              "    let fileData = yield {\n",
              "      promise: fileDataPromise,\n",
              "      response: {\n",
              "        action: 'continue',\n",
              "      }\n",
              "    };\n",
              "\n",
              "    // Use a chunked sending to avoid message size limits. See b/62115660.\n",
              "    let position = 0;\n",
              "    do {\n",
              "      const length = Math.min(fileData.byteLength - position, MAX_PAYLOAD_SIZE);\n",
              "      const chunk = new Uint8Array(fileData, position, length);\n",
              "      position += length;\n",
              "\n",
              "      const base64 = btoa(String.fromCharCode.apply(null, chunk));\n",
              "      yield {\n",
              "        response: {\n",
              "          action: 'append',\n",
              "          file: file.name,\n",
              "          data: base64,\n",
              "        },\n",
              "      };\n",
              "\n",
              "      let percentDone = fileData.byteLength === 0 ?\n",
              "          100 :\n",
              "          Math.round((position / fileData.byteLength) * 100);\n",
              "      percent.textContent = `${percentDone}% done`;\n",
              "\n",
              "    } while (position < fileData.byteLength);\n",
              "  }\n",
              "\n",
              "  // All done.\n",
              "  yield {\n",
              "    response: {\n",
              "      action: 'complete',\n",
              "    }\n",
              "  };\n",
              "}\n",
              "\n",
              "scope.google = scope.google || {};\n",
              "scope.google.colab = scope.google.colab || {};\n",
              "scope.google.colab._files = {\n",
              "  _uploadFiles,\n",
              "  _uploadFilesContinue,\n",
              "};\n",
              "})(self);\n",
              "</script> "
            ]
          },
          "metadata": {}
        },
        {
          "output_type": "stream",
          "name": "stdout",
          "text": [
            "Saving Healthcare_dataset.xlsx to Healthcare_dataset.xlsx\n"
          ]
        }
      ]
    },
    {
      "cell_type": "code",
      "source": [
        "data = pd.read_excel(\"Healthcare_dataset.xlsx\", sheet_name=1)"
      ],
      "metadata": {
        "id": "6tZne7V8Rv_Z"
      },
      "execution_count": 141,
      "outputs": []
    },
    {
      "cell_type": "code",
      "source": [
        "fff = onehotencoder('Gender', data)"
      ],
      "metadata": {
        "id": "DqUlmWCgkQdI",
        "outputId": "d0512990-d5ca-4dd0-e7f0-923174c28487",
        "colab": {
          "base_uri": "https://localhost:8080/",
          "height": 311
        }
      },
      "execution_count": 142,
      "outputs": [
        {
          "output_type": "error",
          "ename": "AttributeError",
          "evalue": "ignored",
          "traceback": [
            "\u001b[0;31m---------------------------------------------------------------------------\u001b[0m",
            "\u001b[0;31mAttributeError\u001b[0m                            Traceback (most recent call last)",
            "\u001b[0;32m<ipython-input-142-e5802a5ebe56>\u001b[0m in \u001b[0;36m<module>\u001b[0;34m\u001b[0m\n\u001b[0;32m----> 1\u001b[0;31m \u001b[0mfff\u001b[0m \u001b[0;34m=\u001b[0m \u001b[0monehotencoder\u001b[0m\u001b[0;34m(\u001b[0m\u001b[0;34m'Gender'\u001b[0m\u001b[0;34m,\u001b[0m \u001b[0mdata\u001b[0m\u001b[0;34m)\u001b[0m\u001b[0;34m\u001b[0m\u001b[0;34m\u001b[0m\u001b[0m\n\u001b[0m",
            "\u001b[0;32m<ipython-input-140-79e4a7467656>\u001b[0m in \u001b[0;36monehotencoder\u001b[0;34m(column_name, df)\u001b[0m\n\u001b[1;32m      4\u001b[0m   \u001b[0mohe\u001b[0m\u001b[0;34m.\u001b[0m\u001b[0mfit\u001b[0m\u001b[0;34m(\u001b[0m\u001b[0mcolumn_name_ohe\u001b[0m\u001b[0;34m)\u001b[0m\u001b[0;34m\u001b[0m\u001b[0;34m\u001b[0m\u001b[0m\n\u001b[1;32m      5\u001b[0m   \u001b[0mcolumn_transformed\u001b[0m \u001b[0;34m=\u001b[0m \u001b[0mohe\u001b[0m\u001b[0;34m.\u001b[0m\u001b[0mtransform\u001b[0m\u001b[0;34m(\u001b[0m\u001b[0mcolumn_name_ohe\u001b[0m\u001b[0;34m)\u001b[0m\u001b[0;34m\u001b[0m\u001b[0;34m\u001b[0m\u001b[0m\n\u001b[0;32m----> 6\u001b[0;31m   \u001b[0mcolumn_encoded_ohe\u001b[0m\u001b[0;34m=\u001b[0m\u001b[0mpd\u001b[0m\u001b[0;34m.\u001b[0m\u001b[0mDateFrame\u001b[0m\u001b[0;34m(\u001b[0m\u001b[0mcolumn_transformed\u001b[0m\u001b[0;34m,\u001b[0m\u001b[0mcolumns\u001b[0m \u001b[0;34m=\u001b[0m \u001b[0mohe\u001b[0m\u001b[0;34m.\u001b[0m\u001b[0mget_feature_names\u001b[0m\u001b[0;34m(\u001b[0m\u001b[0;34m[\u001b[0m\u001b[0mcolumn_name\u001b[0m\u001b[0;34m]\u001b[0m\u001b[0;34m)\u001b[0m\u001b[0;34m,\u001b[0m\u001b[0mindex\u001b[0m\u001b[0;34m=\u001b[0m\u001b[0mdf\u001b[0m\u001b[0;34m.\u001b[0m\u001b[0mindex\u001b[0m\u001b[0;34m)\u001b[0m\u001b[0;34m\u001b[0m\u001b[0;34m\u001b[0m\u001b[0m\n\u001b[0m\u001b[1;32m      7\u001b[0m   \u001b[0;32mreturn\u001b[0m \u001b[0mcolumn_encoded_ohe\u001b[0m\u001b[0;34m\u001b[0m\u001b[0;34m\u001b[0m\u001b[0m\n",
            "\u001b[0;32m/usr/local/lib/python3.8/dist-packages/pandas/__init__.py\u001b[0m in \u001b[0;36m__getattr__\u001b[0;34m(name)\u001b[0m\n\u001b[1;32m    242\u001b[0m         \u001b[0;32mreturn\u001b[0m \u001b[0m_SparseArray\u001b[0m\u001b[0;34m\u001b[0m\u001b[0;34m\u001b[0m\u001b[0m\n\u001b[1;32m    243\u001b[0m \u001b[0;34m\u001b[0m\u001b[0m\n\u001b[0;32m--> 244\u001b[0;31m     \u001b[0;32mraise\u001b[0m \u001b[0mAttributeError\u001b[0m\u001b[0;34m(\u001b[0m\u001b[0;34mf\"module 'pandas' has no attribute '{name}'\"\u001b[0m\u001b[0;34m)\u001b[0m\u001b[0;34m\u001b[0m\u001b[0;34m\u001b[0m\u001b[0m\n\u001b[0m\u001b[1;32m    245\u001b[0m \u001b[0;34m\u001b[0m\u001b[0m\n\u001b[1;32m    246\u001b[0m \u001b[0;34m\u001b[0m\u001b[0m\n",
            "\u001b[0;31mAttributeError\u001b[0m: module 'pandas' has no attribute 'DateFrame'"
          ]
        }
      ]
    },
    {
      "cell_type": "code",
      "source": [
        "data.head()"
      ],
      "metadata": {
        "colab": {
          "base_uri": "https://localhost:8080/",
          "height": 386
        },
        "id": "q9jtyOJ_Rum7",
        "outputId": "88a526fc-d125-4e42-82ad-419d54bb058e"
      },
      "execution_count": 4,
      "outputs": [
        {
          "output_type": "execute_result",
          "data": {
            "text/plain": [
              "  Ptid Persistency_Flag  Gender           Race     Ethnicity   Region  \\\n",
              "0   P1       Persistent    Male      Caucasian  Not Hispanic     West   \n",
              "1   P2   Non-Persistent    Male          Asian  Not Hispanic     West   \n",
              "2   P3   Non-Persistent  Female  Other/Unknown      Hispanic  Midwest   \n",
              "3   P4   Non-Persistent  Female      Caucasian  Not Hispanic  Midwest   \n",
              "4   P5   Non-Persistent  Female      Caucasian  Not Hispanic  Midwest   \n",
              "\n",
              "  Age_Bucket        Ntm_Speciality Ntm_Specialist_Flag  \\\n",
              "0        >75  GENERAL PRACTITIONER              Others   \n",
              "1      55-65  GENERAL PRACTITIONER              Others   \n",
              "2      65-75  GENERAL PRACTITIONER              Others   \n",
              "3        >75  GENERAL PRACTITIONER              Others   \n",
              "4        >75  GENERAL PRACTITIONER              Others   \n",
              "\n",
              "       Ntm_Speciality_Bucket  ... Risk_Family_History_Of_Osteoporosis  \\\n",
              "0  OB/GYN/Others/PCP/Unknown  ...                                   N   \n",
              "1  OB/GYN/Others/PCP/Unknown  ...                                   N   \n",
              "2  OB/GYN/Others/PCP/Unknown  ...                                   N   \n",
              "3  OB/GYN/Others/PCP/Unknown  ...                                   N   \n",
              "4  OB/GYN/Others/PCP/Unknown  ...                                   N   \n",
              "\n",
              "  Risk_Low_Calcium_Intake  Risk_Vitamin_D_Insufficiency  \\\n",
              "0                       N                             N   \n",
              "1                       N                             N   \n",
              "2                       Y                             N   \n",
              "3                       N                             N   \n",
              "4                       N                             N   \n",
              "\n",
              "  Risk_Poor_Health_Frailty Risk_Excessive_Thinness  \\\n",
              "0                        N                       N   \n",
              "1                        N                       N   \n",
              "2                        N                       N   \n",
              "3                        N                       N   \n",
              "4                        N                       N   \n",
              "\n",
              "  Risk_Hysterectomy_Oophorectomy Risk_Estrogen_Deficiency Risk_Immobilization  \\\n",
              "0                              N                        N                   N   \n",
              "1                              N                        N                   N   \n",
              "2                              N                        N                   N   \n",
              "3                              N                        N                   N   \n",
              "4                              N                        N                   N   \n",
              "\n",
              "  Risk_Recurring_Falls Count_Of_Risks  \n",
              "0                    N              0  \n",
              "1                    N              0  \n",
              "2                    N              2  \n",
              "3                    N              1  \n",
              "4                    N              1  \n",
              "\n",
              "[5 rows x 69 columns]"
            ],
            "text/html": [
              "\n",
              "  <div id=\"df-f46baa98-6166-4b10-8adf-744ea66958d4\">\n",
              "    <div class=\"colab-df-container\">\n",
              "      <div>\n",
              "<style scoped>\n",
              "    .dataframe tbody tr th:only-of-type {\n",
              "        vertical-align: middle;\n",
              "    }\n",
              "\n",
              "    .dataframe tbody tr th {\n",
              "        vertical-align: top;\n",
              "    }\n",
              "\n",
              "    .dataframe thead th {\n",
              "        text-align: right;\n",
              "    }\n",
              "</style>\n",
              "<table border=\"1\" class=\"dataframe\">\n",
              "  <thead>\n",
              "    <tr style=\"text-align: right;\">\n",
              "      <th></th>\n",
              "      <th>Ptid</th>\n",
              "      <th>Persistency_Flag</th>\n",
              "      <th>Gender</th>\n",
              "      <th>Race</th>\n",
              "      <th>Ethnicity</th>\n",
              "      <th>Region</th>\n",
              "      <th>Age_Bucket</th>\n",
              "      <th>Ntm_Speciality</th>\n",
              "      <th>Ntm_Specialist_Flag</th>\n",
              "      <th>Ntm_Speciality_Bucket</th>\n",
              "      <th>...</th>\n",
              "      <th>Risk_Family_History_Of_Osteoporosis</th>\n",
              "      <th>Risk_Low_Calcium_Intake</th>\n",
              "      <th>Risk_Vitamin_D_Insufficiency</th>\n",
              "      <th>Risk_Poor_Health_Frailty</th>\n",
              "      <th>Risk_Excessive_Thinness</th>\n",
              "      <th>Risk_Hysterectomy_Oophorectomy</th>\n",
              "      <th>Risk_Estrogen_Deficiency</th>\n",
              "      <th>Risk_Immobilization</th>\n",
              "      <th>Risk_Recurring_Falls</th>\n",
              "      <th>Count_Of_Risks</th>\n",
              "    </tr>\n",
              "  </thead>\n",
              "  <tbody>\n",
              "    <tr>\n",
              "      <th>0</th>\n",
              "      <td>P1</td>\n",
              "      <td>Persistent</td>\n",
              "      <td>Male</td>\n",
              "      <td>Caucasian</td>\n",
              "      <td>Not Hispanic</td>\n",
              "      <td>West</td>\n",
              "      <td>&gt;75</td>\n",
              "      <td>GENERAL PRACTITIONER</td>\n",
              "      <td>Others</td>\n",
              "      <td>OB/GYN/Others/PCP/Unknown</td>\n",
              "      <td>...</td>\n",
              "      <td>N</td>\n",
              "      <td>N</td>\n",
              "      <td>N</td>\n",
              "      <td>N</td>\n",
              "      <td>N</td>\n",
              "      <td>N</td>\n",
              "      <td>N</td>\n",
              "      <td>N</td>\n",
              "      <td>N</td>\n",
              "      <td>0</td>\n",
              "    </tr>\n",
              "    <tr>\n",
              "      <th>1</th>\n",
              "      <td>P2</td>\n",
              "      <td>Non-Persistent</td>\n",
              "      <td>Male</td>\n",
              "      <td>Asian</td>\n",
              "      <td>Not Hispanic</td>\n",
              "      <td>West</td>\n",
              "      <td>55-65</td>\n",
              "      <td>GENERAL PRACTITIONER</td>\n",
              "      <td>Others</td>\n",
              "      <td>OB/GYN/Others/PCP/Unknown</td>\n",
              "      <td>...</td>\n",
              "      <td>N</td>\n",
              "      <td>N</td>\n",
              "      <td>N</td>\n",
              "      <td>N</td>\n",
              "      <td>N</td>\n",
              "      <td>N</td>\n",
              "      <td>N</td>\n",
              "      <td>N</td>\n",
              "      <td>N</td>\n",
              "      <td>0</td>\n",
              "    </tr>\n",
              "    <tr>\n",
              "      <th>2</th>\n",
              "      <td>P3</td>\n",
              "      <td>Non-Persistent</td>\n",
              "      <td>Female</td>\n",
              "      <td>Other/Unknown</td>\n",
              "      <td>Hispanic</td>\n",
              "      <td>Midwest</td>\n",
              "      <td>65-75</td>\n",
              "      <td>GENERAL PRACTITIONER</td>\n",
              "      <td>Others</td>\n",
              "      <td>OB/GYN/Others/PCP/Unknown</td>\n",
              "      <td>...</td>\n",
              "      <td>N</td>\n",
              "      <td>Y</td>\n",
              "      <td>N</td>\n",
              "      <td>N</td>\n",
              "      <td>N</td>\n",
              "      <td>N</td>\n",
              "      <td>N</td>\n",
              "      <td>N</td>\n",
              "      <td>N</td>\n",
              "      <td>2</td>\n",
              "    </tr>\n",
              "    <tr>\n",
              "      <th>3</th>\n",
              "      <td>P4</td>\n",
              "      <td>Non-Persistent</td>\n",
              "      <td>Female</td>\n",
              "      <td>Caucasian</td>\n",
              "      <td>Not Hispanic</td>\n",
              "      <td>Midwest</td>\n",
              "      <td>&gt;75</td>\n",
              "      <td>GENERAL PRACTITIONER</td>\n",
              "      <td>Others</td>\n",
              "      <td>OB/GYN/Others/PCP/Unknown</td>\n",
              "      <td>...</td>\n",
              "      <td>N</td>\n",
              "      <td>N</td>\n",
              "      <td>N</td>\n",
              "      <td>N</td>\n",
              "      <td>N</td>\n",
              "      <td>N</td>\n",
              "      <td>N</td>\n",
              "      <td>N</td>\n",
              "      <td>N</td>\n",
              "      <td>1</td>\n",
              "    </tr>\n",
              "    <tr>\n",
              "      <th>4</th>\n",
              "      <td>P5</td>\n",
              "      <td>Non-Persistent</td>\n",
              "      <td>Female</td>\n",
              "      <td>Caucasian</td>\n",
              "      <td>Not Hispanic</td>\n",
              "      <td>Midwest</td>\n",
              "      <td>&gt;75</td>\n",
              "      <td>GENERAL PRACTITIONER</td>\n",
              "      <td>Others</td>\n",
              "      <td>OB/GYN/Others/PCP/Unknown</td>\n",
              "      <td>...</td>\n",
              "      <td>N</td>\n",
              "      <td>N</td>\n",
              "      <td>N</td>\n",
              "      <td>N</td>\n",
              "      <td>N</td>\n",
              "      <td>N</td>\n",
              "      <td>N</td>\n",
              "      <td>N</td>\n",
              "      <td>N</td>\n",
              "      <td>1</td>\n",
              "    </tr>\n",
              "  </tbody>\n",
              "</table>\n",
              "<p>5 rows × 69 columns</p>\n",
              "</div>\n",
              "      <button class=\"colab-df-convert\" onclick=\"convertToInteractive('df-f46baa98-6166-4b10-8adf-744ea66958d4')\"\n",
              "              title=\"Convert this dataframe to an interactive table.\"\n",
              "              style=\"display:none;\">\n",
              "        \n",
              "  <svg xmlns=\"http://www.w3.org/2000/svg\" height=\"24px\"viewBox=\"0 0 24 24\"\n",
              "       width=\"24px\">\n",
              "    <path d=\"M0 0h24v24H0V0z\" fill=\"none\"/>\n",
              "    <path d=\"M18.56 5.44l.94 2.06.94-2.06 2.06-.94-2.06-.94-.94-2.06-.94 2.06-2.06.94zm-11 1L8.5 8.5l.94-2.06 2.06-.94-2.06-.94L8.5 2.5l-.94 2.06-2.06.94zm10 10l.94 2.06.94-2.06 2.06-.94-2.06-.94-.94-2.06-.94 2.06-2.06.94z\"/><path d=\"M17.41 7.96l-1.37-1.37c-.4-.4-.92-.59-1.43-.59-.52 0-1.04.2-1.43.59L10.3 9.45l-7.72 7.72c-.78.78-.78 2.05 0 2.83L4 21.41c.39.39.9.59 1.41.59.51 0 1.02-.2 1.41-.59l7.78-7.78 2.81-2.81c.8-.78.8-2.07 0-2.86zM5.41 20L4 18.59l7.72-7.72 1.47 1.35L5.41 20z\"/>\n",
              "  </svg>\n",
              "      </button>\n",
              "      \n",
              "  <style>\n",
              "    .colab-df-container {\n",
              "      display:flex;\n",
              "      flex-wrap:wrap;\n",
              "      gap: 12px;\n",
              "    }\n",
              "\n",
              "    .colab-df-convert {\n",
              "      background-color: #E8F0FE;\n",
              "      border: none;\n",
              "      border-radius: 50%;\n",
              "      cursor: pointer;\n",
              "      display: none;\n",
              "      fill: #1967D2;\n",
              "      height: 32px;\n",
              "      padding: 0 0 0 0;\n",
              "      width: 32px;\n",
              "    }\n",
              "\n",
              "    .colab-df-convert:hover {\n",
              "      background-color: #E2EBFA;\n",
              "      box-shadow: 0px 1px 2px rgba(60, 64, 67, 0.3), 0px 1px 3px 1px rgba(60, 64, 67, 0.15);\n",
              "      fill: #174EA6;\n",
              "    }\n",
              "\n",
              "    [theme=dark] .colab-df-convert {\n",
              "      background-color: #3B4455;\n",
              "      fill: #D2E3FC;\n",
              "    }\n",
              "\n",
              "    [theme=dark] .colab-df-convert:hover {\n",
              "      background-color: #434B5C;\n",
              "      box-shadow: 0px 1px 3px 1px rgba(0, 0, 0, 0.15);\n",
              "      filter: drop-shadow(0px 1px 2px rgba(0, 0, 0, 0.3));\n",
              "      fill: #FFFFFF;\n",
              "    }\n",
              "  </style>\n",
              "\n",
              "      <script>\n",
              "        const buttonEl =\n",
              "          document.querySelector('#df-f46baa98-6166-4b10-8adf-744ea66958d4 button.colab-df-convert');\n",
              "        buttonEl.style.display =\n",
              "          google.colab.kernel.accessAllowed ? 'block' : 'none';\n",
              "\n",
              "        async function convertToInteractive(key) {\n",
              "          const element = document.querySelector('#df-f46baa98-6166-4b10-8adf-744ea66958d4');\n",
              "          const dataTable =\n",
              "            await google.colab.kernel.invokeFunction('convertToInteractive',\n",
              "                                                     [key], {});\n",
              "          if (!dataTable) return;\n",
              "\n",
              "          const docLinkHtml = 'Like what you see? Visit the ' +\n",
              "            '<a target=\"_blank\" href=https://colab.research.google.com/notebooks/data_table.ipynb>data table notebook</a>'\n",
              "            + ' to learn more about interactive tables.';\n",
              "          element.innerHTML = '';\n",
              "          dataTable['output_type'] = 'display_data';\n",
              "          await google.colab.output.renderOutput(dataTable, element);\n",
              "          const docLink = document.createElement('div');\n",
              "          docLink.innerHTML = docLinkHtml;\n",
              "          element.appendChild(docLink);\n",
              "        }\n",
              "      </script>\n",
              "    </div>\n",
              "  </div>\n",
              "  "
            ]
          },
          "metadata": {},
          "execution_count": 4
        }
      ]
    },
    {
      "cell_type": "code",
      "source": [
        "data.info()"
      ],
      "metadata": {
        "colab": {
          "base_uri": "https://localhost:8080/"
        },
        "id": "05ri6RCH4IYh",
        "outputId": "f76988ae-4b08-45b9-db48-327292a76018"
      },
      "execution_count": 5,
      "outputs": [
        {
          "output_type": "stream",
          "name": "stdout",
          "text": [
            "<class 'pandas.core.frame.DataFrame'>\n",
            "RangeIndex: 3424 entries, 0 to 3423\n",
            "Data columns (total 69 columns):\n",
            " #   Column                                                              Non-Null Count  Dtype \n",
            "---  ------                                                              --------------  ----- \n",
            " 0   Ptid                                                                3424 non-null   object\n",
            " 1   Persistency_Flag                                                    3424 non-null   object\n",
            " 2   Gender                                                              3424 non-null   object\n",
            " 3   Race                                                                3424 non-null   object\n",
            " 4   Ethnicity                                                           3424 non-null   object\n",
            " 5   Region                                                              3424 non-null   object\n",
            " 6   Age_Bucket                                                          3424 non-null   object\n",
            " 7   Ntm_Speciality                                                      3424 non-null   object\n",
            " 8   Ntm_Specialist_Flag                                                 3424 non-null   object\n",
            " 9   Ntm_Speciality_Bucket                                               3424 non-null   object\n",
            " 10  Gluco_Record_Prior_Ntm                                              3424 non-null   object\n",
            " 11  Gluco_Record_During_Rx                                              3424 non-null   object\n",
            " 12  Dexa_Freq_During_Rx                                                 3424 non-null   int64 \n",
            " 13  Dexa_During_Rx                                                      3424 non-null   object\n",
            " 14  Frag_Frac_Prior_Ntm                                                 3424 non-null   object\n",
            " 15  Frag_Frac_During_Rx                                                 3424 non-null   object\n",
            " 16  Risk_Segment_Prior_Ntm                                              3424 non-null   object\n",
            " 17  Tscore_Bucket_Prior_Ntm                                             3424 non-null   object\n",
            " 18  Risk_Segment_During_Rx                                              3424 non-null   object\n",
            " 19  Tscore_Bucket_During_Rx                                             3424 non-null   object\n",
            " 20  Change_T_Score                                                      3424 non-null   object\n",
            " 21  Change_Risk_Segment                                                 3424 non-null   object\n",
            " 22  Adherent_Flag                                                       3424 non-null   object\n",
            " 23  Idn_Indicator                                                       3424 non-null   object\n",
            " 24  Injectable_Experience_During_Rx                                     3424 non-null   object\n",
            " 25  Comorb_Encounter_For_Screening_For_Malignant_Neoplasms              3424 non-null   object\n",
            " 26  Comorb_Encounter_For_Immunization                                   3424 non-null   object\n",
            " 27  Comorb_Encntr_For_General_Exam_W_O_Complaint,_Susp_Or_Reprtd_Dx     3424 non-null   object\n",
            " 28  Comorb_Vitamin_D_Deficiency                                         3424 non-null   object\n",
            " 29  Comorb_Other_Joint_Disorder_Not_Elsewhere_Classified                3424 non-null   object\n",
            " 30  Comorb_Encntr_For_Oth_Sp_Exam_W_O_Complaint_Suspected_Or_Reprtd_Dx  3424 non-null   object\n",
            " 31  Comorb_Long_Term_Current_Drug_Therapy                               3424 non-null   object\n",
            " 32  Comorb_Dorsalgia                                                    3424 non-null   object\n",
            " 33  Comorb_Personal_History_Of_Other_Diseases_And_Conditions            3424 non-null   object\n",
            " 34  Comorb_Other_Disorders_Of_Bone_Density_And_Structure                3424 non-null   object\n",
            " 35  Comorb_Disorders_of_lipoprotein_metabolism_and_other_lipidemias     3424 non-null   object\n",
            " 36  Comorb_Osteoporosis_without_current_pathological_fracture           3424 non-null   object\n",
            " 37  Comorb_Personal_history_of_malignant_neoplasm                       3424 non-null   object\n",
            " 38  Comorb_Gastro_esophageal_reflux_disease                             3424 non-null   object\n",
            " 39  Concom_Cholesterol_And_Triglyceride_Regulating_Preparations         3424 non-null   object\n",
            " 40  Concom_Narcotics                                                    3424 non-null   object\n",
            " 41  Concom_Systemic_Corticosteroids_Plain                               3424 non-null   object\n",
            " 42  Concom_Anti_Depressants_And_Mood_Stabilisers                        3424 non-null   object\n",
            " 43  Concom_Fluoroquinolones                                             3424 non-null   object\n",
            " 44  Concom_Cephalosporins                                               3424 non-null   object\n",
            " 45  Concom_Macrolides_And_Similar_Types                                 3424 non-null   object\n",
            " 46  Concom_Broad_Spectrum_Penicillins                                   3424 non-null   object\n",
            " 47  Concom_Anaesthetics_General                                         3424 non-null   object\n",
            " 48  Concom_Viral_Vaccines                                               3424 non-null   object\n",
            " 49  Risk_Type_1_Insulin_Dependent_Diabetes                              3424 non-null   object\n",
            " 50  Risk_Osteogenesis_Imperfecta                                        3424 non-null   object\n",
            " 51  Risk_Rheumatoid_Arthritis                                           3424 non-null   object\n",
            " 52  Risk_Untreated_Chronic_Hyperthyroidism                              3424 non-null   object\n",
            " 53  Risk_Untreated_Chronic_Hypogonadism                                 3424 non-null   object\n",
            " 54  Risk_Untreated_Early_Menopause                                      3424 non-null   object\n",
            " 55  Risk_Patient_Parent_Fractured_Their_Hip                             3424 non-null   object\n",
            " 56  Risk_Smoking_Tobacco                                                3424 non-null   object\n",
            " 57  Risk_Chronic_Malnutrition_Or_Malabsorption                          3424 non-null   object\n",
            " 58  Risk_Chronic_Liver_Disease                                          3424 non-null   object\n",
            " 59  Risk_Family_History_Of_Osteoporosis                                 3424 non-null   object\n",
            " 60  Risk_Low_Calcium_Intake                                             3424 non-null   object\n",
            " 61  Risk_Vitamin_D_Insufficiency                                        3424 non-null   object\n",
            " 62  Risk_Poor_Health_Frailty                                            3424 non-null   object\n",
            " 63  Risk_Excessive_Thinness                                             3424 non-null   object\n",
            " 64  Risk_Hysterectomy_Oophorectomy                                      3424 non-null   object\n",
            " 65  Risk_Estrogen_Deficiency                                            3424 non-null   object\n",
            " 66  Risk_Immobilization                                                 3424 non-null   object\n",
            " 67  Risk_Recurring_Falls                                                3424 non-null   object\n",
            " 68  Count_Of_Risks                                                      3424 non-null   int64 \n",
            "dtypes: int64(2), object(67)\n",
            "memory usage: 1.8+ MB\n"
          ]
        }
      ]
    },
    {
      "cell_type": "code",
      "source": [
        "for col in data:\n",
        "  print(data[col].unique())"
      ],
      "metadata": {
        "colab": {
          "base_uri": "https://localhost:8080/"
        },
        "id": "OslbQf_34IiP",
        "outputId": "73c3869d-cb80-4fd8-ad05-a3ba58b8f1f5"
      },
      "execution_count": 8,
      "outputs": [
        {
          "output_type": "stream",
          "name": "stdout",
          "text": [
            "['P1' 'P2' 'P3' ... 'P3422' 'P3423' 'P3424']\n",
            "['Persistent' 'Non-Persistent']\n",
            "['Male' 'Female']\n",
            "['Caucasian' 'Asian' 'Other/Unknown' 'African American']\n",
            "['Not Hispanic' 'Hispanic' 'Unknown']\n",
            "['West' 'Midwest' 'South' 'Other/Unknown' 'Northeast']\n",
            "['>75' '55-65' '65-75' '<55']\n",
            "['GENERAL PRACTITIONER' 'Unknown' 'ENDOCRINOLOGY' 'RHEUMATOLOGY'\n",
            " 'ONCOLOGY' 'PATHOLOGY' 'OBSTETRICS AND GYNECOLOGY'\n",
            " 'PSYCHIATRY AND NEUROLOGY' 'ORTHOPEDIC SURGERY'\n",
            " 'PHYSICAL MEDICINE AND REHABILITATION' 'SURGERY AND SURGICAL SPECIALTIES'\n",
            " 'PEDIATRICS' 'PULMONARY MEDICINE' 'HEMATOLOGY & ONCOLOGY' 'UROLOGY'\n",
            " 'PAIN MEDICINE' 'NEUROLOGY' 'RADIOLOGY' 'GASTROENTEROLOGY'\n",
            " 'EMERGENCY MEDICINE' 'PODIATRY' 'OPHTHALMOLOGY' 'OCCUPATIONAL MEDICINE'\n",
            " 'TRANSPLANT SURGERY' 'PLASTIC SURGERY' 'CLINICAL NURSE SPECIALIST'\n",
            " 'OTOLARYNGOLOGY' 'HOSPITAL MEDICINE' 'ORTHOPEDICS' 'NEPHROLOGY'\n",
            " 'GERIATRIC MEDICINE' 'HOSPICE AND PALLIATIVE MEDICINE'\n",
            " 'OBSTETRICS & OBSTETRICS & GYNECOLOGY & OBSTETRICS & GYNECOLOGY'\n",
            " 'VASCULAR SURGERY' 'CARDIOLOGY' 'NUCLEAR MEDICINE']\n",
            "['Others' 'Specialist']\n",
            "['OB/GYN/Others/PCP/Unknown' 'Endo/Onc/Uro' 'Rheum']\n",
            "['N' 'Y']\n",
            "['N' 'Y']\n",
            "[  0   2   7   3   5  20  13   1   6  12   4  10  25  11  18  21  15  28\n",
            "  22  37  14   8   9  17  81  42  16  30  19  45  27  24  58  26  23  33\n",
            " 110  36  34  88  66  32 118  48  69  38  40  68  52  50 146  44  35  39\n",
            " 108  54  72  29]\n",
            "['N' 'Y']\n",
            "['N' 'Y']\n",
            "['N' 'Y']\n",
            "['VLR_LR' 'HR_VHR']\n",
            "['>-2.5' '<=-2.5']\n",
            "['VLR_LR' 'Unknown' 'HR_VHR']\n",
            "['<=-2.5' 'Unknown' '>-2.5']\n",
            "['No change' 'Unknown' 'Worsened' 'Improved']\n",
            "['Unknown' 'No change' 'Worsened' 'Improved']\n",
            "['Adherent' 'Non-Adherent']\n",
            "['N' 'Y']\n",
            "['Y' 'N']\n",
            "['N' 'Y']\n",
            "['Y' 'N']\n",
            "['Y' 'N']\n",
            "['N' 'Y']\n",
            "['N' 'Y']\n",
            "['Y' 'N']\n",
            "['N' 'Y']\n",
            "['Y' 'N']\n",
            "['Y' 'N']\n",
            "['N' 'Y']\n",
            "['N' 'Y']\n",
            "['N' 'Y']\n",
            "['N' 'Y']\n",
            "['N' 'Y']\n",
            "['N' 'Y']\n",
            "['N' 'Y']\n",
            "['N' 'Y']\n",
            "['N' 'Y']\n",
            "['N' 'Y']\n",
            "['N' 'Y']\n",
            "['N' 'Y']\n",
            "['N' 'Y']\n",
            "['N' 'Y']\n",
            "['N' 'Y']\n",
            "['N' 'Y']\n",
            "['N' 'Y']\n",
            "['N' 'Y']\n",
            "['N' 'Y']\n",
            "['N' 'Y']\n",
            "['N' 'Y']\n",
            "['N' 'Y']\n",
            "['N' 'Y']\n",
            "['N' 'Y']\n",
            "['N' 'Y']\n",
            "['N' 'Y']\n",
            "['N' 'Y']\n",
            "['N' 'Y']\n",
            "['N' 'Y']\n",
            "['N' 'Y']\n",
            "['N' 'Y']\n",
            "['N' 'Y']\n",
            "['N' 'Y']\n",
            "['N' 'Y']\n",
            "[0 2 1 3 4 5 6 7]\n"
          ]
        }
      ]
    },
    {
      "cell_type": "code",
      "source": [
        "patient_id='Ptid'\n",
        "data.drop(patient_id, axis=1, inplace=True)"
      ],
      "metadata": {
        "id": "zaBrZZ7dcPIQ"
      },
      "execution_count": 120,
      "outputs": []
    },
    {
      "cell_type": "code",
      "source": [
        "def value_counts(x):\n",
        "  print(x.value_counts(normalize=True))"
      ],
      "metadata": {
        "id": "jTAnQN9d7649"
      },
      "execution_count": 19,
      "outputs": []
    },
    {
      "cell_type": "code",
      "source": [
        "value_counts(data['Race'])\n",
        "value_counts(data['Ethnicity'])\n",
        "value_counts(data['Region'])\n",
        "value_counts(data['Ntm_Speciality'])\n",
        "value_counts(data['Ntm_Specialist_Flag'])\n",
        "value_counts(data['Ntm_Speciality_Bucket'])"
      ],
      "metadata": {
        "colab": {
          "base_uri": "https://localhost:8080/"
        },
        "id": "88YN_3_R8bbF",
        "outputId": "6e973da0-7fcb-4e39-dc7b-ba46964d5574"
      },
      "execution_count": 24,
      "outputs": [
        {
          "output_type": "stream",
          "name": "stdout",
          "text": [
            "Caucasian           0.919393\n",
            "Other/Unknown       0.028329\n",
            "African American    0.027745\n",
            "Asian               0.024533\n",
            "Name: Race, dtype: float64\n",
            "Not Hispanic    0.944801\n",
            "Hispanic        0.028621\n",
            "Unknown         0.026577\n",
            "Name: Ethnicity, dtype: float64\n",
            "Midwest          0.403914\n",
            "South            0.364194\n",
            "West             0.146612\n",
            "Northeast        0.067757\n",
            "Other/Unknown    0.017523\n",
            "Name: Region, dtype: float64\n",
            "GENERAL PRACTITIONER                                              0.448306\n",
            "RHEUMATOLOGY                                                      0.176402\n",
            "ENDOCRINOLOGY                                                     0.133762\n",
            "Unknown                                                           0.090537\n",
            "ONCOLOGY                                                          0.065713\n",
            "OBSTETRICS AND GYNECOLOGY                                         0.026285\n",
            "UROLOGY                                                           0.009638\n",
            "ORTHOPEDIC SURGERY                                                0.008762\n",
            "CARDIOLOGY                                                        0.006425\n",
            "PATHOLOGY                                                         0.004673\n",
            "HEMATOLOGY & ONCOLOGY                                             0.004089\n",
            "OTOLARYNGOLOGY                                                    0.004089\n",
            "PEDIATRICS                                                        0.003797\n",
            "PHYSICAL MEDICINE AND REHABILITATION                              0.003213\n",
            "PULMONARY MEDICINE                                                0.002336\n",
            "SURGERY AND SURGICAL SPECIALTIES                                  0.002336\n",
            "PSYCHIATRY AND NEUROLOGY                                          0.001168\n",
            "NEPHROLOGY                                                        0.000876\n",
            "ORTHOPEDICS                                                       0.000876\n",
            "PLASTIC SURGERY                                                   0.000584\n",
            "VASCULAR SURGERY                                                  0.000584\n",
            "HOSPICE AND PALLIATIVE MEDICINE                                   0.000584\n",
            "GERIATRIC MEDICINE                                                0.000584\n",
            "GASTROENTEROLOGY                                                  0.000584\n",
            "TRANSPLANT SURGERY                                                0.000584\n",
            "CLINICAL NURSE SPECIALIST                                         0.000292\n",
            "OCCUPATIONAL MEDICINE                                             0.000292\n",
            "HOSPITAL MEDICINE                                                 0.000292\n",
            "OPHTHALMOLOGY                                                     0.000292\n",
            "PODIATRY                                                          0.000292\n",
            "EMERGENCY MEDICINE                                                0.000292\n",
            "RADIOLOGY                                                         0.000292\n",
            "OBSTETRICS & OBSTETRICS & GYNECOLOGY & OBSTETRICS & GYNECOLOGY    0.000292\n",
            "NEUROLOGY                                                         0.000292\n",
            "PAIN MEDICINE                                                     0.000292\n",
            "NUCLEAR MEDICINE                                                  0.000292\n",
            "Name: Ntm_Speciality, dtype: float64\n",
            "Others        0.587909\n",
            "Specialist    0.412091\n",
            "Name: Ntm_Specialist_Flag, dtype: float64\n",
            "OB/GYN/Others/PCP/Unknown    0.614486\n",
            "Endo/Onc/Uro                 0.209112\n",
            "Rheum                        0.176402\n",
            "Name: Ntm_Speciality_Bucket, dtype: float64\n"
          ]
        }
      ]
    },
    {
      "cell_type": "code",
      "source": [
        "value_counts(data['Risk_Segment_During_Rx'])\n",
        "value_counts(data['Change_T_Score'])\n",
        "value_counts(data['Tscore_Bucket_During_Rx'])\n",
        "value_counts(data['Change_Risk_Segment'])"
      ],
      "metadata": {
        "colab": {
          "base_uri": "https://localhost:8080/"
        },
        "id": "92EeA94i4I-U",
        "outputId": "cb54a443-42b6-491e-ec65-2a26d451e220"
      },
      "execution_count": 39,
      "outputs": [
        {
          "output_type": "stream",
          "name": "stdout",
          "text": [
            "Unknown    0.437208\n",
            "HR_VHR     0.281834\n",
            "VLR_LR     0.280958\n",
            "Name: Risk_Segment_During_Rx, dtype: float64\n",
            "No change    0.484813\n",
            "Unknown      0.437208\n",
            "Worsened     0.050526\n",
            "Improved     0.027453\n",
            "Name: Change_T_Score, dtype: float64\n",
            "Unknown    0.437208\n",
            "<=-2.5     0.297021\n",
            ">-2.5      0.265771\n",
            "Name: Tscore_Bucket_During_Rx, dtype: float64\n",
            "Unknown      0.650993\n",
            "No change    0.307243\n",
            "Worsened     0.035339\n",
            "Improved     0.006425\n",
            "Name: Change_Risk_Segment, dtype: float64\n"
          ]
        }
      ]
    },
    {
      "cell_type": "code",
      "source": [
        "data['Tscore_Bucket_Prior_Ntm'].value_counts()"
      ],
      "metadata": {
        "colab": {
          "base_uri": "https://localhost:8080/"
        },
        "id": "aTJgI-RM4JA4",
        "outputId": "d12fac31-295b-4923-907c-321977a22bd1"
      },
      "execution_count": 26,
      "outputs": [
        {
          "output_type": "execute_result",
          "data": {
            "text/plain": [
              ">-2.5     1951\n",
              "<=-2.5    1473\n",
              "Name: Tscore_Bucket_Prior_Ntm, dtype: int64"
            ]
          },
          "metadata": {},
          "execution_count": 26
        }
      ]
    },
    {
      "cell_type": "code",
      "source": [
        "data.loc[data['Change_T_Score']=='Unknown',['Tscore_Bucket_Prior_Ntm', 'Tscore_Bucket_During_Rx']].value_counts()"
      ],
      "metadata": {
        "colab": {
          "base_uri": "https://localhost:8080/"
        },
        "id": "jM_34Cvo4JHT",
        "outputId": "61db39b7-dca6-47e4-a7b1-09093b3ce1ac"
      },
      "execution_count": 37,
      "outputs": [
        {
          "output_type": "execute_result",
          "data": {
            "text/plain": [
              "Tscore_Bucket_Prior_Ntm  Tscore_Bucket_During_Rx\n",
              ">-2.5                    Unknown                    869\n",
              "<=-2.5                   Unknown                    628\n",
              "dtype: int64"
            ]
          },
          "metadata": {},
          "execution_count": 37
        }
      ]
    },
    {
      "cell_type": "code",
      "source": [
        "#See that can not use Tscore_Bucket_During_Rx to fill in missing in the Chane_T_Score column"
      ],
      "metadata": {
        "id": "9tbHvDwjQvBG"
      },
      "execution_count": 40,
      "outputs": []
    },
    {
      "cell_type": "code",
      "source": [
        "dropped_columns = ['Risk_Segment_During_Rx','Change_T_Score', 'Tscore_Bucket_During_Rx','Change_Risk_Segment']\n",
        "data.drop(dropped_columns, axis=1, inplace=True)"
      ],
      "metadata": {
        "id": "b1s5d0GzDA_L"
      },
      "execution_count": 121,
      "outputs": []
    },
    {
      "cell_type": "markdown",
      "source": [
        "Filling in column values"
      ],
      "metadata": {
        "id": "TDXwTFD0KXoN"
      }
    },
    {
      "cell_type": "code",
      "source": [
        "# Race\n",
        "# Majority is Caucasian so safe to use mode value of Caucasian to fill in unknown\n",
        "data['Race'] = data['Race'].replace(['Other/Unknown'],'Caucasian')\n",
        "value_counts(data['Race'])\n"
      ],
      "metadata": {
        "colab": {
          "base_uri": "https://localhost:8080/"
        },
        "id": "B4liDG4pDBET",
        "outputId": "cb6fa6ea-3e9a-460d-b19c-f42bfa44a5e2"
      },
      "execution_count": 122,
      "outputs": [
        {
          "output_type": "stream",
          "name": "stdout",
          "text": [
            "Caucasian           0.947722\n",
            "African American    0.027745\n",
            "Asian               0.024533\n",
            "Name: Race, dtype: float64\n"
          ]
        }
      ]
    },
    {
      "cell_type": "code",
      "source": [
        "# Ethnicity\n",
        "# Majority is Not Hispanic with 94% of the values being so therefore safe to use the mode to fill in values\n",
        "data['Ethnicity'] = data['Ethnicity'].replace(['Unknown'], 'Not Hispanic')\n",
        "value_counts(data['Ethnicity'])"
      ],
      "metadata": {
        "colab": {
          "base_uri": "https://localhost:8080/"
        },
        "id": "U4rtUeNeDBJo",
        "outputId": "c73d82d7-fb5b-41c9-afe3-5b21bc49aadb"
      },
      "execution_count": 123,
      "outputs": [
        {
          "output_type": "stream",
          "name": "stdout",
          "text": [
            "Not Hispanic    0.971379\n",
            "Hispanic        0.028621\n",
            "Name: Ethnicity, dtype: float64\n"
          ]
        }
      ]
    },
    {
      "cell_type": "code",
      "source": [
        "# Region\n",
        "#Will use the ethnicity column to find clues since it has the highest percentage on completed values\n",
        "data.loc[data['Region']=='Other/Unknown',['Ethnicity']].value_counts()\n"
      ],
      "metadata": {
        "colab": {
          "base_uri": "https://localhost:8080/"
        },
        "id": "nh4w1lnqDBPK",
        "outputId": "8c7c8453-650e-4a52-ddc5-74b452ce9919"
      },
      "execution_count": 124,
      "outputs": [
        {
          "output_type": "execute_result",
          "data": {
            "text/plain": [
              "Ethnicity   \n",
              "Not Hispanic    59\n",
              "Hispanic         1\n",
              "dtype: int64"
            ]
          },
          "metadata": {},
          "execution_count": 124
        }
      ]
    },
    {
      "cell_type": "code",
      "source": [
        "#Majority of the most unknown ethnic group is Not Hispanic for an unknown region. Therefore can use the mode for the Ethnic group not hispanic to fill in missing Region values\n",
        "#Most common region is Midwest\n",
        "data['Region'] = data['Region'].replace(['Other/Unknown'],'Midwest')\n",
        "value_counts(data['Region'])"
      ],
      "metadata": {
        "colab": {
          "base_uri": "https://localhost:8080/"
        },
        "id": "IKogjW2xL2Th",
        "outputId": "e57e2784-1f56-43bd-891a-b8d4912d5e01"
      },
      "execution_count": 125,
      "outputs": [
        {
          "output_type": "stream",
          "name": "stdout",
          "text": [
            "Midwest      0.421437\n",
            "South        0.364194\n",
            "West         0.146612\n",
            "Northeast    0.067757\n",
            "Name: Region, dtype: float64\n"
          ]
        }
      ]
    },
    {
      "cell_type": "code",
      "source": [
        "#Finding all the columns whose values are just Y or N\n",
        "yes= ['Y']\n",
        "list_of_columns=data.columns[data.isin(yes).any()]"
      ],
      "metadata": {
        "id": "cr5w555pXgzG"
      },
      "execution_count": 112,
      "outputs": []
    },
    {
      "cell_type": "code",
      "source": [
        "def y1_n0(x):\n",
        "  x =x.replace({'Y': 1,'N':0})\n",
        "  return x\n"
      ],
      "metadata": {
        "id": "KJoJRYk7M7th"
      },
      "execution_count": 126,
      "outputs": []
    },
    {
      "cell_type": "code",
      "source": [
        "#Changing all the Y's to 1's and N's to 0\n",
        "for a in list_of_columns:\n",
        "  data[a] = y1_n0(data[a]) "
      ],
      "metadata": {
        "id": "mrlY5RqcY9Va"
      },
      "execution_count": 127,
      "outputs": []
    },
    {
      "cell_type": "code",
      "source": [
        "for col in data:\n",
        "  print(data[col].unique())"
      ],
      "metadata": {
        "outputId": "a987b8b1-98d8-41d3-be99-eaf492cd3f3c",
        "colab": {
          "base_uri": "https://localhost:8080/"
        },
        "id": "e4NKlA8mM9t8"
      },
      "execution_count": 128,
      "outputs": [
        {
          "output_type": "stream",
          "name": "stdout",
          "text": [
            "['Persistent' 'Non-Persistent']\n",
            "['Male' 'Female']\n",
            "['Caucasian' 'Asian' 'African American']\n",
            "['Not Hispanic' 'Hispanic']\n",
            "['West' 'Midwest' 'South' 'Northeast']\n",
            "['>75' '55-65' '65-75' '<55']\n",
            "['GENERAL PRACTITIONER' 'Unknown' 'ENDOCRINOLOGY' 'RHEUMATOLOGY'\n",
            " 'ONCOLOGY' 'PATHOLOGY' 'OBSTETRICS AND GYNECOLOGY'\n",
            " 'PSYCHIATRY AND NEUROLOGY' 'ORTHOPEDIC SURGERY'\n",
            " 'PHYSICAL MEDICINE AND REHABILITATION' 'SURGERY AND SURGICAL SPECIALTIES'\n",
            " 'PEDIATRICS' 'PULMONARY MEDICINE' 'HEMATOLOGY & ONCOLOGY' 'UROLOGY'\n",
            " 'PAIN MEDICINE' 'NEUROLOGY' 'RADIOLOGY' 'GASTROENTEROLOGY'\n",
            " 'EMERGENCY MEDICINE' 'PODIATRY' 'OPHTHALMOLOGY' 'OCCUPATIONAL MEDICINE'\n",
            " 'TRANSPLANT SURGERY' 'PLASTIC SURGERY' 'CLINICAL NURSE SPECIALIST'\n",
            " 'OTOLARYNGOLOGY' 'HOSPITAL MEDICINE' 'ORTHOPEDICS' 'NEPHROLOGY'\n",
            " 'GERIATRIC MEDICINE' 'HOSPICE AND PALLIATIVE MEDICINE'\n",
            " 'OBSTETRICS & OBSTETRICS & GYNECOLOGY & OBSTETRICS & GYNECOLOGY'\n",
            " 'VASCULAR SURGERY' 'CARDIOLOGY' 'NUCLEAR MEDICINE']\n",
            "['Others' 'Specialist']\n",
            "['OB/GYN/Others/PCP/Unknown' 'Endo/Onc/Uro' 'Rheum']\n",
            "[0 1]\n",
            "[0 1]\n",
            "[  0   2   7   3   5  20  13   1   6  12   4  10  25  11  18  21  15  28\n",
            "  22  37  14   8   9  17  81  42  16  30  19  45  27  24  58  26  23  33\n",
            " 110  36  34  88  66  32 118  48  69  38  40  68  52  50 146  44  35  39\n",
            " 108  54  72  29]\n",
            "[0 1]\n",
            "[0 1]\n",
            "[0 1]\n",
            "['VLR_LR' 'HR_VHR']\n",
            "['>-2.5' '<=-2.5']\n",
            "['Adherent' 'Non-Adherent']\n",
            "[0 1]\n",
            "[1 0]\n",
            "[0 1]\n",
            "[1 0]\n",
            "[1 0]\n",
            "[0 1]\n",
            "[0 1]\n",
            "[1 0]\n",
            "[0 1]\n",
            "[1 0]\n",
            "[1 0]\n",
            "[0 1]\n",
            "[0 1]\n",
            "[0 1]\n",
            "[0 1]\n",
            "[0 1]\n",
            "[0 1]\n",
            "[0 1]\n",
            "[0 1]\n",
            "[0 1]\n",
            "[0 1]\n",
            "[0 1]\n",
            "[0 1]\n",
            "[0 1]\n",
            "[0 1]\n",
            "[0 1]\n",
            "[0 1]\n",
            "[0 1]\n",
            "[0 1]\n",
            "[0 1]\n",
            "[0 1]\n",
            "[0 1]\n",
            "[0 1]\n",
            "[0 1]\n",
            "[0 1]\n",
            "[0 1]\n",
            "[0 1]\n",
            "[0 1]\n",
            "[0 1]\n",
            "[0 1]\n",
            "[0 1]\n",
            "[0 1]\n",
            "[0 1]\n",
            "[0 1]\n",
            "[0 1]\n",
            "[0 2 1 3 4 5 6 7]\n"
          ]
        }
      ]
    },
    {
      "cell_type": "code",
      "source": [
        "def onehotencoder(column_name,df):\n",
        "  column_name_ohe = df[[column_name]]\n",
        "  ohe = OneHotEncoder(categories='auto', sparse=False)\n",
        "  ohe.fit(column_name_ohe)\n",
        "  column_transformed = ohe.transform(column_name_ohe)\n",
        "  column_encoded_ohe=pd.DateFrame(column_transformed,columns = ohe.get_feature_names([column_name]),index=df.index)\n",
        "  return column_encoded_ohe"
      ],
      "metadata": {
        "id": "JYQbWa-LbAAg"
      },
      "execution_count": 137,
      "outputs": []
    },
    {
      "cell_type": "code",
      "source": [],
      "metadata": {
        "id": "1HPwgjY9kCz3"
      },
      "execution_count": null,
      "outputs": []
    },
    {
      "cell_type": "code",
      "source": [
        "list_of_str_columns=data.select_dtypes(include='object').columns\n",
        "list_of_str_columns"
      ],
      "metadata": {
        "id": "h4UJ4dI7b-MX"
      },
      "execution_count": null,
      "outputs": []
    },
    {
      "cell_type": "code",
      "source": [
        "hhh = onehotencoder('Gender',data)"
      ],
      "metadata": {
        "id": "wsKyplC5jAp6",
        "outputId": "9d38f844-b1e9-42c1-8c9d-62e10a0bf41b",
        "colab": {
          "base_uri": "https://localhost:8080/",
          "height": 311
        }
      },
      "execution_count": 138,
      "outputs": [
        {
          "output_type": "error",
          "ename": "AttributeError",
          "evalue": "ignored",
          "traceback": [
            "\u001b[0;31m---------------------------------------------------------------------------\u001b[0m",
            "\u001b[0;31mAttributeError\u001b[0m                            Traceback (most recent call last)",
            "\u001b[0;32m<ipython-input-138-8eb0973747d4>\u001b[0m in \u001b[0;36m<module>\u001b[0;34m\u001b[0m\n\u001b[0;32m----> 1\u001b[0;31m \u001b[0mhhh\u001b[0m \u001b[0;34m=\u001b[0m \u001b[0monehotencoder\u001b[0m\u001b[0;34m(\u001b[0m\u001b[0;34m'Gender'\u001b[0m\u001b[0;34m,\u001b[0m\u001b[0mdata\u001b[0m\u001b[0;34m)\u001b[0m\u001b[0;34m\u001b[0m\u001b[0;34m\u001b[0m\u001b[0m\n\u001b[0m",
            "\u001b[0;32m<ipython-input-137-79e4a7467656>\u001b[0m in \u001b[0;36monehotencoder\u001b[0;34m(column_name, df)\u001b[0m\n\u001b[1;32m      4\u001b[0m   \u001b[0mohe\u001b[0m\u001b[0;34m.\u001b[0m\u001b[0mfit\u001b[0m\u001b[0;34m(\u001b[0m\u001b[0mcolumn_name_ohe\u001b[0m\u001b[0;34m)\u001b[0m\u001b[0;34m\u001b[0m\u001b[0;34m\u001b[0m\u001b[0m\n\u001b[1;32m      5\u001b[0m   \u001b[0mcolumn_transformed\u001b[0m \u001b[0;34m=\u001b[0m \u001b[0mohe\u001b[0m\u001b[0;34m.\u001b[0m\u001b[0mtransform\u001b[0m\u001b[0;34m(\u001b[0m\u001b[0mcolumn_name_ohe\u001b[0m\u001b[0;34m)\u001b[0m\u001b[0;34m\u001b[0m\u001b[0;34m\u001b[0m\u001b[0m\n\u001b[0;32m----> 6\u001b[0;31m   \u001b[0mcolumn_encoded_ohe\u001b[0m\u001b[0;34m=\u001b[0m\u001b[0mpd\u001b[0m\u001b[0;34m.\u001b[0m\u001b[0mDateFrame\u001b[0m\u001b[0;34m(\u001b[0m\u001b[0mcolumn_transformed\u001b[0m\u001b[0;34m,\u001b[0m\u001b[0mcolumns\u001b[0m \u001b[0;34m=\u001b[0m \u001b[0mohe\u001b[0m\u001b[0;34m.\u001b[0m\u001b[0mget_feature_names\u001b[0m\u001b[0;34m(\u001b[0m\u001b[0;34m[\u001b[0m\u001b[0mcolumn_name\u001b[0m\u001b[0;34m]\u001b[0m\u001b[0;34m)\u001b[0m\u001b[0;34m,\u001b[0m\u001b[0mindex\u001b[0m\u001b[0;34m=\u001b[0m\u001b[0mdf\u001b[0m\u001b[0;34m.\u001b[0m\u001b[0mindex\u001b[0m\u001b[0;34m)\u001b[0m\u001b[0;34m\u001b[0m\u001b[0;34m\u001b[0m\u001b[0m\n\u001b[0m\u001b[1;32m      7\u001b[0m   \u001b[0;32mreturn\u001b[0m \u001b[0mcolumn_encoded_ohe\u001b[0m\u001b[0;34m\u001b[0m\u001b[0;34m\u001b[0m\u001b[0m\n",
            "\u001b[0;32m/usr/local/lib/python3.8/dist-packages/pandas/__init__.py\u001b[0m in \u001b[0;36m__getattr__\u001b[0;34m(name)\u001b[0m\n\u001b[1;32m    242\u001b[0m         \u001b[0;32mreturn\u001b[0m \u001b[0m_SparseArray\u001b[0m\u001b[0;34m\u001b[0m\u001b[0;34m\u001b[0m\u001b[0m\n\u001b[1;32m    243\u001b[0m \u001b[0;34m\u001b[0m\u001b[0m\n\u001b[0;32m--> 244\u001b[0;31m     \u001b[0;32mraise\u001b[0m \u001b[0mAttributeError\u001b[0m\u001b[0;34m(\u001b[0m\u001b[0;34mf\"module 'pandas' has no attribute '{name}'\"\u001b[0m\u001b[0;34m)\u001b[0m\u001b[0;34m\u001b[0m\u001b[0;34m\u001b[0m\u001b[0m\n\u001b[0m\u001b[1;32m    245\u001b[0m \u001b[0;34m\u001b[0m\u001b[0m\n\u001b[1;32m    246\u001b[0m \u001b[0;34m\u001b[0m\u001b[0m\n",
            "\u001b[0;31mAttributeError\u001b[0m: module 'pandas' has no attribute 'DateFrame'"
          ]
        }
      ]
    },
    {
      "cell_type": "code",
      "source": [
        "b = onehotencoder('Gender', data)\n",
        "c = onehotencoder('Race', data)\n",
        "d = onehotencoder('Ethnicicty', data)\n",
        "e = onehotencoder('Region', data)\n",
        "f = onehotencoder('Age_Bucket', data)\n",
        "g = onehotencoder('Ntm_Speciality', data)\n",
        "h = onehotencoder('Ntm_Specialist_Flag', data)\n",
        "i = onehotencoder('Ntm_Speciality_Bucket', data)\n",
        "j = onehotencoder('Risk_Segment_Prior_Ntm', data)\n",
        "k = onehotencoder('Tscore_Bucket_Prior_Ntm', data)\n",
        "l = onehotencoder('Adherent_Flag', data)\n",
        "m = onehotencoder('Count_Of_Risks', data)"
      ],
      "metadata": {
        "id": "XZc-GSjlb-Oo",
        "outputId": "b5343ca0-b16a-4410-c528-a4fa2d7c2950",
        "colab": {
          "base_uri": "https://localhost:8080/",
          "height": 380
        }
      },
      "execution_count": 134,
      "outputs": [
        {
          "output_type": "error",
          "ename": "AttributeError",
          "evalue": "ignored",
          "traceback": [
            "\u001b[0;31m---------------------------------------------------------------------------\u001b[0m",
            "\u001b[0;31mAttributeError\u001b[0m                            Traceback (most recent call last)",
            "\u001b[0;32m<ipython-input-134-bab4799d85fd>\u001b[0m in \u001b[0;36m<module>\u001b[0;34m\u001b[0m\n\u001b[0;32m----> 1\u001b[0;31m \u001b[0mb\u001b[0m \u001b[0;34m=\u001b[0m \u001b[0monehotencoder\u001b[0m\u001b[0;34m(\u001b[0m\u001b[0;34m'Gender'\u001b[0m\u001b[0;34m,\u001b[0m \u001b[0mdata\u001b[0m\u001b[0;34m)\u001b[0m\u001b[0;34m\u001b[0m\u001b[0;34m\u001b[0m\u001b[0m\n\u001b[0m\u001b[1;32m      2\u001b[0m \u001b[0mc\u001b[0m \u001b[0;34m=\u001b[0m \u001b[0monehotencoder\u001b[0m\u001b[0;34m(\u001b[0m\u001b[0;34m'Race'\u001b[0m\u001b[0;34m,\u001b[0m \u001b[0mdata\u001b[0m\u001b[0;34m)\u001b[0m\u001b[0;34m\u001b[0m\u001b[0;34m\u001b[0m\u001b[0m\n\u001b[1;32m      3\u001b[0m \u001b[0md\u001b[0m \u001b[0;34m=\u001b[0m \u001b[0monehotencoder\u001b[0m\u001b[0;34m(\u001b[0m\u001b[0;34m'Ethnicicty'\u001b[0m\u001b[0;34m,\u001b[0m \u001b[0mdata\u001b[0m\u001b[0;34m)\u001b[0m\u001b[0;34m\u001b[0m\u001b[0;34m\u001b[0m\u001b[0m\n\u001b[1;32m      4\u001b[0m \u001b[0me\u001b[0m \u001b[0;34m=\u001b[0m \u001b[0monehotencoder\u001b[0m\u001b[0;34m(\u001b[0m\u001b[0;34m'Region'\u001b[0m\u001b[0;34m,\u001b[0m \u001b[0mdata\u001b[0m\u001b[0;34m)\u001b[0m\u001b[0;34m\u001b[0m\u001b[0;34m\u001b[0m\u001b[0m\n\u001b[1;32m      5\u001b[0m \u001b[0mf\u001b[0m \u001b[0;34m=\u001b[0m \u001b[0monehotencoder\u001b[0m\u001b[0;34m(\u001b[0m\u001b[0;34m'Age_Bucket'\u001b[0m\u001b[0;34m,\u001b[0m \u001b[0mdata\u001b[0m\u001b[0;34m)\u001b[0m\u001b[0;34m\u001b[0m\u001b[0;34m\u001b[0m\u001b[0m\n",
            "\u001b[0;32m<ipython-input-129-79e4a7467656>\u001b[0m in \u001b[0;36monehotencoder\u001b[0;34m(column_name, df)\u001b[0m\n\u001b[1;32m      4\u001b[0m   \u001b[0mohe\u001b[0m\u001b[0;34m.\u001b[0m\u001b[0mfit\u001b[0m\u001b[0;34m(\u001b[0m\u001b[0mcolumn_name_ohe\u001b[0m\u001b[0;34m)\u001b[0m\u001b[0;34m\u001b[0m\u001b[0;34m\u001b[0m\u001b[0m\n\u001b[1;32m      5\u001b[0m   \u001b[0mcolumn_transformed\u001b[0m \u001b[0;34m=\u001b[0m \u001b[0mohe\u001b[0m\u001b[0;34m.\u001b[0m\u001b[0mtransform\u001b[0m\u001b[0;34m(\u001b[0m\u001b[0mcolumn_name_ohe\u001b[0m\u001b[0;34m)\u001b[0m\u001b[0;34m\u001b[0m\u001b[0;34m\u001b[0m\u001b[0m\n\u001b[0;32m----> 6\u001b[0;31m   \u001b[0mcolumn_encoded_ohe\u001b[0m\u001b[0;34m=\u001b[0m\u001b[0mpd\u001b[0m\u001b[0;34m.\u001b[0m\u001b[0mDateFrame\u001b[0m\u001b[0;34m(\u001b[0m\u001b[0mcolumn_transformed\u001b[0m\u001b[0;34m,\u001b[0m\u001b[0mcolumns\u001b[0m \u001b[0;34m=\u001b[0m \u001b[0mohe\u001b[0m\u001b[0;34m.\u001b[0m\u001b[0mget_feature_names\u001b[0m\u001b[0;34m(\u001b[0m\u001b[0;34m[\u001b[0m\u001b[0mcolumn_name\u001b[0m\u001b[0;34m]\u001b[0m\u001b[0;34m)\u001b[0m\u001b[0;34m,\u001b[0m\u001b[0mindex\u001b[0m\u001b[0;34m=\u001b[0m\u001b[0mdf\u001b[0m\u001b[0;34m.\u001b[0m\u001b[0mindex\u001b[0m\u001b[0;34m)\u001b[0m\u001b[0;34m\u001b[0m\u001b[0;34m\u001b[0m\u001b[0m\n\u001b[0m\u001b[1;32m      7\u001b[0m   \u001b[0;32mreturn\u001b[0m \u001b[0mcolumn_encoded_ohe\u001b[0m\u001b[0;34m\u001b[0m\u001b[0;34m\u001b[0m\u001b[0m\n",
            "\u001b[0;32m/usr/local/lib/python3.8/dist-packages/pandas/__init__.py\u001b[0m in \u001b[0;36m__getattr__\u001b[0;34m(name)\u001b[0m\n\u001b[1;32m    242\u001b[0m         \u001b[0;32mreturn\u001b[0m \u001b[0m_SparseArray\u001b[0m\u001b[0;34m\u001b[0m\u001b[0;34m\u001b[0m\u001b[0m\n\u001b[1;32m    243\u001b[0m \u001b[0;34m\u001b[0m\u001b[0m\n\u001b[0;32m--> 244\u001b[0;31m     \u001b[0;32mraise\u001b[0m \u001b[0mAttributeError\u001b[0m\u001b[0;34m(\u001b[0m\u001b[0;34mf\"module 'pandas' has no attribute '{name}'\"\u001b[0m\u001b[0;34m)\u001b[0m\u001b[0;34m\u001b[0m\u001b[0;34m\u001b[0m\u001b[0m\n\u001b[0m\u001b[1;32m    245\u001b[0m \u001b[0;34m\u001b[0m\u001b[0m\n\u001b[1;32m    246\u001b[0m \u001b[0;34m\u001b[0m\u001b[0m\n",
            "\u001b[0;31mAttributeError\u001b[0m: module 'pandas' has no attribute 'DateFrame'"
          ]
        }
      ]
    }
  ]
}