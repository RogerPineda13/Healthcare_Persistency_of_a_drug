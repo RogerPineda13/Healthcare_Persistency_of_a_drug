{
  "nbformat": 4,
  "nbformat_minor": 0,
  "metadata": {
    "colab": {
      "provenance": [],
      "authorship_tag": "ABX9TyP5PLHJe80q85S2w5q0aBgz",
      "include_colab_link": true
    },
    "kernelspec": {
      "name": "python3",
      "display_name": "Python 3"
    },
    "language_info": {
      "name": "python"
    }
  },
  "cells": [
    {
      "cell_type": "markdown",
      "metadata": {
        "id": "view-in-github",
        "colab_type": "text"
      },
      "source": [
        "<a href=\"https://colab.research.google.com/github/RogerPineda13/Healthcare_Persistency_of_a_drug/blob/main/Week12/Modeling.ipynb\" target=\"_parent\"><img src=\"https://colab.research.google.com/assets/colab-badge.svg\" alt=\"Open In Colab\"/></a>"
      ]
    },
    {
      "cell_type": "code",
      "source": [
        "import pandas as pd\n",
        "import pickle\n",
        "import numpy as np\n",
        "import matplotlib.pyplot as plt\n",
        "import seaborn as sns\n",
        "\n",
        "from sklearn.linear_model import LogisticRegression\n",
        "from sklearn.neighbors import KNeighborsClassifier\n",
        "from sklearn.tree import DecisionTreeClassifier\n",
        "from sklearn.dummy import DummyClassifier\n",
        "from sklearn.ensemble import RandomForestClassifier\n",
        "\n",
        "from sklearn.model_selection import train_test_split, GridSearchCV, cross_val_score, RandomizedSearchCV\n",
        "\n",
        "from sklearn.metrics import precision_score, recall_score, log_loss, plot_confusion_matrix,\\\n",
        "accuracy_score, f1_score, roc_auc_score, roc_curve, confusion_matrix\n",
        "\n",
        "import warnings\n",
        "warnings.filterwarnings(\"ignore\")"
      ],
      "metadata": {
        "id": "JPhQQSnAHEZc"
      },
      "execution_count": 1,
      "outputs": []
    },
    {
      "cell_type": "code",
      "source": [
        "# function to calculate different types of model scores and cross validation score.\n",
        "# at the end of the function, confusion matrix is plotted\n",
        "\n",
        "def model_score(model, X, y_predict, y_true):\n",
        "    acc = accuracy_score(y_predict, y_true)\n",
        "    rec = recall_score(y_predict, y_true, average='weighted')\n",
        "    f1 = f1_score(y_predict, y_true, average='weighted')\n",
        "    prec = precision_score(y_predict, y_true, average='weighted')\n",
        "    cross = cross_val_score(estimator=model, X=X, y=y_true, cv=10).mean()\n",
        "    \n",
        "    print(f' The accuracy score is: {round(acc, 4)}')\n",
        "    print(f' The cross validation score of accuracy is: {round(cross, 4)}')\n",
        "    print(f' The recall score is: {round(rec, 4)}')\n",
        "    print(f' The F1 score is: {round(f1, 4)}')\n",
        "    print(f' The precision score is: {round(prec, 4)}')\n",
        "    \n",
        "    return plot_confusion_matrix(model, X, y_true);\n",
        "\n",
        "def roc_auc_curve(fpr,tpr):\n",
        "  plt.plot(fpr,tpr)\n",
        "  plt.xlabel(\"False Positive Rate\")\n",
        "  plt.ylabel(\"True Positive Rate\")\n",
        "  plt.title(\"ROC AUC CURVE\")\n",
        "  plt.show()\n",
        "\n",
        "def change_width(ax, new_value) :\n",
        "    for patch in ax.patches :\n",
        "        current_width = patch.get_width()\n",
        "        diff = current_width - new_value\n",
        "        patch.set_width(new_value)\n",
        "        patch.set_x(patch.get_x() + diff * .5)\n",
        "\n"
      ],
      "metadata": {
        "id": "Rtxj-4csJ5Zw"
      },
      "execution_count": 2,
      "outputs": []
    },
    {
      "cell_type": "code",
      "execution_count": 4,
      "metadata": {
        "colab": {
          "base_uri": "https://localhost:8080/",
          "height": 73
        },
        "id": "FN0KUr1xG9Ag",
        "outputId": "ff02d64d-1ac6-4f68-aec4-87b1e693fd6b"
      },
      "outputs": [
        {
          "output_type": "display_data",
          "data": {
            "text/plain": [
              "<IPython.core.display.HTML object>"
            ],
            "text/html": [
              "\n",
              "     <input type=\"file\" id=\"files-7d0f85cc-fa5f-47b0-85c7-4f2639945169\" name=\"files[]\" multiple disabled\n",
              "        style=\"border:none\" />\n",
              "     <output id=\"result-7d0f85cc-fa5f-47b0-85c7-4f2639945169\">\n",
              "      Upload widget is only available when the cell has been executed in the\n",
              "      current browser session. Please rerun this cell to enable.\n",
              "      </output>\n",
              "      <script>// Copyright 2017 Google LLC\n",
              "//\n",
              "// Licensed under the Apache License, Version 2.0 (the \"License\");\n",
              "// you may not use this file except in compliance with the License.\n",
              "// You may obtain a copy of the License at\n",
              "//\n",
              "//      http://www.apache.org/licenses/LICENSE-2.0\n",
              "//\n",
              "// Unless required by applicable law or agreed to in writing, software\n",
              "// distributed under the License is distributed on an \"AS IS\" BASIS,\n",
              "// WITHOUT WARRANTIES OR CONDITIONS OF ANY KIND, either express or implied.\n",
              "// See the License for the specific language governing permissions and\n",
              "// limitations under the License.\n",
              "\n",
              "/**\n",
              " * @fileoverview Helpers for google.colab Python module.\n",
              " */\n",
              "(function(scope) {\n",
              "function span(text, styleAttributes = {}) {\n",
              "  const element = document.createElement('span');\n",
              "  element.textContent = text;\n",
              "  for (const key of Object.keys(styleAttributes)) {\n",
              "    element.style[key] = styleAttributes[key];\n",
              "  }\n",
              "  return element;\n",
              "}\n",
              "\n",
              "// Max number of bytes which will be uploaded at a time.\n",
              "const MAX_PAYLOAD_SIZE = 100 * 1024;\n",
              "\n",
              "function _uploadFiles(inputId, outputId) {\n",
              "  const steps = uploadFilesStep(inputId, outputId);\n",
              "  const outputElement = document.getElementById(outputId);\n",
              "  // Cache steps on the outputElement to make it available for the next call\n",
              "  // to uploadFilesContinue from Python.\n",
              "  outputElement.steps = steps;\n",
              "\n",
              "  return _uploadFilesContinue(outputId);\n",
              "}\n",
              "\n",
              "// This is roughly an async generator (not supported in the browser yet),\n",
              "// where there are multiple asynchronous steps and the Python side is going\n",
              "// to poll for completion of each step.\n",
              "// This uses a Promise to block the python side on completion of each step,\n",
              "// then passes the result of the previous step as the input to the next step.\n",
              "function _uploadFilesContinue(outputId) {\n",
              "  const outputElement = document.getElementById(outputId);\n",
              "  const steps = outputElement.steps;\n",
              "\n",
              "  const next = steps.next(outputElement.lastPromiseValue);\n",
              "  return Promise.resolve(next.value.promise).then((value) => {\n",
              "    // Cache the last promise value to make it available to the next\n",
              "    // step of the generator.\n",
              "    outputElement.lastPromiseValue = value;\n",
              "    return next.value.response;\n",
              "  });\n",
              "}\n",
              "\n",
              "/**\n",
              " * Generator function which is called between each async step of the upload\n",
              " * process.\n",
              " * @param {string} inputId Element ID of the input file picker element.\n",
              " * @param {string} outputId Element ID of the output display.\n",
              " * @return {!Iterable<!Object>} Iterable of next steps.\n",
              " */\n",
              "function* uploadFilesStep(inputId, outputId) {\n",
              "  const inputElement = document.getElementById(inputId);\n",
              "  inputElement.disabled = false;\n",
              "\n",
              "  const outputElement = document.getElementById(outputId);\n",
              "  outputElement.innerHTML = '';\n",
              "\n",
              "  const pickedPromise = new Promise((resolve) => {\n",
              "    inputElement.addEventListener('change', (e) => {\n",
              "      resolve(e.target.files);\n",
              "    });\n",
              "  });\n",
              "\n",
              "  const cancel = document.createElement('button');\n",
              "  inputElement.parentElement.appendChild(cancel);\n",
              "  cancel.textContent = 'Cancel upload';\n",
              "  const cancelPromise = new Promise((resolve) => {\n",
              "    cancel.onclick = () => {\n",
              "      resolve(null);\n",
              "    };\n",
              "  });\n",
              "\n",
              "  // Wait for the user to pick the files.\n",
              "  const files = yield {\n",
              "    promise: Promise.race([pickedPromise, cancelPromise]),\n",
              "    response: {\n",
              "      action: 'starting',\n",
              "    }\n",
              "  };\n",
              "\n",
              "  cancel.remove();\n",
              "\n",
              "  // Disable the input element since further picks are not allowed.\n",
              "  inputElement.disabled = true;\n",
              "\n",
              "  if (!files) {\n",
              "    return {\n",
              "      response: {\n",
              "        action: 'complete',\n",
              "      }\n",
              "    };\n",
              "  }\n",
              "\n",
              "  for (const file of files) {\n",
              "    const li = document.createElement('li');\n",
              "    li.append(span(file.name, {fontWeight: 'bold'}));\n",
              "    li.append(span(\n",
              "        `(${file.type || 'n/a'}) - ${file.size} bytes, ` +\n",
              "        `last modified: ${\n",
              "            file.lastModifiedDate ? file.lastModifiedDate.toLocaleDateString() :\n",
              "                                    'n/a'} - `));\n",
              "    const percent = span('0% done');\n",
              "    li.appendChild(percent);\n",
              "\n",
              "    outputElement.appendChild(li);\n",
              "\n",
              "    const fileDataPromise = new Promise((resolve) => {\n",
              "      const reader = new FileReader();\n",
              "      reader.onload = (e) => {\n",
              "        resolve(e.target.result);\n",
              "      };\n",
              "      reader.readAsArrayBuffer(file);\n",
              "    });\n",
              "    // Wait for the data to be ready.\n",
              "    let fileData = yield {\n",
              "      promise: fileDataPromise,\n",
              "      response: {\n",
              "        action: 'continue',\n",
              "      }\n",
              "    };\n",
              "\n",
              "    // Use a chunked sending to avoid message size limits. See b/62115660.\n",
              "    let position = 0;\n",
              "    do {\n",
              "      const length = Math.min(fileData.byteLength - position, MAX_PAYLOAD_SIZE);\n",
              "      const chunk = new Uint8Array(fileData, position, length);\n",
              "      position += length;\n",
              "\n",
              "      const base64 = btoa(String.fromCharCode.apply(null, chunk));\n",
              "      yield {\n",
              "        response: {\n",
              "          action: 'append',\n",
              "          file: file.name,\n",
              "          data: base64,\n",
              "        },\n",
              "      };\n",
              "\n",
              "      let percentDone = fileData.byteLength === 0 ?\n",
              "          100 :\n",
              "          Math.round((position / fileData.byteLength) * 100);\n",
              "      percent.textContent = `${percentDone}% done`;\n",
              "\n",
              "    } while (position < fileData.byteLength);\n",
              "  }\n",
              "\n",
              "  // All done.\n",
              "  yield {\n",
              "    response: {\n",
              "      action: 'complete',\n",
              "    }\n",
              "  };\n",
              "}\n",
              "\n",
              "scope.google = scope.google || {};\n",
              "scope.google.colab = scope.google.colab || {};\n",
              "scope.google.colab._files = {\n",
              "  _uploadFiles,\n",
              "  _uploadFilesContinue,\n",
              "};\n",
              "})(self);\n",
              "</script> "
            ]
          },
          "metadata": {}
        },
        {
          "output_type": "stream",
          "name": "stdout",
          "text": [
            "Saving data_m.pkl to data_m (1).pkl\n"
          ]
        }
      ],
      "source": [
        "#Bringing in Data\n",
        "from google.colab import files\n",
        "uploaded = files.upload()"
      ]
    },
    {
      "cell_type": "code",
      "source": [
        "#Saving into DF\n",
        "with open('data_m.pkl', 'rb') as datapickled:\n",
        "    data_df=pickle.load(datapickled)\n",
        "     "
      ],
      "metadata": {
        "id": "_hM28dHeHN7N"
      },
      "execution_count": 5,
      "outputs": []
    },
    {
      "cell_type": "code",
      "source": [
        "data_df.head()"
      ],
      "metadata": {
        "colab": {
          "base_uri": "https://localhost:8080/",
          "height": 317
        },
        "id": "Uv-2eD1tHN-E",
        "outputId": "2738a607-ea0b-41d4-8a83-c1dda8f413a4"
      },
      "execution_count": 6,
      "outputs": [
        {
          "output_type": "execute_result",
          "data": {
            "text/plain": [
              "   Persistency_Flag  Gluco_Record_Prior_Ntm  Gluco_Record_During_Rx  \\\n",
              "0                 1                       0                       0   \n",
              "1                 0                       0                       0   \n",
              "2                 0                       0                       0   \n",
              "3                 0                       0                       1   \n",
              "4                 0                       1                       1   \n",
              "\n",
              "   Dexa_Freq_During_Rx  Dexa_During_Rx  Frag_Frac_Prior_Ntm  \\\n",
              "0                  0.0               0                    0   \n",
              "1                  0.0               0                    0   \n",
              "2                  0.0               0                    0   \n",
              "3                  0.0               0                    0   \n",
              "4                  0.0               0                    0   \n",
              "\n",
              "   Frag_Frac_During_Rx  Idn_Indicator  Injectable_Experience_During_Rx  \\\n",
              "0                    0              0                                1   \n",
              "1                    0              0                                1   \n",
              "2                    0              0                                1   \n",
              "3                    0              0                                1   \n",
              "4                    0              0                                1   \n",
              "\n",
              "   Comorb_Encounter_For_Screening_For_Malignant_Neoplasms  ...  \\\n",
              "0                                                  0       ...   \n",
              "1                                                  0       ...   \n",
              "2                                                  1       ...   \n",
              "3                                                  0       ...   \n",
              "4                                                  1       ...   \n",
              "\n",
              "   Adherent_Flag_Adherent  Adherent_Flag_Non-Adherent  Count_Of_Risks_0  \\\n",
              "0                     1.0                         0.0               1.0   \n",
              "1                     1.0                         0.0               1.0   \n",
              "2                     1.0                         0.0               0.0   \n",
              "3                     1.0                         0.0               0.0   \n",
              "4                     1.0                         0.0               0.0   \n",
              "\n",
              "   Count_Of_Risks_1  Count_Of_Risks_2  Count_Of_Risks_3  Count_Of_Risks_4  \\\n",
              "0               0.0               0.0               0.0               0.0   \n",
              "1               0.0               0.0               0.0               0.0   \n",
              "2               0.0               1.0               0.0               0.0   \n",
              "3               1.0               0.0               0.0               0.0   \n",
              "4               1.0               0.0               0.0               0.0   \n",
              "\n",
              "   Count_Of_Risks_5  Count_Of_Risks_6  Count_Of_Risks_7  \n",
              "0               0.0               0.0               0.0  \n",
              "1               0.0               0.0               0.0  \n",
              "2               0.0               0.0               0.0  \n",
              "3               0.0               0.0               0.0  \n",
              "4               0.0               0.0               0.0  \n",
              "\n",
              "[5 rows x 118 columns]"
            ],
            "text/html": [
              "\n",
              "  <div id=\"df-d48d2dbb-9915-4cd2-a790-576c3cd2b4bd\">\n",
              "    <div class=\"colab-df-container\">\n",
              "      <div>\n",
              "<style scoped>\n",
              "    .dataframe tbody tr th:only-of-type {\n",
              "        vertical-align: middle;\n",
              "    }\n",
              "\n",
              "    .dataframe tbody tr th {\n",
              "        vertical-align: top;\n",
              "    }\n",
              "\n",
              "    .dataframe thead th {\n",
              "        text-align: right;\n",
              "    }\n",
              "</style>\n",
              "<table border=\"1\" class=\"dataframe\">\n",
              "  <thead>\n",
              "    <tr style=\"text-align: right;\">\n",
              "      <th></th>\n",
              "      <th>Persistency_Flag</th>\n",
              "      <th>Gluco_Record_Prior_Ntm</th>\n",
              "      <th>Gluco_Record_During_Rx</th>\n",
              "      <th>Dexa_Freq_During_Rx</th>\n",
              "      <th>Dexa_During_Rx</th>\n",
              "      <th>Frag_Frac_Prior_Ntm</th>\n",
              "      <th>Frag_Frac_During_Rx</th>\n",
              "      <th>Idn_Indicator</th>\n",
              "      <th>Injectable_Experience_During_Rx</th>\n",
              "      <th>Comorb_Encounter_For_Screening_For_Malignant_Neoplasms</th>\n",
              "      <th>...</th>\n",
              "      <th>Adherent_Flag_Adherent</th>\n",
              "      <th>Adherent_Flag_Non-Adherent</th>\n",
              "      <th>Count_Of_Risks_0</th>\n",
              "      <th>Count_Of_Risks_1</th>\n",
              "      <th>Count_Of_Risks_2</th>\n",
              "      <th>Count_Of_Risks_3</th>\n",
              "      <th>Count_Of_Risks_4</th>\n",
              "      <th>Count_Of_Risks_5</th>\n",
              "      <th>Count_Of_Risks_6</th>\n",
              "      <th>Count_Of_Risks_7</th>\n",
              "    </tr>\n",
              "  </thead>\n",
              "  <tbody>\n",
              "    <tr>\n",
              "      <th>0</th>\n",
              "      <td>1</td>\n",
              "      <td>0</td>\n",
              "      <td>0</td>\n",
              "      <td>0.0</td>\n",
              "      <td>0</td>\n",
              "      <td>0</td>\n",
              "      <td>0</td>\n",
              "      <td>0</td>\n",
              "      <td>1</td>\n",
              "      <td>0</td>\n",
              "      <td>...</td>\n",
              "      <td>1.0</td>\n",
              "      <td>0.0</td>\n",
              "      <td>1.0</td>\n",
              "      <td>0.0</td>\n",
              "      <td>0.0</td>\n",
              "      <td>0.0</td>\n",
              "      <td>0.0</td>\n",
              "      <td>0.0</td>\n",
              "      <td>0.0</td>\n",
              "      <td>0.0</td>\n",
              "    </tr>\n",
              "    <tr>\n",
              "      <th>1</th>\n",
              "      <td>0</td>\n",
              "      <td>0</td>\n",
              "      <td>0</td>\n",
              "      <td>0.0</td>\n",
              "      <td>0</td>\n",
              "      <td>0</td>\n",
              "      <td>0</td>\n",
              "      <td>0</td>\n",
              "      <td>1</td>\n",
              "      <td>0</td>\n",
              "      <td>...</td>\n",
              "      <td>1.0</td>\n",
              "      <td>0.0</td>\n",
              "      <td>1.0</td>\n",
              "      <td>0.0</td>\n",
              "      <td>0.0</td>\n",
              "      <td>0.0</td>\n",
              "      <td>0.0</td>\n",
              "      <td>0.0</td>\n",
              "      <td>0.0</td>\n",
              "      <td>0.0</td>\n",
              "    </tr>\n",
              "    <tr>\n",
              "      <th>2</th>\n",
              "      <td>0</td>\n",
              "      <td>0</td>\n",
              "      <td>0</td>\n",
              "      <td>0.0</td>\n",
              "      <td>0</td>\n",
              "      <td>0</td>\n",
              "      <td>0</td>\n",
              "      <td>0</td>\n",
              "      <td>1</td>\n",
              "      <td>1</td>\n",
              "      <td>...</td>\n",
              "      <td>1.0</td>\n",
              "      <td>0.0</td>\n",
              "      <td>0.0</td>\n",
              "      <td>0.0</td>\n",
              "      <td>1.0</td>\n",
              "      <td>0.0</td>\n",
              "      <td>0.0</td>\n",
              "      <td>0.0</td>\n",
              "      <td>0.0</td>\n",
              "      <td>0.0</td>\n",
              "    </tr>\n",
              "    <tr>\n",
              "      <th>3</th>\n",
              "      <td>0</td>\n",
              "      <td>0</td>\n",
              "      <td>1</td>\n",
              "      <td>0.0</td>\n",
              "      <td>0</td>\n",
              "      <td>0</td>\n",
              "      <td>0</td>\n",
              "      <td>0</td>\n",
              "      <td>1</td>\n",
              "      <td>0</td>\n",
              "      <td>...</td>\n",
              "      <td>1.0</td>\n",
              "      <td>0.0</td>\n",
              "      <td>0.0</td>\n",
              "      <td>1.0</td>\n",
              "      <td>0.0</td>\n",
              "      <td>0.0</td>\n",
              "      <td>0.0</td>\n",
              "      <td>0.0</td>\n",
              "      <td>0.0</td>\n",
              "      <td>0.0</td>\n",
              "    </tr>\n",
              "    <tr>\n",
              "      <th>4</th>\n",
              "      <td>0</td>\n",
              "      <td>1</td>\n",
              "      <td>1</td>\n",
              "      <td>0.0</td>\n",
              "      <td>0</td>\n",
              "      <td>0</td>\n",
              "      <td>0</td>\n",
              "      <td>0</td>\n",
              "      <td>1</td>\n",
              "      <td>1</td>\n",
              "      <td>...</td>\n",
              "      <td>1.0</td>\n",
              "      <td>0.0</td>\n",
              "      <td>0.0</td>\n",
              "      <td>1.0</td>\n",
              "      <td>0.0</td>\n",
              "      <td>0.0</td>\n",
              "      <td>0.0</td>\n",
              "      <td>0.0</td>\n",
              "      <td>0.0</td>\n",
              "      <td>0.0</td>\n",
              "    </tr>\n",
              "  </tbody>\n",
              "</table>\n",
              "<p>5 rows × 118 columns</p>\n",
              "</div>\n",
              "      <button class=\"colab-df-convert\" onclick=\"convertToInteractive('df-d48d2dbb-9915-4cd2-a790-576c3cd2b4bd')\"\n",
              "              title=\"Convert this dataframe to an interactive table.\"\n",
              "              style=\"display:none;\">\n",
              "        \n",
              "  <svg xmlns=\"http://www.w3.org/2000/svg\" height=\"24px\"viewBox=\"0 0 24 24\"\n",
              "       width=\"24px\">\n",
              "    <path d=\"M0 0h24v24H0V0z\" fill=\"none\"/>\n",
              "    <path d=\"M18.56 5.44l.94 2.06.94-2.06 2.06-.94-2.06-.94-.94-2.06-.94 2.06-2.06.94zm-11 1L8.5 8.5l.94-2.06 2.06-.94-2.06-.94L8.5 2.5l-.94 2.06-2.06.94zm10 10l.94 2.06.94-2.06 2.06-.94-2.06-.94-.94-2.06-.94 2.06-2.06.94z\"/><path d=\"M17.41 7.96l-1.37-1.37c-.4-.4-.92-.59-1.43-.59-.52 0-1.04.2-1.43.59L10.3 9.45l-7.72 7.72c-.78.78-.78 2.05 0 2.83L4 21.41c.39.39.9.59 1.41.59.51 0 1.02-.2 1.41-.59l7.78-7.78 2.81-2.81c.8-.78.8-2.07 0-2.86zM5.41 20L4 18.59l7.72-7.72 1.47 1.35L5.41 20z\"/>\n",
              "  </svg>\n",
              "      </button>\n",
              "      \n",
              "  <style>\n",
              "    .colab-df-container {\n",
              "      display:flex;\n",
              "      flex-wrap:wrap;\n",
              "      gap: 12px;\n",
              "    }\n",
              "\n",
              "    .colab-df-convert {\n",
              "      background-color: #E8F0FE;\n",
              "      border: none;\n",
              "      border-radius: 50%;\n",
              "      cursor: pointer;\n",
              "      display: none;\n",
              "      fill: #1967D2;\n",
              "      height: 32px;\n",
              "      padding: 0 0 0 0;\n",
              "      width: 32px;\n",
              "    }\n",
              "\n",
              "    .colab-df-convert:hover {\n",
              "      background-color: #E2EBFA;\n",
              "      box-shadow: 0px 1px 2px rgba(60, 64, 67, 0.3), 0px 1px 3px 1px rgba(60, 64, 67, 0.15);\n",
              "      fill: #174EA6;\n",
              "    }\n",
              "\n",
              "    [theme=dark] .colab-df-convert {\n",
              "      background-color: #3B4455;\n",
              "      fill: #D2E3FC;\n",
              "    }\n",
              "\n",
              "    [theme=dark] .colab-df-convert:hover {\n",
              "      background-color: #434B5C;\n",
              "      box-shadow: 0px 1px 3px 1px rgba(0, 0, 0, 0.15);\n",
              "      filter: drop-shadow(0px 1px 2px rgba(0, 0, 0, 0.3));\n",
              "      fill: #FFFFFF;\n",
              "    }\n",
              "  </style>\n",
              "\n",
              "      <script>\n",
              "        const buttonEl =\n",
              "          document.querySelector('#df-d48d2dbb-9915-4cd2-a790-576c3cd2b4bd button.colab-df-convert');\n",
              "        buttonEl.style.display =\n",
              "          google.colab.kernel.accessAllowed ? 'block' : 'none';\n",
              "\n",
              "        async function convertToInteractive(key) {\n",
              "          const element = document.querySelector('#df-d48d2dbb-9915-4cd2-a790-576c3cd2b4bd');\n",
              "          const dataTable =\n",
              "            await google.colab.kernel.invokeFunction('convertToInteractive',\n",
              "                                                     [key], {});\n",
              "          if (!dataTable) return;\n",
              "\n",
              "          const docLinkHtml = 'Like what you see? Visit the ' +\n",
              "            '<a target=\"_blank\" href=https://colab.research.google.com/notebooks/data_table.ipynb>data table notebook</a>'\n",
              "            + ' to learn more about interactive tables.';\n",
              "          element.innerHTML = '';\n",
              "          dataTable['output_type'] = 'display_data';\n",
              "          await google.colab.output.renderOutput(dataTable, element);\n",
              "          const docLink = document.createElement('div');\n",
              "          docLink.innerHTML = docLinkHtml;\n",
              "          element.appendChild(docLink);\n",
              "        }\n",
              "      </script>\n",
              "    </div>\n",
              "  </div>\n",
              "  "
            ]
          },
          "metadata": {},
          "execution_count": 6
        }
      ]
    },
    {
      "cell_type": "code",
      "source": [
        "#Train Test Split\n",
        "X = data_df.drop(['Persistency_Flag'], axis=1)\n",
        "y = data_df['Persistency_Flag']\n",
        "\n",
        "X_train, X_test, y_train, y_test = train_test_split(X, y, test_size=0.2, random_state=42)"
      ],
      "metadata": {
        "id": "nF1_5F1HHOAf"
      },
      "execution_count": 7,
      "outputs": []
    },
    {
      "cell_type": "code",
      "source": [
        "#Dummy Regressor as a baseline\n",
        "dummy = DummyClassifier(random_state=42)\n",
        "dummy.fit(X_train, y_train)\n",
        "print(dummy.score(X_test, y_test))\n",
        "\n",
        "plot_confusion_matrix(dummy, X_test, y_test);"
      ],
      "metadata": {
        "colab": {
          "base_uri": "https://localhost:8080/",
          "height": 296
        },
        "id": "6Cv-0JsqHOCx",
        "outputId": "905e0a79-c0e1-4396-9581-3461b30a3542"
      },
      "execution_count": 8,
      "outputs": [
        {
          "output_type": "stream",
          "name": "stdout",
          "text": [
            "0.6291970802919709\n"
          ]
        },
        {
          "output_type": "display_data",
          "data": {
            "text/plain": [
              "<Figure size 432x288 with 2 Axes>"
            ],
            "image/png": "[encoded data removed]"
          },
          "metadata": {
            "needs_background": "light"
          }
        }
      ]
    },
    {
      "cell_type": "markdown",
      "source": [
        "Modeling"
      ],
      "metadata": {
        "id": "V7rqAPmW5FUs"
      }
    },
    {
      "cell_type": "code",
      "source": [
        "#Logistic Regression \n",
        "logistic_model = LogisticRegression()\n",
        "logistic_model.fit(X_train, y_train)\n",
        "logistic_y_pred_train = logistic_model.predict(X_train)\n",
        "\n",
        "print(\"Training data model score:\")\n",
        "#Confusion Matrix\n",
        "log_train_score = model_score(logistic_model, X_train, logistic_y_pred_train, y_train)"
      ],
      "metadata": {
        "colab": {
          "base_uri": "https://localhost:8080/",
          "height": 383
        },
        "id": "_g19UuYYHOFW",
        "outputId": "a1be4eb0-d717-42be-97b4-564a009f5eb6"
      },
      "execution_count": 34,
      "outputs": [
        {
          "output_type": "stream",
          "name": "stdout",
          "text": [
            "Training data model score:\n",
            " The accuracy score is: 0.8237\n",
            " The cross validation score of accuracy is: 0.8091\n",
            " The recall score is: 0.8237\n",
            " The F1 score is: 0.8259\n",
            " The precision score is: 0.8309\n"
          ]
        },
        {
          "output_type": "display_data",
          "data": {
            "text/plain": [
              "<Figure size 432x288 with 2 Axes>"
            ],
            "image/png": "[encoded data removed]"
          },
          "metadata": {
            "needs_background": "light"
          }
        }
      ]
    },
    {
      "cell_type": "code",
      "source": [
        "#ROC AUC Curve\n",
        "log_pred_proba = logistic_model.predict_proba(X_test)[::,1]\n",
        "fpr, tpr, _ = roc_curve(y_test, log_pred_proba)\n",
        "\n",
        "roc_auc_curve(fpr,tpr)\n"
      ],
      "metadata": {
        "colab": {
          "base_uri": "https://localhost:8080/",
          "height": 295
        },
        "id": "U5mvNCnwmNvV",
        "outputId": "b618ccc7-5349-4ff3-c845-0e4630bcef06"
      },
      "execution_count": 35,
      "outputs": [
        {
          "output_type": "display_data",
          "data": {
            "text/plain": [
              "<Figure size 432x288 with 1 Axes>"
            ],
            "image/png": "[encoded data removed]"
          },
          "metadata": {
            "needs_background": "light"
          }
        }
      ]
    },
    {
      "cell_type": "code",
      "source": [
        "#KNN Classifier\n",
        "knn = KNeighborsClassifier()\n",
        "\n",
        "#Creating a grid search to hypertune model\n",
        "grid = {\n",
        "    'n_neighbors' : [1,2,3,4,5,6,7],\n",
        "    'p' : [1,2],\n",
        "    'leaf_size' : [10,20,30]\n",
        "}\n",
        "knn_grid_search = GridSearchCV(knn, grid, cv=3)\n",
        "knn_grid_search.fit(X_train, y_train)\n",
        "\n",
        "print(f'Best parameters are {knn_grid_search.best_params_}')\n",
        "print(f'Best score {knn_grid_search.best_score_}')\n",
        "print(f'Best estimator score {knn_grid_search.best_estimator_.score(X_test, y_test)}')"
      ],
      "metadata": {
        "colab": {
          "base_uri": "https://localhost:8080/"
        },
        "id": "fsU_IzbBORRM",
        "outputId": "c6e7e579-5798-4062-bb67-2e6e90a373e1"
      },
      "execution_count": 10,
      "outputs": [
        {
          "output_type": "stream",
          "name": "stdout",
          "text": [
            "Best parameters are {'leaf_size': 10, 'n_neighbors': 7, 'p': 1}\n",
            "Best score 0.7550200803212851\n",
            "Best estimator score 0.7605839416058394\n"
          ]
        }
      ]
    },
    {
      "cell_type": "code",
      "source": [
        "#Generating model with hyperparameters\n",
        "knn = KNeighborsClassifier(p=1,leaf_size=10)\n",
        "knn.fit(X_train, y_train)\n",
        "knn_pred = knn.predict(X_train)\n",
        "\n",
        "print(\"Training data model score:\")\n",
        "knn_model_score = model_score(knn, X_train, knn_pred, y_train)"
      ],
      "metadata": {
        "colab": {
          "base_uri": "https://localhost:8080/",
          "height": 383
        },
        "id": "pdFu8wtW2gYP",
        "outputId": "a1d7df84-85d3-4b0d-a677-78003053db71"
      },
      "execution_count": 11,
      "outputs": [
        {
          "output_type": "stream",
          "name": "stdout",
          "text": [
            "Training data model score:\n",
            " The accuracy score is: 0.8207\n",
            " The cross validation score of accuracy is: 0.7528\n",
            " The recall score is: 0.8207\n",
            " The F1 score is: 0.8304\n",
            " The precision score is: 0.8662\n"
          ]
        },
        {
          "output_type": "display_data",
          "data": {
            "text/plain": [
              "<Figure size 432x288 with 2 Axes>"
            ],
            "image/png": "[encoded data removed]"
          },
          "metadata": {
            "needs_background": "light"
          }
        }
      ]
    },
    {
      "cell_type": "code",
      "source": [
        "#ROC AUC Curve\n",
        "knn_pred_proba = knn.predict_proba(X_test)[::,1]\n",
        "fpr, tpr, _ = roc_curve(y_test, knn_pred_proba)\n",
        "\n",
        "roc_auc_curve(fpr,tpr)"
      ],
      "metadata": {
        "colab": {
          "base_uri": "https://localhost:8080/",
          "height": 295
        },
        "id": "h2qj9-4creh1",
        "outputId": "c83fce41-fab8-4075-a9a0-a1317e152ba5"
      },
      "execution_count": 37,
      "outputs": [
        {
          "output_type": "display_data",
          "data": {
            "text/plain": [
              "<Figure size 432x288 with 1 Axes>"
            ],
            "image/png": "[encoded data removed]"
          },
          "metadata": {
            "needs_background": "light"
          }
        }
      ]
    },
    {
      "cell_type": "code",
      "source": [
        "#Decison Tree Classifier\n",
        "dt = DecisionTreeClassifier()\n",
        "#Creating Grid Search for hypertuning\n",
        "dt_grid = {\n",
        "  'criterion' : ['entropy', 'gini'],\n",
        "    'max_depth': [10,20,30,40,50,60, None],\n",
        "    'min_samples_split' : [1, 2, 5, 10, 20, 30],\n",
        "    'min_impurity_decrease' : [0.0, 0.1, 0.2, 0.3,0.4, 0.5]\n",
        "}\n",
        "dt_grid_s = GridSearchCV(estimator=dt , param_grid=dt_grid, cv=5)\n",
        "dt_grid_s.fit(X_train, y_train)\n",
        "\n",
        "print(f'Best parameters are {dt_grid_s.best_params_}')\n",
        "print(f'Best score {dt_grid_s.best_score_}')\n",
        "print(f'Best estimator score {dt_grid_s.best_estimator_.score(X_test, y_test)}')\n"
      ],
      "metadata": {
        "colab": {
          "base_uri": "https://localhost:8080/"
        },
        "id": "Y1d5hXZ5ORWH",
        "outputId": "45f99294-ab5b-498f-b40c-c48f8780bd72"
      },
      "execution_count": 12,
      "outputs": [
        {
          "output_type": "stream",
          "name": "stdout",
          "text": [
            "Best parameters are {'criterion': 'gini', 'max_depth': 10, 'min_impurity_decrease': 0.0, 'min_samples_split': 30}\n",
            "Best score 0.7867819159583127\n",
            "Best estimator score 0.7664233576642335\n"
          ]
        }
      ]
    },
    {
      "cell_type": "code",
      "source": [
        "#Using hyperparameters found in grid search\n",
        "dt = DecisionTreeClassifier(criterion = 'entropy', max_depth=10, min_impurity_decrease =.1, min_samples_split = 2, random_state=42)\n",
        "dt.fit(X_train, y_train)\n",
        "dt_pred = dt.predict(X_train)\n",
        "\n",
        "print(\"Training data model score:\")\n",
        "dt_model_score = model_score(dt, X_train, dt_pred, y_train)"
      ],
      "metadata": {
        "colab": {
          "base_uri": "https://localhost:8080/",
          "height": 383
        },
        "outputId": "73bd28f9-16e8-4f55-b15f-b7271796e287",
        "id": "qLT2GDx93QS0"
      },
      "execution_count": 13,
      "outputs": [
        {
          "output_type": "stream",
          "name": "stdout",
          "text": [
            "Training data model score:\n",
            " The accuracy score is: 0.7875\n",
            " The cross validation score of accuracy is: 0.7875\n",
            " The recall score is: 0.7875\n",
            " The F1 score is: 0.7995\n",
            " The precision score is: 0.8378\n"
          ]
        },
        {
          "output_type": "display_data",
          "data": {
            "text/plain": [
              "<Figure size 432x288 with 2 Axes>"
            ],
            "image/png": "[encoded data removed]"
          },
          "metadata": {
            "needs_background": "light"
          }
        }
      ]
    },
    {
      "cell_type": "code",
      "source": [
        "#ROC AUC Curve\n",
        "dt_pred_proba = dt.predict_proba(X_test)[::,1]\n",
        "fpr, tpr, _ = roc_curve(y_test, dt_pred_proba)\n",
        "\n",
        "roc_auc_curve(fpr,tpr)"
      ],
      "metadata": {
        "colab": {
          "base_uri": "https://localhost:8080/",
          "height": 295
        },
        "id": "ixtVBJojrprO",
        "outputId": "f2d364f0-798e-4851-8c7b-4b60251c1b82"
      },
      "execution_count": 38,
      "outputs": [
        {
          "output_type": "display_data",
          "data": {
            "text/plain": [
              "<Figure size 432x288 with 1 Axes>"
            ],
            "image/png": "[encoded data removed]"
          },
          "metadata": {
            "needs_background": "light"
          }
        }
      ]
    },
    {
      "cell_type": "code",
      "source": [
        "#Random Forest Classifier\n",
        "rf = RandomForestClassifier()\n",
        "#Creating Grid Search\n",
        "grid = {\n",
        "    'criterion' : ['entropy', 'gini'],\n",
        "    'max_depth': [5,10,15,20, None],\n",
        "    'min_impurity_decrease' : [0.0, 0.1, 0.2, 0.3,0.4, 0.5], \n",
        "    'bootstrap' : [False, True] \n",
        "}\n",
        "gs = GridSearchCV(estimator=rf , param_grid=grid, cv=5)\n",
        "gs.fit(X_train, y_train)\n",
        "\n",
        "print(f'Best parameters are {gs.best_params_}')\n",
        "print(f'Best score {gs.best_score_}')\n",
        "print(f'Best estimator score {gs.best_estimator_.score(X_test, y_test)}')"
      ],
      "metadata": {
        "colab": {
          "base_uri": "https://localhost:8080/"
        },
        "id": "pizfhPLi3s4g",
        "outputId": "857669bc-9984-4a37-ffba-fc4e8ea7729a"
      },
      "execution_count": 14,
      "outputs": [
        {
          "output_type": "stream",
          "name": "stdout",
          "text": [
            "Best parameters are {'bootstrap': False, 'criterion': 'gini', 'max_depth': 20, 'min_impurity_decrease': 0.0}\n",
            "Best score 0.8174495256141663\n",
            "Best estimator score 0.7824817518248175\n"
          ]
        }
      ]
    },
    {
      "cell_type": "code",
      "source": [
        "#Using hyperparameters\n",
        "rf = RandomForestClassifier(max_depth = 15, random_state=42)\n",
        "rf.fit(X_train, y_train)\n",
        "rf_pred = rf.predict(X_train)\n",
        "\n",
        "print(\"Training data model score:\")\n",
        "rf_model_score = model_score(rf, X_train, rf_pred, y_train)"
      ],
      "metadata": {
        "colab": {
          "base_uri": "https://localhost:8080/",
          "height": 383
        },
        "outputId": "6cbbea2b-b731-4c08-fc9f-d15ce91ec6f8",
        "id": "9VXYYs1d4mzx"
      },
      "execution_count": 15,
      "outputs": [
        {
          "output_type": "stream",
          "name": "stdout",
          "text": [
            "Training data model score:\n",
            " The accuracy score is: 0.977\n",
            " The cross validation score of accuracy is: 0.8167\n",
            " The recall score is: 0.977\n",
            " The F1 score is: 0.9771\n",
            " The precision score is: 0.9783\n"
          ]
        },
        {
          "output_type": "display_data",
          "data": {
            "text/plain": [
              "<Figure size 432x288 with 2 Axes>"
            ],
            "image/png": "[encoded data removed]"
          },
          "metadata": {
            "needs_background": "light"
          }
        }
      ]
    },
    {
      "cell_type": "code",
      "source": [
        "#ROC AUC Curve\n",
        "rf_pred_proba = rf.predict_proba(X_test)[::,1]\n",
        "fpr, tpr, _ = roc_curve(y_test, rf_pred_proba)\n",
        "\n",
        "roc_auc_curve(fpr,tpr)"
      ],
      "metadata": {
        "colab": {
          "base_uri": "https://localhost:8080/",
          "height": 295
        },
        "id": "jkOdvCYRrwyM",
        "outputId": "c05c342e-580b-4125-f6bd-ed2cef71f411"
      },
      "execution_count": 39,
      "outputs": [
        {
          "output_type": "display_data",
          "data": {
            "text/plain": [
              "<Figure size 432x288 with 1 Axes>"
            ],
            "image/png": "[encoded data removed]"
          },
          "metadata": {
            "needs_background": "light"
          }
        }
      ]
    },
    {
      "cell_type": "code",
      "source": [
        "baseline = dummy.score(X_test, y_test)\n",
        "logistic = logistic_model.score(X_test, y_test)\n",
        "knneighbors = knn.score(X_test, y_test)\n",
        "decision_tree = dt.score(X_test, y_test)\n",
        "random_forest = rf.score(X_test, y_test)\n",
        "\n",
        "acc_dict = {\"accuracy\":{\"baseline\":baseline, \n",
        "            \"logistic\":logistic, \n",
        "            \"knneighbors\":knneighbors, \n",
        "            \"decision tree\":decision_tree, \n",
        "            \"random forest\":random_forest}}\n",
        "\n",
        "accuracy_df = pd.DataFrame.from_dict(acc_dict)"
      ],
      "metadata": {
        "id": "NhR27XqlOAQr"
      },
      "execution_count": 41,
      "outputs": []
    },
    {
      "cell_type": "code",
      "source": [
        "fig, ax = plt.subplots(figsize=(6,6), dpi=100)\n",
        "\n",
        "x = accuracy_df.index\n",
        "y = accuracy_df['accuracy']\n",
        "clrs=['red' if x == 'logistic' else 'grey' for x in x]\n",
        "\n",
        "ax = sns.barplot(x=x, y=y, palette=clrs)\n",
        "ax.set_xticklabels(x, rotation=25)\n",
        "ax.set_title(\"Machine Learning Models Accuracy Score\", fontweight='bold', fontsize=17, pad=15)\n",
        "ax.set_ylabel(\"Accuracy\", fontweight='bold', fontsize=12, labelpad=13)\n",
        "ax.set_xlabel(\"Models\", fontweight='bold', fontsize=12, labelpad=13)\n",
        "change_width(ax, 0.7);\n"
      ],
      "metadata": {
        "colab": {
          "base_uri": "https://localhost:8080/",
          "height": 629
        },
        "id": "PM9nm0MGO6ox",
        "outputId": "188cb4b3-ed16-41a3-e96f-3c87fb617f71"
      },
      "execution_count": 43,
      "outputs": [
        {
          "output_type": "display_data",
          "data": {
            "text/plain": [
              "<Figure size 600x600 with 1 Axes>"
            ],
            "image/png": "[encoded data removed]"
          },
          "metadata": {
            "needs_background": "light"
          }
        }
      ]
    },
    {
      "cell_type": "markdown",
      "source": [
        "The main evaulator in this use case is accuracy. Seeing the Logistic Regression Classifier has the highest accuracy on the unseen data it is the model that will be used."
      ],
      "metadata": {
        "id": "3GuKrHN76DrF"
      }
    },
    {
      "cell_type": "code",
      "source": [
        "pickle.dump(logistic_model ,open('persistent_predictor_model.pkl','wb'))"
      ],
      "metadata": {
        "id": "7QDb_3wN4Tel"
      },
      "execution_count": 40,
      "outputs": []
    }
  ]
}