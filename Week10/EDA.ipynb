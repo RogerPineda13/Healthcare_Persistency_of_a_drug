{
  "nbformat": 4,
  "nbformat_minor": 0,
  "metadata": {
    "colab": {
      "provenance": [],
      "authorship_tag": "ABX9TyP2ruh4zemoagrmbvHp9V3g",
      "include_colab_link": true
    },
    "kernelspec": {
      "name": "python3",
      "display_name": "Python 3"
    },
    "language_info": {
      "name": "python"
    }
  },
  "cells": [
    {
      "cell_type": "markdown",
      "metadata": {
        "id": "view-in-github",
        "colab_type": "text"
      },
      "source": [
        "<a href=\"https://colab.research.google.com/github/RogerPineda13/Healthcare_Persistency_of_a_drug/blob/main/EDA.ipynb\" target=\"_parent\"><img src=\"https://colab.research.google.com/assets/colab-badge.svg\" alt=\"Open In Colab\"/></a>"
      ]
    },
    {
      "cell_type": "code",
      "execution_count": 9,
      "metadata": {
        "id": "7Pj86xt-C9DY"
      },
      "outputs": [],
      "source": [
        "import pandas as pd\n",
        "import pickle\n",
        "import numpy as np\n",
        "import matplotlib.pyplot as plt\n",
        "import seaborn as sns"
      ]
    },
    {
      "cell_type": "code",
      "source": [],
      "metadata": {
        "id": "jyf0jUWODHqI"
      },
      "execution_count": null,
      "outputs": []
    },
    {
      "cell_type": "code",
      "source": [
        "from google.colab import files\n",
        "uploaded = files.upload()"
      ],
      "metadata": {
        "colab": {
          "base_uri": "https://localhost:8080/",
          "height": 73
        },
        "id": "eKAO2JXbQq7J",
        "outputId": "17b7e6bb-f6ca-40be-d1d6-ffe7be445f7c"
      },
      "execution_count": 6,
      "outputs": [
        {
          "output_type": "display_data",
          "data": {
            "text/plain": [
              "<IPython.core.display.HTML object>"
            ],
            "text/html": [
              "\n",
              "     <input type=\"file\" id=\"files-96c671f8-6a20-4945-87f6-81b34c1927f9\" name=\"files[]\" multiple disabled\n",
              "        style=\"border:none\" />\n",
              "     <output id=\"result-96c671f8-6a20-4945-87f6-81b34c1927f9\">\n",
              "      Upload widget is only available when the cell has been executed in the\n",
              "      current browser session. Please rerun this cell to enable.\n",
              "      </output>\n",
              "      <script>// Copyright 2017 Google LLC\n",
              "//\n",
              "// Licensed under the Apache License, Version 2.0 (the \"License\");\n",
              "// you may not use this file except in compliance with the License.\n",
              "// You may obtain a copy of the License at\n",
              "//\n",
              "//      http://www.apache.org/licenses/LICENSE-2.0\n",
              "//\n",
              "// Unless required by applicable law or agreed to in writing, software\n",
              "// distributed under the License is distributed on an \"AS IS\" BASIS,\n",
              "// WITHOUT WARRANTIES OR CONDITIONS OF ANY KIND, either express or implied.\n",
              "// See the License for the specific language governing permissions and\n",
              "// limitations under the License.\n",
              "\n",
              "/**\n",
              " * @fileoverview Helpers for google.colab Python module.\n",
              " */\n",
              "(function(scope) {\n",
              "function span(text, styleAttributes = {}) {\n",
              "  const element = document.createElement('span');\n",
              "  element.textContent = text;\n",
              "  for (const key of Object.keys(styleAttributes)) {\n",
              "    element.style[key] = styleAttributes[key];\n",
              "  }\n",
              "  return element;\n",
              "}\n",
              "\n",
              "// Max number of bytes which will be uploaded at a time.\n",
              "const MAX_PAYLOAD_SIZE = 100 * 1024;\n",
              "\n",
              "function _uploadFiles(inputId, outputId) {\n",
              "  const steps = uploadFilesStep(inputId, outputId);\n",
              "  const outputElement = document.getElementById(outputId);\n",
              "  // Cache steps on the outputElement to make it available for the next call\n",
              "  // to uploadFilesContinue from Python.\n",
              "  outputElement.steps = steps;\n",
              "\n",
              "  return _uploadFilesContinue(outputId);\n",
              "}\n",
              "\n",
              "// This is roughly an async generator (not supported in the browser yet),\n",
              "// where there are multiple asynchronous steps and the Python side is going\n",
              "// to poll for completion of each step.\n",
              "// This uses a Promise to block the python side on completion of each step,\n",
              "// then passes the result of the previous step as the input to the next step.\n",
              "function _uploadFilesContinue(outputId) {\n",
              "  const outputElement = document.getElementById(outputId);\n",
              "  const steps = outputElement.steps;\n",
              "\n",
              "  const next = steps.next(outputElement.lastPromiseValue);\n",
              "  return Promise.resolve(next.value.promise).then((value) => {\n",
              "    // Cache the last promise value to make it available to the next\n",
              "    // step of the generator.\n",
              "    outputElement.lastPromiseValue = value;\n",
              "    return next.value.response;\n",
              "  });\n",
              "}\n",
              "\n",
              "/**\n",
              " * Generator function which is called between each async step of the upload\n",
              " * process.\n",
              " * @param {string} inputId Element ID of the input file picker element.\n",
              " * @param {string} outputId Element ID of the output display.\n",
              " * @return {!Iterable<!Object>} Iterable of next steps.\n",
              " */\n",
              "function* uploadFilesStep(inputId, outputId) {\n",
              "  const inputElement = document.getElementById(inputId);\n",
              "  inputElement.disabled = false;\n",
              "\n",
              "  const outputElement = document.getElementById(outputId);\n",
              "  outputElement.innerHTML = '';\n",
              "\n",
              "  const pickedPromise = new Promise((resolve) => {\n",
              "    inputElement.addEventListener('change', (e) => {\n",
              "      resolve(e.target.files);\n",
              "    });\n",
              "  });\n",
              "\n",
              "  const cancel = document.createElement('button');\n",
              "  inputElement.parentElement.appendChild(cancel);\n",
              "  cancel.textContent = 'Cancel upload';\n",
              "  const cancelPromise = new Promise((resolve) => {\n",
              "    cancel.onclick = () => {\n",
              "      resolve(null);\n",
              "    };\n",
              "  });\n",
              "\n",
              "  // Wait for the user to pick the files.\n",
              "  const files = yield {\n",
              "    promise: Promise.race([pickedPromise, cancelPromise]),\n",
              "    response: {\n",
              "      action: 'starting',\n",
              "    }\n",
              "  };\n",
              "\n",
              "  cancel.remove();\n",
              "\n",
              "  // Disable the input element since further picks are not allowed.\n",
              "  inputElement.disabled = true;\n",
              "\n",
              "  if (!files) {\n",
              "    return {\n",
              "      response: {\n",
              "        action: 'complete',\n",
              "      }\n",
              "    };\n",
              "  }\n",
              "\n",
              "  for (const file of files) {\n",
              "    const li = document.createElement('li');\n",
              "    li.append(span(file.name, {fontWeight: 'bold'}));\n",
              "    li.append(span(\n",
              "        `(${file.type || 'n/a'}) - ${file.size} bytes, ` +\n",
              "        `last modified: ${\n",
              "            file.lastModifiedDate ? file.lastModifiedDate.toLocaleDateString() :\n",
              "                                    'n/a'} - `));\n",
              "    const percent = span('0% done');\n",
              "    li.appendChild(percent);\n",
              "\n",
              "    outputElement.appendChild(li);\n",
              "\n",
              "    const fileDataPromise = new Promise((resolve) => {\n",
              "      const reader = new FileReader();\n",
              "      reader.onload = (e) => {\n",
              "        resolve(e.target.result);\n",
              "      };\n",
              "      reader.readAsArrayBuffer(file);\n",
              "    });\n",
              "    // Wait for the data to be ready.\n",
              "    let fileData = yield {\n",
              "      promise: fileDataPromise,\n",
              "      response: {\n",
              "        action: 'continue',\n",
              "      }\n",
              "    };\n",
              "\n",
              "    // Use a chunked sending to avoid message size limits. See b/62115660.\n",
              "    let position = 0;\n",
              "    do {\n",
              "      const length = Math.min(fileData.byteLength - position, MAX_PAYLOAD_SIZE);\n",
              "      const chunk = new Uint8Array(fileData, position, length);\n",
              "      position += length;\n",
              "\n",
              "      const base64 = btoa(String.fromCharCode.apply(null, chunk));\n",
              "      yield {\n",
              "        response: {\n",
              "          action: 'append',\n",
              "          file: file.name,\n",
              "          data: base64,\n",
              "        },\n",
              "      };\n",
              "\n",
              "      let percentDone = fileData.byteLength === 0 ?\n",
              "          100 :\n",
              "          Math.round((position / fileData.byteLength) * 100);\n",
              "      percent.textContent = `${percentDone}% done`;\n",
              "\n",
              "    } while (position < fileData.byteLength);\n",
              "  }\n",
              "\n",
              "  // All done.\n",
              "  yield {\n",
              "    response: {\n",
              "      action: 'complete',\n",
              "    }\n",
              "  };\n",
              "}\n",
              "\n",
              "scope.google = scope.google || {};\n",
              "scope.google.colab = scope.google.colab || {};\n",
              "scope.google.colab._files = {\n",
              "  _uploadFiles,\n",
              "  _uploadFilesContinue,\n",
              "};\n",
              "})(self);\n",
              "</script> "
            ]
          },
          "metadata": {}
        },
        {
          "output_type": "stream",
          "name": "stdout",
          "text": [
            "Saving data1.pkl to data1.pkl\n"
          ]
        }
      ]
    },
    {
      "cell_type": "code",
      "source": [
        "with open('data1.pkl', 'rb') as datapickle:\n",
        "    data_df=pickle.load(datapickle)"
      ],
      "metadata": {
        "id": "pBQDa7toDKUa"
      },
      "execution_count": 7,
      "outputs": []
    },
    {
      "cell_type": "code",
      "source": [
        "data_df.head()"
      ],
      "metadata": {
        "colab": {
          "base_uri": "https://localhost:8080/",
          "height": 386
        },
        "id": "hEUaoy7xDKYM",
        "outputId": "b7ffb753-3700-4063-c962-09cb320174df"
      },
      "execution_count": 8,
      "outputs": [
        {
          "output_type": "execute_result",
          "data": {
            "text/plain": [
              "  Persistency_Flag  Gender       Race     Ethnicity   Region Age_Bucket  \\\n",
              "0       Persistent    Male  Caucasian  Not Hispanic     West        >75   \n",
              "1   Non-Persistent    Male      Asian  Not Hispanic     West      55-65   \n",
              "2   Non-Persistent  Female  Caucasian      Hispanic  Midwest      65-75   \n",
              "3   Non-Persistent  Female  Caucasian  Not Hispanic  Midwest        >75   \n",
              "4   Non-Persistent  Female  Caucasian  Not Hispanic  Midwest        >75   \n",
              "\n",
              "         Ntm_Speciality Ntm_Specialist_Flag      Ntm_Speciality_Bucket  \\\n",
              "0  GENERAL PRACTITIONER              Others  OB/GYN/Others/PCP/Unknown   \n",
              "1  GENERAL PRACTITIONER              Others  OB/GYN/Others/PCP/Unknown   \n",
              "2  GENERAL PRACTITIONER              Others  OB/GYN/Others/PCP/Unknown   \n",
              "3  GENERAL PRACTITIONER              Others  OB/GYN/Others/PCP/Unknown   \n",
              "4  GENERAL PRACTITIONER              Others  OB/GYN/Others/PCP/Unknown   \n",
              "\n",
              "   Gluco_Record_Prior_Ntm  ...  Risk_Family_History_Of_Osteoporosis  \\\n",
              "0                       0  ...                                    0   \n",
              "1                       0  ...                                    0   \n",
              "2                       0  ...                                    0   \n",
              "3                       0  ...                                    0   \n",
              "4                       1  ...                                    0   \n",
              "\n",
              "   Risk_Low_Calcium_Intake  Risk_Vitamin_D_Insufficiency  \\\n",
              "0                        0                             0   \n",
              "1                        0                             0   \n",
              "2                        1                             0   \n",
              "3                        0                             0   \n",
              "4                        0                             0   \n",
              "\n",
              "   Risk_Poor_Health_Frailty  Risk_Excessive_Thinness  \\\n",
              "0                         0                        0   \n",
              "1                         0                        0   \n",
              "2                         0                        0   \n",
              "3                         0                        0   \n",
              "4                         0                        0   \n",
              "\n",
              "  Risk_Hysterectomy_Oophorectomy Risk_Estrogen_Deficiency Risk_Immobilization  \\\n",
              "0                              0                        0                   0   \n",
              "1                              0                        0                   0   \n",
              "2                              0                        0                   0   \n",
              "3                              0                        0                   0   \n",
              "4                              0                        0                   0   \n",
              "\n",
              "   Risk_Recurring_Falls  Count_Of_Risks  \n",
              "0                     0               0  \n",
              "1                     0               0  \n",
              "2                     0               2  \n",
              "3                     0               1  \n",
              "4                     0               1  \n",
              "\n",
              "[5 rows x 64 columns]"
            ],
            "text/html": [
              "\n",
              "  <div id=\"df-b530fa4c-5758-4eb5-96be-d1a8402e181d\">\n",
              "    <div class=\"colab-df-container\">\n",
              "      <div>\n",
              "<style scoped>\n",
              "    .dataframe tbody tr th:only-of-type {\n",
              "        vertical-align: middle;\n",
              "    }\n",
              "\n",
              "    .dataframe tbody tr th {\n",
              "        vertical-align: top;\n",
              "    }\n",
              "\n",
              "    .dataframe thead th {\n",
              "        text-align: right;\n",
              "    }\n",
              "</style>\n",
              "<table border=\"1\" class=\"dataframe\">\n",
              "  <thead>\n",
              "    <tr style=\"text-align: right;\">\n",
              "      <th></th>\n",
              "      <th>Persistency_Flag</th>\n",
              "      <th>Gender</th>\n",
              "      <th>Race</th>\n",
              "      <th>Ethnicity</th>\n",
              "      <th>Region</th>\n",
              "      <th>Age_Bucket</th>\n",
              "      <th>Ntm_Speciality</th>\n",
              "      <th>Ntm_Specialist_Flag</th>\n",
              "      <th>Ntm_Speciality_Bucket</th>\n",
              "      <th>Gluco_Record_Prior_Ntm</th>\n",
              "      <th>...</th>\n",
              "      <th>Risk_Family_History_Of_Osteoporosis</th>\n",
              "      <th>Risk_Low_Calcium_Intake</th>\n",
              "      <th>Risk_Vitamin_D_Insufficiency</th>\n",
              "      <th>Risk_Poor_Health_Frailty</th>\n",
              "      <th>Risk_Excessive_Thinness</th>\n",
              "      <th>Risk_Hysterectomy_Oophorectomy</th>\n",
              "      <th>Risk_Estrogen_Deficiency</th>\n",
              "      <th>Risk_Immobilization</th>\n",
              "      <th>Risk_Recurring_Falls</th>\n",
              "      <th>Count_Of_Risks</th>\n",
              "    </tr>\n",
              "  </thead>\n",
              "  <tbody>\n",
              "    <tr>\n",
              "      <th>0</th>\n",
              "      <td>Persistent</td>\n",
              "      <td>Male</td>\n",
              "      <td>Caucasian</td>\n",
              "      <td>Not Hispanic</td>\n",
              "      <td>West</td>\n",
              "      <td>&gt;75</td>\n",
              "      <td>GENERAL PRACTITIONER</td>\n",
              "      <td>Others</td>\n",
              "      <td>OB/GYN/Others/PCP/Unknown</td>\n",
              "      <td>0</td>\n",
              "      <td>...</td>\n",
              "      <td>0</td>\n",
              "      <td>0</td>\n",
              "      <td>0</td>\n",
              "      <td>0</td>\n",
              "      <td>0</td>\n",
              "      <td>0</td>\n",
              "      <td>0</td>\n",
              "      <td>0</td>\n",
              "      <td>0</td>\n",
              "      <td>0</td>\n",
              "    </tr>\n",
              "    <tr>\n",
              "      <th>1</th>\n",
              "      <td>Non-Persistent</td>\n",
              "      <td>Male</td>\n",
              "      <td>Asian</td>\n",
              "      <td>Not Hispanic</td>\n",
              "      <td>West</td>\n",
              "      <td>55-65</td>\n",
              "      <td>GENERAL PRACTITIONER</td>\n",
              "      <td>Others</td>\n",
              "      <td>OB/GYN/Others/PCP/Unknown</td>\n",
              "      <td>0</td>\n",
              "      <td>...</td>\n",
              "      <td>0</td>\n",
              "      <td>0</td>\n",
              "      <td>0</td>\n",
              "      <td>0</td>\n",
              "      <td>0</td>\n",
              "      <td>0</td>\n",
              "      <td>0</td>\n",
              "      <td>0</td>\n",
              "      <td>0</td>\n",
              "      <td>0</td>\n",
              "    </tr>\n",
              "    <tr>\n",
              "      <th>2</th>\n",
              "      <td>Non-Persistent</td>\n",
              "      <td>Female</td>\n",
              "      <td>Caucasian</td>\n",
              "      <td>Hispanic</td>\n",
              "      <td>Midwest</td>\n",
              "      <td>65-75</td>\n",
              "      <td>GENERAL PRACTITIONER</td>\n",
              "      <td>Others</td>\n",
              "      <td>OB/GYN/Others/PCP/Unknown</td>\n",
              "      <td>0</td>\n",
              "      <td>...</td>\n",
              "      <td>0</td>\n",
              "      <td>1</td>\n",
              "      <td>0</td>\n",
              "      <td>0</td>\n",
              "      <td>0</td>\n",
              "      <td>0</td>\n",
              "      <td>0</td>\n",
              "      <td>0</td>\n",
              "      <td>0</td>\n",
              "      <td>2</td>\n",
              "    </tr>\n",
              "    <tr>\n",
              "      <th>3</th>\n",
              "      <td>Non-Persistent</td>\n",
              "      <td>Female</td>\n",
              "      <td>Caucasian</td>\n",
              "      <td>Not Hispanic</td>\n",
              "      <td>Midwest</td>\n",
              "      <td>&gt;75</td>\n",
              "      <td>GENERAL PRACTITIONER</td>\n",
              "      <td>Others</td>\n",
              "      <td>OB/GYN/Others/PCP/Unknown</td>\n",
              "      <td>0</td>\n",
              "      <td>...</td>\n",
              "      <td>0</td>\n",
              "      <td>0</td>\n",
              "      <td>0</td>\n",
              "      <td>0</td>\n",
              "      <td>0</td>\n",
              "      <td>0</td>\n",
              "      <td>0</td>\n",
              "      <td>0</td>\n",
              "      <td>0</td>\n",
              "      <td>1</td>\n",
              "    </tr>\n",
              "    <tr>\n",
              "      <th>4</th>\n",
              "      <td>Non-Persistent</td>\n",
              "      <td>Female</td>\n",
              "      <td>Caucasian</td>\n",
              "      <td>Not Hispanic</td>\n",
              "      <td>Midwest</td>\n",
              "      <td>&gt;75</td>\n",
              "      <td>GENERAL PRACTITIONER</td>\n",
              "      <td>Others</td>\n",
              "      <td>OB/GYN/Others/PCP/Unknown</td>\n",
              "      <td>1</td>\n",
              "      <td>...</td>\n",
              "      <td>0</td>\n",
              "      <td>0</td>\n",
              "      <td>0</td>\n",
              "      <td>0</td>\n",
              "      <td>0</td>\n",
              "      <td>0</td>\n",
              "      <td>0</td>\n",
              "      <td>0</td>\n",
              "      <td>0</td>\n",
              "      <td>1</td>\n",
              "    </tr>\n",
              "  </tbody>\n",
              "</table>\n",
              "<p>5 rows × 64 columns</p>\n",
              "</div>\n",
              "      <button class=\"colab-df-convert\" onclick=\"convertToInteractive('df-b530fa4c-5758-4eb5-96be-d1a8402e181d')\"\n",
              "              title=\"Convert this dataframe to an interactive table.\"\n",
              "              style=\"display:none;\">\n",
              "        \n",
              "  <svg xmlns=\"http://www.w3.org/2000/svg\" height=\"24px\"viewBox=\"0 0 24 24\"\n",
              "       width=\"24px\">\n",
              "    <path d=\"M0 0h24v24H0V0z\" fill=\"none\"/>\n",
              "    <path d=\"M18.56 5.44l.94 2.06.94-2.06 2.06-.94-2.06-.94-.94-2.06-.94 2.06-2.06.94zm-11 1L8.5 8.5l.94-2.06 2.06-.94-2.06-.94L8.5 2.5l-.94 2.06-2.06.94zm10 10l.94 2.06.94-2.06 2.06-.94-2.06-.94-.94-2.06-.94 2.06-2.06.94z\"/><path d=\"M17.41 7.96l-1.37-1.37c-.4-.4-.92-.59-1.43-.59-.52 0-1.04.2-1.43.59L10.3 9.45l-7.72 7.72c-.78.78-.78 2.05 0 2.83L4 21.41c.39.39.9.59 1.41.59.51 0 1.02-.2 1.41-.59l7.78-7.78 2.81-2.81c.8-.78.8-2.07 0-2.86zM5.41 20L4 18.59l7.72-7.72 1.47 1.35L5.41 20z\"/>\n",
              "  </svg>\n",
              "      </button>\n",
              "      \n",
              "  <style>\n",
              "    .colab-df-container {\n",
              "      display:flex;\n",
              "      flex-wrap:wrap;\n",
              "      gap: 12px;\n",
              "    }\n",
              "\n",
              "    .colab-df-convert {\n",
              "      background-color: #E8F0FE;\n",
              "      border: none;\n",
              "      border-radius: 50%;\n",
              "      cursor: pointer;\n",
              "      display: none;\n",
              "      fill: #1967D2;\n",
              "      height: 32px;\n",
              "      padding: 0 0 0 0;\n",
              "      width: 32px;\n",
              "    }\n",
              "\n",
              "    .colab-df-convert:hover {\n",
              "      background-color: #E2EBFA;\n",
              "      box-shadow: 0px 1px 2px rgba(60, 64, 67, 0.3), 0px 1px 3px 1px rgba(60, 64, 67, 0.15);\n",
              "      fill: #174EA6;\n",
              "    }\n",
              "\n",
              "    [theme=dark] .colab-df-convert {\n",
              "      background-color: #3B4455;\n",
              "      fill: #D2E3FC;\n",
              "    }\n",
              "\n",
              "    [theme=dark] .colab-df-convert:hover {\n",
              "      background-color: #434B5C;\n",
              "      box-shadow: 0px 1px 3px 1px rgba(0, 0, 0, 0.15);\n",
              "      filter: drop-shadow(0px 1px 2px rgba(0, 0, 0, 0.3));\n",
              "      fill: #FFFFFF;\n",
              "    }\n",
              "  </style>\n",
              "\n",
              "      <script>\n",
              "        const buttonEl =\n",
              "          document.querySelector('#df-b530fa4c-5758-4eb5-96be-d1a8402e181d button.colab-df-convert');\n",
              "        buttonEl.style.display =\n",
              "          google.colab.kernel.accessAllowed ? 'block' : 'none';\n",
              "\n",
              "        async function convertToInteractive(key) {\n",
              "          const element = document.querySelector('#df-b530fa4c-5758-4eb5-96be-d1a8402e181d');\n",
              "          const dataTable =\n",
              "            await google.colab.kernel.invokeFunction('convertToInteractive',\n",
              "                                                     [key], {});\n",
              "          if (!dataTable) return;\n",
              "\n",
              "          const docLinkHtml = 'Like what you see? Visit the ' +\n",
              "            '<a target=\"_blank\" href=https://colab.research.google.com/notebooks/data_table.ipynb>data table notebook</a>'\n",
              "            + ' to learn more about interactive tables.';\n",
              "          element.innerHTML = '';\n",
              "          dataTable['output_type'] = 'display_data';\n",
              "          await google.colab.output.renderOutput(dataTable, element);\n",
              "          const docLink = document.createElement('div');\n",
              "          docLink.innerHTML = docLinkHtml;\n",
              "          element.appendChild(docLink);\n",
              "        }\n",
              "      </script>\n",
              "    </div>\n",
              "  </div>\n",
              "  "
            ]
          },
          "metadata": {},
          "execution_count": 8
        }
      ]
    },
    {
      "cell_type": "code",
      "source": [
        "data_df.info()"
      ],
      "metadata": {
        "colab": {
          "base_uri": "https://localhost:8080/"
        },
        "id": "-AXxD9B-DKbU",
        "outputId": "e9e9e30b-7d2f-4ab6-9089-e99041f42f16"
      },
      "execution_count": 10,
      "outputs": [
        {
          "output_type": "stream",
          "name": "stdout",
          "text": [
            "<class 'pandas.core.frame.DataFrame'>\n",
            "RangeIndex: 3424 entries, 0 to 3423\n",
            "Data columns (total 64 columns):\n",
            " #   Column                                                              Non-Null Count  Dtype  \n",
            "---  ------                                                              --------------  -----  \n",
            " 0   Persistency_Flag                                                    3424 non-null   object \n",
            " 1   Gender                                                              3424 non-null   object \n",
            " 2   Race                                                                3424 non-null   object \n",
            " 3   Ethnicity                                                           3424 non-null   object \n",
            " 4   Region                                                              3424 non-null   object \n",
            " 5   Age_Bucket                                                          3424 non-null   object \n",
            " 6   Ntm_Speciality                                                      3424 non-null   object \n",
            " 7   Ntm_Specialist_Flag                                                 3424 non-null   object \n",
            " 8   Ntm_Speciality_Bucket                                               3424 non-null   object \n",
            " 9   Gluco_Record_Prior_Ntm                                              3424 non-null   int64  \n",
            " 10  Gluco_Record_During_Rx                                              3424 non-null   int64  \n",
            " 11  Dexa_Freq_During_Rx                                                 3424 non-null   float64\n",
            " 12  Dexa_During_Rx                                                      3424 non-null   int64  \n",
            " 13  Frag_Frac_Prior_Ntm                                                 3424 non-null   int64  \n",
            " 14  Frag_Frac_During_Rx                                                 3424 non-null   int64  \n",
            " 15  Risk_Segment_Prior_Ntm                                              3424 non-null   object \n",
            " 16  Tscore_Bucket_Prior_Ntm                                             3424 non-null   object \n",
            " 17  Adherent_Flag                                                       3424 non-null   object \n",
            " 18  Idn_Indicator                                                       3424 non-null   int64  \n",
            " 19  Injectable_Experience_During_Rx                                     3424 non-null   int64  \n",
            " 20  Comorb_Encounter_For_Screening_For_Malignant_Neoplasms              3424 non-null   int64  \n",
            " 21  Comorb_Encounter_For_Immunization                                   3424 non-null   int64  \n",
            " 22  Comorb_Encntr_For_General_Exam_W_O_Complaint,_Susp_Or_Reprtd_Dx     3424 non-null   int64  \n",
            " 23  Comorb_Vitamin_D_Deficiency                                         3424 non-null   int64  \n",
            " 24  Comorb_Other_Joint_Disorder_Not_Elsewhere_Classified                3424 non-null   int64  \n",
            " 25  Comorb_Encntr_For_Oth_Sp_Exam_W_O_Complaint_Suspected_Or_Reprtd_Dx  3424 non-null   int64  \n",
            " 26  Comorb_Long_Term_Current_Drug_Therapy                               3424 non-null   int64  \n",
            " 27  Comorb_Dorsalgia                                                    3424 non-null   int64  \n",
            " 28  Comorb_Personal_History_Of_Other_Diseases_And_Conditions            3424 non-null   int64  \n",
            " 29  Comorb_Other_Disorders_Of_Bone_Density_And_Structure                3424 non-null   int64  \n",
            " 30  Comorb_Disorders_of_lipoprotein_metabolism_and_other_lipidemias     3424 non-null   int64  \n",
            " 31  Comorb_Osteoporosis_without_current_pathological_fracture           3424 non-null   int64  \n",
            " 32  Comorb_Personal_history_of_malignant_neoplasm                       3424 non-null   int64  \n",
            " 33  Comorb_Gastro_esophageal_reflux_disease                             3424 non-null   int64  \n",
            " 34  Concom_Cholesterol_And_Triglyceride_Regulating_Preparations         3424 non-null   int64  \n",
            " 35  Concom_Narcotics                                                    3424 non-null   int64  \n",
            " 36  Concom_Systemic_Corticosteroids_Plain                               3424 non-null   int64  \n",
            " 37  Concom_Anti_Depressants_And_Mood_Stabilisers                        3424 non-null   int64  \n",
            " 38  Concom_Fluoroquinolones                                             3424 non-null   int64  \n",
            " 39  Concom_Cephalosporins                                               3424 non-null   int64  \n",
            " 40  Concom_Macrolides_And_Similar_Types                                 3424 non-null   int64  \n",
            " 41  Concom_Broad_Spectrum_Penicillins                                   3424 non-null   int64  \n",
            " 42  Concom_Anaesthetics_General                                         3424 non-null   int64  \n",
            " 43  Concom_Viral_Vaccines                                               3424 non-null   int64  \n",
            " 44  Risk_Type_1_Insulin_Dependent_Diabetes                              3424 non-null   int64  \n",
            " 45  Risk_Osteogenesis_Imperfecta                                        3424 non-null   int64  \n",
            " 46  Risk_Rheumatoid_Arthritis                                           3424 non-null   int64  \n",
            " 47  Risk_Untreated_Chronic_Hyperthyroidism                              3424 non-null   int64  \n",
            " 48  Risk_Untreated_Chronic_Hypogonadism                                 3424 non-null   int64  \n",
            " 49  Risk_Untreated_Early_Menopause                                      3424 non-null   int64  \n",
            " 50  Risk_Patient_Parent_Fractured_Their_Hip                             3424 non-null   int64  \n",
            " 51  Risk_Smoking_Tobacco                                                3424 non-null   int64  \n",
            " 52  Risk_Chronic_Malnutrition_Or_Malabsorption                          3424 non-null   int64  \n",
            " 53  Risk_Chronic_Liver_Disease                                          3424 non-null   int64  \n",
            " 54  Risk_Family_History_Of_Osteoporosis                                 3424 non-null   int64  \n",
            " 55  Risk_Low_Calcium_Intake                                             3424 non-null   int64  \n",
            " 56  Risk_Vitamin_D_Insufficiency                                        3424 non-null   int64  \n",
            " 57  Risk_Poor_Health_Frailty                                            3424 non-null   int64  \n",
            " 58  Risk_Excessive_Thinness                                             3424 non-null   int64  \n",
            " 59  Risk_Hysterectomy_Oophorectomy                                      3424 non-null   int64  \n",
            " 60  Risk_Estrogen_Deficiency                                            3424 non-null   int64  \n",
            " 61  Risk_Immobilization                                                 3424 non-null   int64  \n",
            " 62  Risk_Recurring_Falls                                                3424 non-null   int64  \n",
            " 63  Count_Of_Risks                                                      3424 non-null   int64  \n",
            "dtypes: float64(1), int64(51), object(12)\n",
            "memory usage: 1.7+ MB\n"
          ]
        }
      ]
    },
    {
      "cell_type": "code",
      "source": [
        "data_df.describe()"
      ],
      "metadata": {
        "colab": {
          "base_uri": "https://localhost:8080/",
          "height": 394
        },
        "id": "gNSZ1AfrWovG",
        "outputId": "ac74de1a-5a96-4777-bb11-099ba1862630"
      },
      "execution_count": 13,
      "outputs": [
        {
          "output_type": "execute_result",
          "data": {
            "text/plain": [
              "       Gluco_Record_Prior_Ntm  Gluco_Record_During_Rx  Dexa_Freq_During_Rx  \\\n",
              "count             3424.000000             3424.000000          3424.000000   \n",
              "mean                 0.235105                0.263435             0.020658   \n",
              "std                  0.424126                0.440560             0.055730   \n",
              "min                  0.000000                0.000000             0.000000   \n",
              "25%                  0.000000                0.000000             0.000000   \n",
              "50%                  0.000000                0.000000             0.000000   \n",
              "75%                  0.000000                1.000000             0.020548   \n",
              "max                  1.000000                1.000000             1.000000   \n",
              "\n",
              "       Dexa_During_Rx  Frag_Frac_Prior_Ntm  Frag_Frac_During_Rx  \\\n",
              "count     3424.000000          3424.000000          3424.000000   \n",
              "mean         0.273364             0.161215             0.121787   \n",
              "std          0.445751             0.367783             0.327088   \n",
              "min          0.000000             0.000000             0.000000   \n",
              "25%          0.000000             0.000000             0.000000   \n",
              "50%          0.000000             0.000000             0.000000   \n",
              "75%          1.000000             0.000000             0.000000   \n",
              "max          1.000000             1.000000             1.000000   \n",
              "\n",
              "       Idn_Indicator  Injectable_Experience_During_Rx  \\\n",
              "count    3424.000000                      3424.000000   \n",
              "mean        0.746787                         0.892523   \n",
              "std         0.434915                         0.309764   \n",
              "min         0.000000                         0.000000   \n",
              "25%         0.000000                         1.000000   \n",
              "50%         1.000000                         1.000000   \n",
              "75%         1.000000                         1.000000   \n",
              "max         1.000000                         1.000000   \n",
              "\n",
              "       Comorb_Encounter_For_Screening_For_Malignant_Neoplasms  \\\n",
              "count                                        3424.000000        \n",
              "mean                                            0.447722        \n",
              "std                                             0.497332        \n",
              "min                                             0.000000        \n",
              "25%                                             0.000000        \n",
              "50%                                             0.000000        \n",
              "75%                                             1.000000        \n",
              "max                                             1.000000        \n",
              "\n",
              "       Comorb_Encounter_For_Immunization  ...  \\\n",
              "count                        3424.000000  ...   \n",
              "mean                            0.441881  ...   \n",
              "std                             0.496683  ...   \n",
              "min                             0.000000  ...   \n",
              "25%                             0.000000  ...   \n",
              "50%                             0.000000  ...   \n",
              "75%                             1.000000  ...   \n",
              "max                             1.000000  ...   \n",
              "\n",
              "       Risk_Family_History_Of_Osteoporosis  Risk_Low_Calcium_Intake  \\\n",
              "count                          3424.000000              3424.000000   \n",
              "mean                              0.104556                 0.012266   \n",
              "std                               0.306025                 0.110088   \n",
              "min                               0.000000                 0.000000   \n",
              "25%                               0.000000                 0.000000   \n",
              "50%                               0.000000                 0.000000   \n",
              "75%                               0.000000                 0.000000   \n",
              "max                               1.000000                 1.000000   \n",
              "\n",
              "       Risk_Vitamin_D_Insufficiency  Risk_Poor_Health_Frailty  \\\n",
              "count                   3424.000000               3424.000000   \n",
              "mean                       0.477804                  0.056075   \n",
              "std                        0.499580                  0.230100   \n",
              "min                        0.000000                  0.000000   \n",
              "25%                        0.000000                  0.000000   \n",
              "50%                        0.000000                  0.000000   \n",
              "75%                        1.000000                  0.000000   \n",
              "max                        1.000000                  1.000000   \n",
              "\n",
              "       Risk_Excessive_Thinness  Risk_Hysterectomy_Oophorectomy  \\\n",
              "count              3424.000000                     3424.000000   \n",
              "mean                  0.019568                        0.015771   \n",
              "std                   0.138530                        0.124607   \n",
              "min                   0.000000                        0.000000   \n",
              "25%                   0.000000                        0.000000   \n",
              "50%                   0.000000                        0.000000   \n",
              "75%                   0.000000                        0.000000   \n",
              "max                   1.000000                        1.000000   \n",
              "\n",
              "       Risk_Estrogen_Deficiency  Risk_Immobilization  Risk_Recurring_Falls  \\\n",
              "count               3424.000000          3424.000000           3424.000000   \n",
              "mean                   0.003213             0.004089              0.020152   \n",
              "std                    0.056597             0.063822              0.140540   \n",
              "min                    0.000000             0.000000              0.000000   \n",
              "25%                    0.000000             0.000000              0.000000   \n",
              "50%                    0.000000             0.000000              0.000000   \n",
              "75%                    0.000000             0.000000              0.000000   \n",
              "max                    1.000000             1.000000              1.000000   \n",
              "\n",
              "       Count_Of_Risks  \n",
              "count     3424.000000  \n",
              "mean         1.239486  \n",
              "std          1.094914  \n",
              "min          0.000000  \n",
              "25%          0.000000  \n",
              "50%          1.000000  \n",
              "75%          2.000000  \n",
              "max          7.000000  \n",
              "\n",
              "[8 rows x 52 columns]"
            ],
            "text/html": [
              "\n",
              "  <div id=\"df-5a371522-84a5-4e53-aa6b-6f387ce6d72b\">\n",
              "    <div class=\"colab-df-container\">\n",
              "      <div>\n",
              "<style scoped>\n",
              "    .dataframe tbody tr th:only-of-type {\n",
              "        vertical-align: middle;\n",
              "    }\n",
              "\n",
              "    .dataframe tbody tr th {\n",
              "        vertical-align: top;\n",
              "    }\n",
              "\n",
              "    .dataframe thead th {\n",
              "        text-align: right;\n",
              "    }\n",
              "</style>\n",
              "<table border=\"1\" class=\"dataframe\">\n",
              "  <thead>\n",
              "    <tr style=\"text-align: right;\">\n",
              "      <th></th>\n",
              "      <th>Gluco_Record_Prior_Ntm</th>\n",
              "      <th>Gluco_Record_During_Rx</th>\n",
              "      <th>Dexa_Freq_During_Rx</th>\n",
              "      <th>Dexa_During_Rx</th>\n",
              "      <th>Frag_Frac_Prior_Ntm</th>\n",
              "      <th>Frag_Frac_During_Rx</th>\n",
              "      <th>Idn_Indicator</th>\n",
              "      <th>Injectable_Experience_During_Rx</th>\n",
              "      <th>Comorb_Encounter_For_Screening_For_Malignant_Neoplasms</th>\n",
              "      <th>Comorb_Encounter_For_Immunization</th>\n",
              "      <th>...</th>\n",
              "      <th>Risk_Family_History_Of_Osteoporosis</th>\n",
              "      <th>Risk_Low_Calcium_Intake</th>\n",
              "      <th>Risk_Vitamin_D_Insufficiency</th>\n",
              "      <th>Risk_Poor_Health_Frailty</th>\n",
              "      <th>Risk_Excessive_Thinness</th>\n",
              "      <th>Risk_Hysterectomy_Oophorectomy</th>\n",
              "      <th>Risk_Estrogen_Deficiency</th>\n",
              "      <th>Risk_Immobilization</th>\n",
              "      <th>Risk_Recurring_Falls</th>\n",
              "      <th>Count_Of_Risks</th>\n",
              "    </tr>\n",
              "  </thead>\n",
              "  <tbody>\n",
              "    <tr>\n",
              "      <th>count</th>\n",
              "      <td>3424.000000</td>\n",
              "      <td>3424.000000</td>\n",
              "      <td>3424.000000</td>\n",
              "      <td>3424.000000</td>\n",
              "      <td>3424.000000</td>\n",
              "      <td>3424.000000</td>\n",
              "      <td>3424.000000</td>\n",
              "      <td>3424.000000</td>\n",
              "      <td>3424.000000</td>\n",
              "      <td>3424.000000</td>\n",
              "      <td>...</td>\n",
              "      <td>3424.000000</td>\n",
              "      <td>3424.000000</td>\n",
              "      <td>3424.000000</td>\n",
              "      <td>3424.000000</td>\n",
              "      <td>3424.000000</td>\n",
              "      <td>3424.000000</td>\n",
              "      <td>3424.000000</td>\n",
              "      <td>3424.000000</td>\n",
              "      <td>3424.000000</td>\n",
              "      <td>3424.000000</td>\n",
              "    </tr>\n",
              "    <tr>\n",
              "      <th>mean</th>\n",
              "      <td>0.235105</td>\n",
              "      <td>0.263435</td>\n",
              "      <td>0.020658</td>\n",
              "      <td>0.273364</td>\n",
              "      <td>0.161215</td>\n",
              "      <td>0.121787</td>\n",
              "      <td>0.746787</td>\n",
              "      <td>0.892523</td>\n",
              "      <td>0.447722</td>\n",
              "      <td>0.441881</td>\n",
              "      <td>...</td>\n",
              "      <td>0.104556</td>\n",
              "      <td>0.012266</td>\n",
              "      <td>0.477804</td>\n",
              "      <td>0.056075</td>\n",
              "      <td>0.019568</td>\n",
              "      <td>0.015771</td>\n",
              "      <td>0.003213</td>\n",
              "      <td>0.004089</td>\n",
              "      <td>0.020152</td>\n",
              "      <td>1.239486</td>\n",
              "    </tr>\n",
              "    <tr>\n",
              "      <th>std</th>\n",
              "      <td>0.424126</td>\n",
              "      <td>0.440560</td>\n",
              "      <td>0.055730</td>\n",
              "      <td>0.445751</td>\n",
              "      <td>0.367783</td>\n",
              "      <td>0.327088</td>\n",
              "      <td>0.434915</td>\n",
              "      <td>0.309764</td>\n",
              "      <td>0.497332</td>\n",
              "      <td>0.496683</td>\n",
              "      <td>...</td>\n",
              "      <td>0.306025</td>\n",
              "      <td>0.110088</td>\n",
              "      <td>0.499580</td>\n",
              "      <td>0.230100</td>\n",
              "      <td>0.138530</td>\n",
              "      <td>0.124607</td>\n",
              "      <td>0.056597</td>\n",
              "      <td>0.063822</td>\n",
              "      <td>0.140540</td>\n",
              "      <td>1.094914</td>\n",
              "    </tr>\n",
              "    <tr>\n",
              "      <th>min</th>\n",
              "      <td>0.000000</td>\n",
              "      <td>0.000000</td>\n",
              "      <td>0.000000</td>\n",
              "      <td>0.000000</td>\n",
              "      <td>0.000000</td>\n",
              "      <td>0.000000</td>\n",
              "      <td>0.000000</td>\n",
              "      <td>0.000000</td>\n",
              "      <td>0.000000</td>\n",
              "      <td>0.000000</td>\n",
              "      <td>...</td>\n",
              "      <td>0.000000</td>\n",
              "      <td>0.000000</td>\n",
              "      <td>0.000000</td>\n",
              "      <td>0.000000</td>\n",
              "      <td>0.000000</td>\n",
              "      <td>0.000000</td>\n",
              "      <td>0.000000</td>\n",
              "      <td>0.000000</td>\n",
              "      <td>0.000000</td>\n",
              "      <td>0.000000</td>\n",
              "    </tr>\n",
              "    <tr>\n",
              "      <th>25%</th>\n",
              "      <td>0.000000</td>\n",
              "      <td>0.000000</td>\n",
              "      <td>0.000000</td>\n",
              "      <td>0.000000</td>\n",
              "      <td>0.000000</td>\n",
              "      <td>0.000000</td>\n",
              "      <td>0.000000</td>\n",
              "      <td>1.000000</td>\n",
              "      <td>0.000000</td>\n",
              "      <td>0.000000</td>\n",
              "      <td>...</td>\n",
              "      <td>0.000000</td>\n",
              "      <td>0.000000</td>\n",
              "      <td>0.000000</td>\n",
              "      <td>0.000000</td>\n",
              "      <td>0.000000</td>\n",
              "      <td>0.000000</td>\n",
              "      <td>0.000000</td>\n",
              "      <td>0.000000</td>\n",
              "      <td>0.000000</td>\n",
              "      <td>0.000000</td>\n",
              "    </tr>\n",
              "    <tr>\n",
              "      <th>50%</th>\n",
              "      <td>0.000000</td>\n",
              "      <td>0.000000</td>\n",
              "      <td>0.000000</td>\n",
              "      <td>0.000000</td>\n",
              "      <td>0.000000</td>\n",
              "      <td>0.000000</td>\n",
              "      <td>1.000000</td>\n",
              "      <td>1.000000</td>\n",
              "      <td>0.000000</td>\n",
              "      <td>0.000000</td>\n",
              "      <td>...</td>\n",
              "      <td>0.000000</td>\n",
              "      <td>0.000000</td>\n",
              "      <td>0.000000</td>\n",
              "      <td>0.000000</td>\n",
              "      <td>0.000000</td>\n",
              "      <td>0.000000</td>\n",
              "      <td>0.000000</td>\n",
              "      <td>0.000000</td>\n",
              "      <td>0.000000</td>\n",
              "      <td>1.000000</td>\n",
              "    </tr>\n",
              "    <tr>\n",
              "      <th>75%</th>\n",
              "      <td>0.000000</td>\n",
              "      <td>1.000000</td>\n",
              "      <td>0.020548</td>\n",
              "      <td>1.000000</td>\n",
              "      <td>0.000000</td>\n",
              "      <td>0.000000</td>\n",
              "      <td>1.000000</td>\n",
              "      <td>1.000000</td>\n",
              "      <td>1.000000</td>\n",
              "      <td>1.000000</td>\n",
              "      <td>...</td>\n",
              "      <td>0.000000</td>\n",
              "      <td>0.000000</td>\n",
              "      <td>1.000000</td>\n",
              "      <td>0.000000</td>\n",
              "      <td>0.000000</td>\n",
              "      <td>0.000000</td>\n",
              "      <td>0.000000</td>\n",
              "      <td>0.000000</td>\n",
              "      <td>0.000000</td>\n",
              "      <td>2.000000</td>\n",
              "    </tr>\n",
              "    <tr>\n",
              "      <th>max</th>\n",
              "      <td>1.000000</td>\n",
              "      <td>1.000000</td>\n",
              "      <td>1.000000</td>\n",
              "      <td>1.000000</td>\n",
              "      <td>1.000000</td>\n",
              "      <td>1.000000</td>\n",
              "      <td>1.000000</td>\n",
              "      <td>1.000000</td>\n",
              "      <td>1.000000</td>\n",
              "      <td>1.000000</td>\n",
              "      <td>...</td>\n",
              "      <td>1.000000</td>\n",
              "      <td>1.000000</td>\n",
              "      <td>1.000000</td>\n",
              "      <td>1.000000</td>\n",
              "      <td>1.000000</td>\n",
              "      <td>1.000000</td>\n",
              "      <td>1.000000</td>\n",
              "      <td>1.000000</td>\n",
              "      <td>1.000000</td>\n",
              "      <td>7.000000</td>\n",
              "    </tr>\n",
              "  </tbody>\n",
              "</table>\n",
              "<p>8 rows × 52 columns</p>\n",
              "</div>\n",
              "      <button class=\"colab-df-convert\" onclick=\"convertToInteractive('df-5a371522-84a5-4e53-aa6b-6f387ce6d72b')\"\n",
              "              title=\"Convert this dataframe to an interactive table.\"\n",
              "              style=\"display:none;\">\n",
              "        \n",
              "  <svg xmlns=\"http://www.w3.org/2000/svg\" height=\"24px\"viewBox=\"0 0 24 24\"\n",
              "       width=\"24px\">\n",
              "    <path d=\"M0 0h24v24H0V0z\" fill=\"none\"/>\n",
              "    <path d=\"M18.56 5.44l.94 2.06.94-2.06 2.06-.94-2.06-.94-.94-2.06-.94 2.06-2.06.94zm-11 1L8.5 8.5l.94-2.06 2.06-.94-2.06-.94L8.5 2.5l-.94 2.06-2.06.94zm10 10l.94 2.06.94-2.06 2.06-.94-2.06-.94-.94-2.06-.94 2.06-2.06.94z\"/><path d=\"M17.41 7.96l-1.37-1.37c-.4-.4-.92-.59-1.43-.59-.52 0-1.04.2-1.43.59L10.3 9.45l-7.72 7.72c-.78.78-.78 2.05 0 2.83L4 21.41c.39.39.9.59 1.41.59.51 0 1.02-.2 1.41-.59l7.78-7.78 2.81-2.81c.8-.78.8-2.07 0-2.86zM5.41 20L4 18.59l7.72-7.72 1.47 1.35L5.41 20z\"/>\n",
              "  </svg>\n",
              "      </button>\n",
              "      \n",
              "  <style>\n",
              "    .colab-df-container {\n",
              "      display:flex;\n",
              "      flex-wrap:wrap;\n",
              "      gap: 12px;\n",
              "    }\n",
              "\n",
              "    .colab-df-convert {\n",
              "      background-color: #E8F0FE;\n",
              "      border: none;\n",
              "      border-radius: 50%;\n",
              "      cursor: pointer;\n",
              "      display: none;\n",
              "      fill: #1967D2;\n",
              "      height: 32px;\n",
              "      padding: 0 0 0 0;\n",
              "      width: 32px;\n",
              "    }\n",
              "\n",
              "    .colab-df-convert:hover {\n",
              "      background-color: #E2EBFA;\n",
              "      box-shadow: 0px 1px 2px rgba(60, 64, 67, 0.3), 0px 1px 3px 1px rgba(60, 64, 67, 0.15);\n",
              "      fill: #174EA6;\n",
              "    }\n",
              "\n",
              "    [theme=dark] .colab-df-convert {\n",
              "      background-color: #3B4455;\n",
              "      fill: #D2E3FC;\n",
              "    }\n",
              "\n",
              "    [theme=dark] .colab-df-convert:hover {\n",
              "      background-color: #434B5C;\n",
              "      box-shadow: 0px 1px 3px 1px rgba(0, 0, 0, 0.15);\n",
              "      filter: drop-shadow(0px 1px 2px rgba(0, 0, 0, 0.3));\n",
              "      fill: #FFFFFF;\n",
              "    }\n",
              "  </style>\n",
              "\n",
              "      <script>\n",
              "        const buttonEl =\n",
              "          document.querySelector('#df-5a371522-84a5-4e53-aa6b-6f387ce6d72b button.colab-df-convert');\n",
              "        buttonEl.style.display =\n",
              "          google.colab.kernel.accessAllowed ? 'block' : 'none';\n",
              "\n",
              "        async function convertToInteractive(key) {\n",
              "          const element = document.querySelector('#df-5a371522-84a5-4e53-aa6b-6f387ce6d72b');\n",
              "          const dataTable =\n",
              "            await google.colab.kernel.invokeFunction('convertToInteractive',\n",
              "                                                     [key], {});\n",
              "          if (!dataTable) return;\n",
              "\n",
              "          const docLinkHtml = 'Like what you see? Visit the ' +\n",
              "            '<a target=\"_blank\" href=https://colab.research.google.com/notebooks/data_table.ipynb>data table notebook</a>'\n",
              "            + ' to learn more about interactive tables.';\n",
              "          element.innerHTML = '';\n",
              "          dataTable['output_type'] = 'display_data';\n",
              "          await google.colab.output.renderOutput(dataTable, element);\n",
              "          const docLink = document.createElement('div');\n",
              "          docLink.innerHTML = docLinkHtml;\n",
              "          element.appendChild(docLink);\n",
              "        }\n",
              "      </script>\n",
              "    </div>\n",
              "  </div>\n",
              "  "
            ]
          },
          "metadata": {},
          "execution_count": 13
        }
      ]
    },
    {
      "cell_type": "code",
      "source": [
        "#Will include object type\n",
        "data_df.describe(include='all')"
      ],
      "metadata": {
        "colab": {
          "base_uri": "https://localhost:8080/",
          "height": 505
        },
        "id": "bR0ZKCgHDKdt",
        "outputId": "90772620-ecf9-497d-e496-7d1b1e0f4eb1"
      },
      "execution_count": 14,
      "outputs": [
        {
          "output_type": "execute_result",
          "data": {
            "text/plain": [
              "       Persistency_Flag  Gender       Race     Ethnicity   Region Age_Bucket  \\\n",
              "count              3424    3424       3424          3424     3424       3424   \n",
              "unique                2       2          3             2        4          4   \n",
              "top      Non-Persistent  Female  Caucasian  Not Hispanic  Midwest        >75   \n",
              "freq               2135    3230       3245          3326     1443       1439   \n",
              "mean                NaN     NaN        NaN           NaN      NaN        NaN   \n",
              "std                 NaN     NaN        NaN           NaN      NaN        NaN   \n",
              "min                 NaN     NaN        NaN           NaN      NaN        NaN   \n",
              "25%                 NaN     NaN        NaN           NaN      NaN        NaN   \n",
              "50%                 NaN     NaN        NaN           NaN      NaN        NaN   \n",
              "75%                 NaN     NaN        NaN           NaN      NaN        NaN   \n",
              "max                 NaN     NaN        NaN           NaN      NaN        NaN   \n",
              "\n",
              "              Ntm_Speciality Ntm_Specialist_Flag      Ntm_Speciality_Bucket  \\\n",
              "count                   3424                3424                       3424   \n",
              "unique                    36                   2                          3   \n",
              "top     GENERAL PRACTITIONER              Others  OB/GYN/Others/PCP/Unknown   \n",
              "freq                    1535                2013                       2104   \n",
              "mean                     NaN                 NaN                        NaN   \n",
              "std                      NaN                 NaN                        NaN   \n",
              "min                      NaN                 NaN                        NaN   \n",
              "25%                      NaN                 NaN                        NaN   \n",
              "50%                      NaN                 NaN                        NaN   \n",
              "75%                      NaN                 NaN                        NaN   \n",
              "max                      NaN                 NaN                        NaN   \n",
              "\n",
              "        Gluco_Record_Prior_Ntm  ...  Risk_Family_History_Of_Osteoporosis  \\\n",
              "count              3424.000000  ...                          3424.000000   \n",
              "unique                     NaN  ...                                  NaN   \n",
              "top                        NaN  ...                                  NaN   \n",
              "freq                       NaN  ...                                  NaN   \n",
              "mean                  0.235105  ...                             0.104556   \n",
              "std                   0.424126  ...                             0.306025   \n",
              "min                   0.000000  ...                             0.000000   \n",
              "25%                   0.000000  ...                             0.000000   \n",
              "50%                   0.000000  ...                             0.000000   \n",
              "75%                   0.000000  ...                             0.000000   \n",
              "max                   1.000000  ...                             1.000000   \n",
              "\n",
              "        Risk_Low_Calcium_Intake  Risk_Vitamin_D_Insufficiency  \\\n",
              "count               3424.000000                   3424.000000   \n",
              "unique                      NaN                           NaN   \n",
              "top                         NaN                           NaN   \n",
              "freq                        NaN                           NaN   \n",
              "mean                   0.012266                      0.477804   \n",
              "std                    0.110088                      0.499580   \n",
              "min                    0.000000                      0.000000   \n",
              "25%                    0.000000                      0.000000   \n",
              "50%                    0.000000                      0.000000   \n",
              "75%                    0.000000                      1.000000   \n",
              "max                    1.000000                      1.000000   \n",
              "\n",
              "        Risk_Poor_Health_Frailty  Risk_Excessive_Thinness  \\\n",
              "count                3424.000000              3424.000000   \n",
              "unique                       NaN                      NaN   \n",
              "top                          NaN                      NaN   \n",
              "freq                         NaN                      NaN   \n",
              "mean                    0.056075                 0.019568   \n",
              "std                     0.230100                 0.138530   \n",
              "min                     0.000000                 0.000000   \n",
              "25%                     0.000000                 0.000000   \n",
              "50%                     0.000000                 0.000000   \n",
              "75%                     0.000000                 0.000000   \n",
              "max                     1.000000                 1.000000   \n",
              "\n",
              "       Risk_Hysterectomy_Oophorectomy Risk_Estrogen_Deficiency  \\\n",
              "count                     3424.000000              3424.000000   \n",
              "unique                            NaN                      NaN   \n",
              "top                               NaN                      NaN   \n",
              "freq                              NaN                      NaN   \n",
              "mean                         0.015771                 0.003213   \n",
              "std                          0.124607                 0.056597   \n",
              "min                          0.000000                 0.000000   \n",
              "25%                          0.000000                 0.000000   \n",
              "50%                          0.000000                 0.000000   \n",
              "75%                          0.000000                 0.000000   \n",
              "max                          1.000000                 1.000000   \n",
              "\n",
              "       Risk_Immobilization  Risk_Recurring_Falls  Count_Of_Risks  \n",
              "count          3424.000000           3424.000000     3424.000000  \n",
              "unique                 NaN                   NaN             NaN  \n",
              "top                    NaN                   NaN             NaN  \n",
              "freq                   NaN                   NaN             NaN  \n",
              "mean              0.004089              0.020152        1.239486  \n",
              "std               0.063822              0.140540        1.094914  \n",
              "min               0.000000              0.000000        0.000000  \n",
              "25%               0.000000              0.000000        0.000000  \n",
              "50%               0.000000              0.000000        1.000000  \n",
              "75%               0.000000              0.000000        2.000000  \n",
              "max               1.000000              1.000000        7.000000  \n",
              "\n",
              "[11 rows x 64 columns]"
            ],
            "text/html": [
              "\n",
              "  <div id=\"df-5fc70212-acd3-4a10-a1c8-ad56823a412f\">\n",
              "    <div class=\"colab-df-container\">\n",
              "      <div>\n",
              "<style scoped>\n",
              "    .dataframe tbody tr th:only-of-type {\n",
              "        vertical-align: middle;\n",
              "    }\n",
              "\n",
              "    .dataframe tbody tr th {\n",
              "        vertical-align: top;\n",
              "    }\n",
              "\n",
              "    .dataframe thead th {\n",
              "        text-align: right;\n",
              "    }\n",
              "</style>\n",
              "<table border=\"1\" class=\"dataframe\">\n",
              "  <thead>\n",
              "    <tr style=\"text-align: right;\">\n",
              "      <th></th>\n",
              "      <th>Persistency_Flag</th>\n",
              "      <th>Gender</th>\n",
              "      <th>Race</th>\n",
              "      <th>Ethnicity</th>\n",
              "      <th>Region</th>\n",
              "      <th>Age_Bucket</th>\n",
              "      <th>Ntm_Speciality</th>\n",
              "      <th>Ntm_Specialist_Flag</th>\n",
              "      <th>Ntm_Speciality_Bucket</th>\n",
              "      <th>Gluco_Record_Prior_Ntm</th>\n",
              "      <th>...</th>\n",
              "      <th>Risk_Family_History_Of_Osteoporosis</th>\n",
              "      <th>Risk_Low_Calcium_Intake</th>\n",
              "      <th>Risk_Vitamin_D_Insufficiency</th>\n",
              "      <th>Risk_Poor_Health_Frailty</th>\n",
              "      <th>Risk_Excessive_Thinness</th>\n",
              "      <th>Risk_Hysterectomy_Oophorectomy</th>\n",
              "      <th>Risk_Estrogen_Deficiency</th>\n",
              "      <th>Risk_Immobilization</th>\n",
              "      <th>Risk_Recurring_Falls</th>\n",
              "      <th>Count_Of_Risks</th>\n",
              "    </tr>\n",
              "  </thead>\n",
              "  <tbody>\n",
              "    <tr>\n",
              "      <th>count</th>\n",
              "      <td>3424</td>\n",
              "      <td>3424</td>\n",
              "      <td>3424</td>\n",
              "      <td>3424</td>\n",
              "      <td>3424</td>\n",
              "      <td>3424</td>\n",
              "      <td>3424</td>\n",
              "      <td>3424</td>\n",
              "      <td>3424</td>\n",
              "      <td>3424.000000</td>\n",
              "      <td>...</td>\n",
              "      <td>3424.000000</td>\n",
              "      <td>3424.000000</td>\n",
              "      <td>3424.000000</td>\n",
              "      <td>3424.000000</td>\n",
              "      <td>3424.000000</td>\n",
              "      <td>3424.000000</td>\n",
              "      <td>3424.000000</td>\n",
              "      <td>3424.000000</td>\n",
              "      <td>3424.000000</td>\n",
              "      <td>3424.000000</td>\n",
              "    </tr>\n",
              "    <tr>\n",
              "      <th>unique</th>\n",
              "      <td>2</td>\n",
              "      <td>2</td>\n",
              "      <td>3</td>\n",
              "      <td>2</td>\n",
              "      <td>4</td>\n",
              "      <td>4</td>\n",
              "      <td>36</td>\n",
              "      <td>2</td>\n",
              "      <td>3</td>\n",
              "      <td>NaN</td>\n",
              "      <td>...</td>\n",
              "      <td>NaN</td>\n",
              "      <td>NaN</td>\n",
              "      <td>NaN</td>\n",
              "      <td>NaN</td>\n",
              "      <td>NaN</td>\n",
              "      <td>NaN</td>\n",
              "      <td>NaN</td>\n",
              "      <td>NaN</td>\n",
              "      <td>NaN</td>\n",
              "      <td>NaN</td>\n",
              "    </tr>\n",
              "    <tr>\n",
              "      <th>top</th>\n",
              "      <td>Non-Persistent</td>\n",
              "      <td>Female</td>\n",
              "      <td>Caucasian</td>\n",
              "      <td>Not Hispanic</td>\n",
              "      <td>Midwest</td>\n",
              "      <td>&gt;75</td>\n",
              "      <td>GENERAL PRACTITIONER</td>\n",
              "      <td>Others</td>\n",
              "      <td>OB/GYN/Others/PCP/Unknown</td>\n",
              "      <td>NaN</td>\n",
              "      <td>...</td>\n",
              "      <td>NaN</td>\n",
              "      <td>NaN</td>\n",
              "      <td>NaN</td>\n",
              "      <td>NaN</td>\n",
              "      <td>NaN</td>\n",
              "      <td>NaN</td>\n",
              "      <td>NaN</td>\n",
              "      <td>NaN</td>\n",
              "      <td>NaN</td>\n",
              "      <td>NaN</td>\n",
              "    </tr>\n",
              "    <tr>\n",
              "      <th>freq</th>\n",
              "      <td>2135</td>\n",
              "      <td>3230</td>\n",
              "      <td>3245</td>\n",
              "      <td>3326</td>\n",
              "      <td>1443</td>\n",
              "      <td>1439</td>\n",
              "      <td>1535</td>\n",
              "      <td>2013</td>\n",
              "      <td>2104</td>\n",
              "      <td>NaN</td>\n",
              "      <td>...</td>\n",
              "      <td>NaN</td>\n",
              "      <td>NaN</td>\n",
              "      <td>NaN</td>\n",
              "      <td>NaN</td>\n",
              "      <td>NaN</td>\n",
              "      <td>NaN</td>\n",
              "      <td>NaN</td>\n",
              "      <td>NaN</td>\n",
              "      <td>NaN</td>\n",
              "      <td>NaN</td>\n",
              "    </tr>\n",
              "    <tr>\n",
              "      <th>mean</th>\n",
              "      <td>NaN</td>\n",
              "      <td>NaN</td>\n",
              "      <td>NaN</td>\n",
              "      <td>NaN</td>\n",
              "      <td>NaN</td>\n",
              "      <td>NaN</td>\n",
              "      <td>NaN</td>\n",
              "      <td>NaN</td>\n",
              "      <td>NaN</td>\n",
              "      <td>0.235105</td>\n",
              "      <td>...</td>\n",
              "      <td>0.104556</td>\n",
              "      <td>0.012266</td>\n",
              "      <td>0.477804</td>\n",
              "      <td>0.056075</td>\n",
              "      <td>0.019568</td>\n",
              "      <td>0.015771</td>\n",
              "      <td>0.003213</td>\n",
              "      <td>0.004089</td>\n",
              "      <td>0.020152</td>\n",
              "      <td>1.239486</td>\n",
              "    </tr>\n",
              "    <tr>\n",
              "      <th>std</th>\n",
              "      <td>NaN</td>\n",
              "      <td>NaN</td>\n",
              "      <td>NaN</td>\n",
              "      <td>NaN</td>\n",
              "      <td>NaN</td>\n",
              "      <td>NaN</td>\n",
              "      <td>NaN</td>\n",
              "      <td>NaN</td>\n",
              "      <td>NaN</td>\n",
              "      <td>0.424126</td>\n",
              "      <td>...</td>\n",
              "      <td>0.306025</td>\n",
              "      <td>0.110088</td>\n",
              "      <td>0.499580</td>\n",
              "      <td>0.230100</td>\n",
              "      <td>0.138530</td>\n",
              "      <td>0.124607</td>\n",
              "      <td>0.056597</td>\n",
              "      <td>0.063822</td>\n",
              "      <td>0.140540</td>\n",
              "      <td>1.094914</td>\n",
              "    </tr>\n",
              "    <tr>\n",
              "      <th>min</th>\n",
              "      <td>NaN</td>\n",
              "      <td>NaN</td>\n",
              "      <td>NaN</td>\n",
              "      <td>NaN</td>\n",
              "      <td>NaN</td>\n",
              "      <td>NaN</td>\n",
              "      <td>NaN</td>\n",
              "      <td>NaN</td>\n",
              "      <td>NaN</td>\n",
              "      <td>0.000000</td>\n",
              "      <td>...</td>\n",
              "      <td>0.000000</td>\n",
              "      <td>0.000000</td>\n",
              "      <td>0.000000</td>\n",
              "      <td>0.000000</td>\n",
              "      <td>0.000000</td>\n",
              "      <td>0.000000</td>\n",
              "      <td>0.000000</td>\n",
              "      <td>0.000000</td>\n",
              "      <td>0.000000</td>\n",
              "      <td>0.000000</td>\n",
              "    </tr>\n",
              "    <tr>\n",
              "      <th>25%</th>\n",
              "      <td>NaN</td>\n",
              "      <td>NaN</td>\n",
              "      <td>NaN</td>\n",
              "      <td>NaN</td>\n",
              "      <td>NaN</td>\n",
              "      <td>NaN</td>\n",
              "      <td>NaN</td>\n",
              "      <td>NaN</td>\n",
              "      <td>NaN</td>\n",
              "      <td>0.000000</td>\n",
              "      <td>...</td>\n",
              "      <td>0.000000</td>\n",
              "      <td>0.000000</td>\n",
              "      <td>0.000000</td>\n",
              "      <td>0.000000</td>\n",
              "      <td>0.000000</td>\n",
              "      <td>0.000000</td>\n",
              "      <td>0.000000</td>\n",
              "      <td>0.000000</td>\n",
              "      <td>0.000000</td>\n",
              "      <td>0.000000</td>\n",
              "    </tr>\n",
              "    <tr>\n",
              "      <th>50%</th>\n",
              "      <td>NaN</td>\n",
              "      <td>NaN</td>\n",
              "      <td>NaN</td>\n",
              "      <td>NaN</td>\n",
              "      <td>NaN</td>\n",
              "      <td>NaN</td>\n",
              "      <td>NaN</td>\n",
              "      <td>NaN</td>\n",
              "      <td>NaN</td>\n",
              "      <td>0.000000</td>\n",
              "      <td>...</td>\n",
              "      <td>0.000000</td>\n",
              "      <td>0.000000</td>\n",
              "      <td>0.000000</td>\n",
              "      <td>0.000000</td>\n",
              "      <td>0.000000</td>\n",
              "      <td>0.000000</td>\n",
              "      <td>0.000000</td>\n",
              "      <td>0.000000</td>\n",
              "      <td>0.000000</td>\n",
              "      <td>1.000000</td>\n",
              "    </tr>\n",
              "    <tr>\n",
              "      <th>75%</th>\n",
              "      <td>NaN</td>\n",
              "      <td>NaN</td>\n",
              "      <td>NaN</td>\n",
              "      <td>NaN</td>\n",
              "      <td>NaN</td>\n",
              "      <td>NaN</td>\n",
              "      <td>NaN</td>\n",
              "      <td>NaN</td>\n",
              "      <td>NaN</td>\n",
              "      <td>0.000000</td>\n",
              "      <td>...</td>\n",
              "      <td>0.000000</td>\n",
              "      <td>0.000000</td>\n",
              "      <td>1.000000</td>\n",
              "      <td>0.000000</td>\n",
              "      <td>0.000000</td>\n",
              "      <td>0.000000</td>\n",
              "      <td>0.000000</td>\n",
              "      <td>0.000000</td>\n",
              "      <td>0.000000</td>\n",
              "      <td>2.000000</td>\n",
              "    </tr>\n",
              "    <tr>\n",
              "      <th>max</th>\n",
              "      <td>NaN</td>\n",
              "      <td>NaN</td>\n",
              "      <td>NaN</td>\n",
              "      <td>NaN</td>\n",
              "      <td>NaN</td>\n",
              "      <td>NaN</td>\n",
              "      <td>NaN</td>\n",
              "      <td>NaN</td>\n",
              "      <td>NaN</td>\n",
              "      <td>1.000000</td>\n",
              "      <td>...</td>\n",
              "      <td>1.000000</td>\n",
              "      <td>1.000000</td>\n",
              "      <td>1.000000</td>\n",
              "      <td>1.000000</td>\n",
              "      <td>1.000000</td>\n",
              "      <td>1.000000</td>\n",
              "      <td>1.000000</td>\n",
              "      <td>1.000000</td>\n",
              "      <td>1.000000</td>\n",
              "      <td>7.000000</td>\n",
              "    </tr>\n",
              "  </tbody>\n",
              "</table>\n",
              "<p>11 rows × 64 columns</p>\n",
              "</div>\n",
              "      <button class=\"colab-df-convert\" onclick=\"convertToInteractive('df-5fc70212-acd3-4a10-a1c8-ad56823a412f')\"\n",
              "              title=\"Convert this dataframe to an interactive table.\"\n",
              "              style=\"display:none;\">\n",
              "        \n",
              "  <svg xmlns=\"http://www.w3.org/2000/svg\" height=\"24px\"viewBox=\"0 0 24 24\"\n",
              "       width=\"24px\">\n",
              "    <path d=\"M0 0h24v24H0V0z\" fill=\"none\"/>\n",
              "    <path d=\"M18.56 5.44l.94 2.06.94-2.06 2.06-.94-2.06-.94-.94-2.06-.94 2.06-2.06.94zm-11 1L8.5 8.5l.94-2.06 2.06-.94-2.06-.94L8.5 2.5l-.94 2.06-2.06.94zm10 10l.94 2.06.94-2.06 2.06-.94-2.06-.94-.94-2.06-.94 2.06-2.06.94z\"/><path d=\"M17.41 7.96l-1.37-1.37c-.4-.4-.92-.59-1.43-.59-.52 0-1.04.2-1.43.59L10.3 9.45l-7.72 7.72c-.78.78-.78 2.05 0 2.83L4 21.41c.39.39.9.59 1.41.59.51 0 1.02-.2 1.41-.59l7.78-7.78 2.81-2.81c.8-.78.8-2.07 0-2.86zM5.41 20L4 18.59l7.72-7.72 1.47 1.35L5.41 20z\"/>\n",
              "  </svg>\n",
              "      </button>\n",
              "      \n",
              "  <style>\n",
              "    .colab-df-container {\n",
              "      display:flex;\n",
              "      flex-wrap:wrap;\n",
              "      gap: 12px;\n",
              "    }\n",
              "\n",
              "    .colab-df-convert {\n",
              "      background-color: #E8F0FE;\n",
              "      border: none;\n",
              "      border-radius: 50%;\n",
              "      cursor: pointer;\n",
              "      display: none;\n",
              "      fill: #1967D2;\n",
              "      height: 32px;\n",
              "      padding: 0 0 0 0;\n",
              "      width: 32px;\n",
              "    }\n",
              "\n",
              "    .colab-df-convert:hover {\n",
              "      background-color: #E2EBFA;\n",
              "      box-shadow: 0px 1px 2px rgba(60, 64, 67, 0.3), 0px 1px 3px 1px rgba(60, 64, 67, 0.15);\n",
              "      fill: #174EA6;\n",
              "    }\n",
              "\n",
              "    [theme=dark] .colab-df-convert {\n",
              "      background-color: #3B4455;\n",
              "      fill: #D2E3FC;\n",
              "    }\n",
              "\n",
              "    [theme=dark] .colab-df-convert:hover {\n",
              "      background-color: #434B5C;\n",
              "      box-shadow: 0px 1px 3px 1px rgba(0, 0, 0, 0.15);\n",
              "      filter: drop-shadow(0px 1px 2px rgba(0, 0, 0, 0.3));\n",
              "      fill: #FFFFFF;\n",
              "    }\n",
              "  </style>\n",
              "\n",
              "      <script>\n",
              "        const buttonEl =\n",
              "          document.querySelector('#df-5fc70212-acd3-4a10-a1c8-ad56823a412f button.colab-df-convert');\n",
              "        buttonEl.style.display =\n",
              "          google.colab.kernel.accessAllowed ? 'block' : 'none';\n",
              "\n",
              "        async function convertToInteractive(key) {\n",
              "          const element = document.querySelector('#df-5fc70212-acd3-4a10-a1c8-ad56823a412f');\n",
              "          const dataTable =\n",
              "            await google.colab.kernel.invokeFunction('convertToInteractive',\n",
              "                                                     [key], {});\n",
              "          if (!dataTable) return;\n",
              "\n",
              "          const docLinkHtml = 'Like what you see? Visit the ' +\n",
              "            '<a target=\"_blank\" href=https://colab.research.google.com/notebooks/data_table.ipynb>data table notebook</a>'\n",
              "            + ' to learn more about interactive tables.';\n",
              "          element.innerHTML = '';\n",
              "          dataTable['output_type'] = 'display_data';\n",
              "          await google.colab.output.renderOutput(dataTable, element);\n",
              "          const docLink = document.createElement('div');\n",
              "          docLink.innerHTML = docLinkHtml;\n",
              "          element.appendChild(docLink);\n",
              "        }\n",
              "      </script>\n",
              "    </div>\n",
              "  </div>\n",
              "  "
            ]
          },
          "metadata": {},
          "execution_count": 14
        }
      ]
    },
    {
      "cell_type": "code",
      "source": [
        "persistent_not = data_df.Persistency_Flag.value_counts().copy()\n",
        "ax = persistent_not.plot(kind='bar')\n",
        "ax.set_title('Count of Patients Ending Status')\n",
        "ax.set_ylabel('Count')\n",
        "ax.set_xlabel('Status')"
      ],
      "metadata": {
        "colab": {
          "base_uri": "https://localhost:8080/",
          "height": 375
        },
        "id": "D0PRdicQDKi1",
        "outputId": "cb4f0153-6c94-4db3-d4a6-c69a594a323b"
      },
      "execution_count": 33,
      "outputs": [
        {
          "output_type": "execute_result",
          "data": {
            "text/plain": [
              "Text(0.5, 0, 'Status')"
            ]
          },
          "metadata": {},
          "execution_count": 33
        },
        {
          "output_type": "display_data",
          "data": {
            "text/plain": [
              "<Figure size 432x288 with 1 Axes>"
            ],
            "image/png": "[encoded data removed]"
          },
          "metadata": {
            "needs_background": "light"
          }
        }
      ]
    },
    {
      "cell_type": "code",
      "source": [
        "numerical_columns = []\n",
        "non_numerical_columns = []\n",
        "for column in data_df.columns:\n",
        "  if data_df[column].dtype != 'O':\n",
        "    numerical_columns.append(column)\n",
        "  else:\n",
        "    non_numerical_columns.append(column)\n",
        "numerical_columns, non_numerical_columns"
      ],
      "metadata": {
        "colab": {
          "base_uri": "https://localhost:8080/"
        },
        "id": "dMAoL38cZH6y",
        "outputId": "813f66f8-43cb-42fb-9977-c125acc274a9"
      },
      "execution_count": 36,
      "outputs": [
        {
          "output_type": "execute_result",
          "data": {
            "text/plain": [
              "(['Gluco_Record_Prior_Ntm',\n",
              "  'Gluco_Record_During_Rx',\n",
              "  'Dexa_Freq_During_Rx',\n",
              "  'Dexa_During_Rx',\n",
              "  'Frag_Frac_Prior_Ntm',\n",
              "  'Frag_Frac_During_Rx',\n",
              "  'Idn_Indicator',\n",
              "  'Injectable_Experience_During_Rx',\n",
              "  'Comorb_Encounter_For_Screening_For_Malignant_Neoplasms',\n",
              "  'Comorb_Encounter_For_Immunization',\n",
              "  'Comorb_Encntr_For_General_Exam_W_O_Complaint,_Susp_Or_Reprtd_Dx',\n",
              "  'Comorb_Vitamin_D_Deficiency',\n",
              "  'Comorb_Other_Joint_Disorder_Not_Elsewhere_Classified',\n",
              "  'Comorb_Encntr_For_Oth_Sp_Exam_W_O_Complaint_Suspected_Or_Reprtd_Dx',\n",
              "  'Comorb_Long_Term_Current_Drug_Therapy',\n",
              "  'Comorb_Dorsalgia',\n",
              "  'Comorb_Personal_History_Of_Other_Diseases_And_Conditions',\n",
              "  'Comorb_Other_Disorders_Of_Bone_Density_And_Structure',\n",
              "  'Comorb_Disorders_of_lipoprotein_metabolism_and_other_lipidemias',\n",
              "  'Comorb_Osteoporosis_without_current_pathological_fracture',\n",
              "  'Comorb_Personal_history_of_malignant_neoplasm',\n",
              "  'Comorb_Gastro_esophageal_reflux_disease',\n",
              "  'Concom_Cholesterol_And_Triglyceride_Regulating_Preparations',\n",
              "  'Concom_Narcotics',\n",
              "  'Concom_Systemic_Corticosteroids_Plain',\n",
              "  'Concom_Anti_Depressants_And_Mood_Stabilisers',\n",
              "  'Concom_Fluoroquinolones',\n",
              "  'Concom_Cephalosporins',\n",
              "  'Concom_Macrolides_And_Similar_Types',\n",
              "  'Concom_Broad_Spectrum_Penicillins',\n",
              "  'Concom_Anaesthetics_General',\n",
              "  'Concom_Viral_Vaccines',\n",
              "  'Risk_Type_1_Insulin_Dependent_Diabetes',\n",
              "  'Risk_Osteogenesis_Imperfecta',\n",
              "  'Risk_Rheumatoid_Arthritis',\n",
              "  'Risk_Untreated_Chronic_Hyperthyroidism',\n",
              "  'Risk_Untreated_Chronic_Hypogonadism',\n",
              "  'Risk_Untreated_Early_Menopause',\n",
              "  'Risk_Patient_Parent_Fractured_Their_Hip',\n",
              "  'Risk_Smoking_Tobacco',\n",
              "  'Risk_Chronic_Malnutrition_Or_Malabsorption',\n",
              "  'Risk_Chronic_Liver_Disease',\n",
              "  'Risk_Family_History_Of_Osteoporosis',\n",
              "  'Risk_Low_Calcium_Intake',\n",
              "  'Risk_Vitamin_D_Insufficiency',\n",
              "  'Risk_Poor_Health_Frailty',\n",
              "  'Risk_Excessive_Thinness',\n",
              "  'Risk_Hysterectomy_Oophorectomy',\n",
              "  'Risk_Estrogen_Deficiency',\n",
              "  'Risk_Immobilization',\n",
              "  'Risk_Recurring_Falls',\n",
              "  'Count_Of_Risks'],\n",
              " ['Persistency_Flag',\n",
              "  'Gender',\n",
              "  'Race',\n",
              "  'Ethnicity',\n",
              "  'Region',\n",
              "  'Age_Bucket',\n",
              "  'Ntm_Speciality',\n",
              "  'Ntm_Specialist_Flag',\n",
              "  'Ntm_Speciality_Bucket',\n",
              "  'Risk_Segment_Prior_Ntm',\n",
              "  'Tscore_Bucket_Prior_Ntm',\n",
              "  'Adherent_Flag'])"
            ]
          },
          "metadata": {},
          "execution_count": 36
        }
      ]
    },
    {
      "cell_type": "code",
      "source": [
        "num = data_df.drop(columns=non_numerical_columns, axis=1).copy()"
      ],
      "metadata": {
        "id": "DURO5F1LjGbn"
      },
      "execution_count": 40,
      "outputs": []
    },
    {
      "cell_type": "code",
      "source": [
        "for i in num.columns:\n",
        "  plt.figure()\n",
        "  plt.tight_layout()\n",
        "  plt.hist(num[i])\n"
      ],
      "metadata": {
        "colab": {
          "base_uri": "https://localhost:8080/",
          "height": 1000
        },
        "id": "bValSX-FjxAh",
        "outputId": "cf523496-d2a8-4fd1-9a4a-f8975c8b0355"
      },
      "execution_count": 49,
      "outputs": [
        {
          "output_type": "stream",
          "name": "stderr",
          "text": [
            "<ipython-input-49-9ae4030ec29b>:2: RuntimeWarning: More than 20 figures have been opened. Figures created through the pyplot interface (`matplotlib.pyplot.figure`) are retained until explicitly closed and may consume too much memory. (To control this warning, see the rcParam `figure.max_open_warning`).\n",
            "  plt.figure()\n"
          ]
        },
        {
          "output_type": "display_data",
          "data": {
            "text/plain": [
              "<Figure size 432x288 with 1 Axes>"
            ],
            "image/png": "[encoded data removed]"
          },
          "metadata": {
            "needs_background": "light"
          }
        },
        {
          "output_type": "display_data",
          "data": {
            "text/plain": [
              "<Figure size 432x288 with 1 Axes>"
            ],
            "image/png": "[encoded data removed]"
          },
          "metadata": {
            "needs_background": "light"
          }
        },
        {
          "output_type": "display_data",
          "data": {
            "text/plain": [
              "<Figure size 432x288 with 1 Axes>"
            ],
            "image/png": "[encoded data removed]"
          },
          "metadata": {
            "needs_background": "light"
          }
        },
        {
          "output_type": "display_data",
          "data": {
            "text/plain": [
              "<Figure size 432x288 with 1 Axes>"
            ],
            "image/png": "[encoded data removed]"
          },
          "metadata": {
            "needs_background": "light"
          }
        },
        {
          "output_type": "display_data",
          "data": {
            "text/plain": [
              "<Figure size 432x288 with 1 Axes>"
            ],
            "image/png": "[encoded data removed]"
          },
          "metadata": {
            "needs_background": "light"
          }
        },
        {
          "output_type": "display_data",
          "data": {
            "text/plain": [
              "<Figure size 432x288 with 1 Axes>"
            ],
            "image/png": "[encoded data removed]"
          },
          "metadata": {
            "needs_background": "light"
          }
        },
        {
          "output_type": "display_data",
          "data": {
            "text/plain": [
              "<Figure size 432x288 with 1 Axes>"
            ],
            "image/png": "[encoded data removed]"
          },
          "metadata": {
            "needs_background": "light"
          }
        },
        {
          "output_type": "display_data",
          "data": {
            "text/plain": [
              "<Figure size 432x288 with 1 Axes>"
            ],
            "image/png": "[encoded data removed]"
          },
          "metadata": {
            "needs_background": "light"
          }
        },
        {
          "output_type": "display_data",
          "data": {
            "text/plain": [
              "<Figure size 432x288 with 1 Axes>"
            ],
            "image/png": "[encoded data removed]"
          },
          "metadata": {
            "needs_background": "light"
          }
        },
        {
          "output_type": "display_data",
          "data": {
            "text/plain": [
              "<Figure size 432x288 with 1 Axes>"
            ],
            "image/png": "[encoded data removed]"
          },
          "metadata": {
            "needs_background": "light"
          }
        },
        {
          "output_type": "display_data",
          "data": {
            "text/plain": [
              "<Figure size 432x288 with 1 Axes>"
            ],
            "image/png": "[encoded data removed]"
          },
          "metadata": {
            "needs_background": "light"
          }
        },
        {
          "output_type": "display_data",
          "data": {
            "text/plain": [
              "<Figure size 432x288 with 1 Axes>"
            ],
            "image/png": "[encoded data removed]"
          },
          "metadata": {
            "needs_background": "light"
          }
        },
        {
          "output_type": "display_data",
          "data": {
            "text/plain": [
              "<Figure size 432x288 with 1 Axes>"
            ],
            "image/png": "[encoded data removed]"
          },
          "metadata": {
            "needs_background": "light"
          }
        },
        {
          "output_type": "display_data",
          "data": {
            "text/plain": [
              "<Figure size 432x288 with 1 Axes>"
            ],
            "image/png": "[encoded data removed]"
          },
          "metadata": {
            "needs_background": "light"
          }
        },
        {
          "output_type": "display_data",
          "data": {
            "text/plain": [
              "<Figure size 432x288 with 1 Axes>"
            ],
            "image/png": "[encoded data removed]"
          },
          "metadata": {
            "needs_background": "light"
          }
        },
        {
          "output_type": "display_data",
          "data": {
            "text/plain": [
              "<Figure size 432x288 with 1 Axes>"
            ],
            "image/png": "[encoded data removed]"
          },
          "metadata": {
            "needs_background": "light"
          }
        },
        {
          "output_type": "display_data",
          "data": {
            "text/plain": [
              "<Figure size 432x288 with 1 Axes>"
            ],
            "image/png": "[encoded data removed]"
          },
          "metadata": {
            "needs_background": "light"
          }
        },
        {
          "output_type": "display_data",
          "data": {
            "text/plain": [
              "<Figure size 432x288 with 1 Axes>"
            ],
            "image/png": "[encoded data removed]"
          },
          "metadata": {
            "needs_background": "light"
          }
        },
        {
          "output_type": "display_data",
          "data": {
            "text/plain": [
              "<Figure size 432x288 with 1 Axes>"
            ],
            "image/png": "[encoded data removed]"
          },
          "metadata": {
            "needs_background": "light"
          }
        },
        {
          "output_type": "display_data",
          "data": {
            "text/plain": [
              "<Figure size 432x288 with 1 Axes>"
            ],
            "image/png": "[encoded data removed]"
          },
          "metadata": {
            "needs_background": "light"
          }
        },
        {
          "output_type": "display_data",
          "data": {
            "text/plain": [
              "<Figure size 432x288 with 1 Axes>"
            ],
            "image/png": "[encoded data removed]"
          },
          "metadata": {
            "needs_background": "light"
          }
        },
        {
          "output_type": "display_data",
          "data": {
            "text/plain": [
              "<Figure size 432x288 with 1 Axes>"
            ],
            "image/png": "[encoded data removed]"
          },
          "metadata": {
            "needs_background": "light"
          }
        },
        {
          "output_type": "display_data",
          "data": {
            "text/plain": [
              "<Figure size 432x288 with 1 Axes>"
            ],
            "image/png": "[encoded data removed]"
          },
          "metadata": {
            "needs_background": "light"
          }
        },
        {
          "output_type": "display_data",
          "data": {
            "text/plain": [
              "<Figure size 432x288 with 1 Axes>"
            ],
            "image/png": "[encoded data removed]"
          },
          "metadata": {
            "needs_background": "light"
          }
        },
        {
          "output_type": "display_data",
          "data": {
            "text/plain": [
              "<Figure size 432x288 with 1 Axes>"
            ],
            "image/png": "[encoded data removed]"
          },
          "metadata": {
            "needs_background": "light"
          }
        },
        {
          "output_type": "display_data",
          "data": {
            "text/plain": [
              "<Figure size 432x288 with 1 Axes>"
            ],
            "image/png": "[encoded data removed]"
          },
          "metadata": {
            "needs_background": "light"
          }
        },
        {
          "output_type": "display_data",
          "data": {
            "text/plain": [
              "<Figure size 432x288 with 1 Axes>"
            ],
            "image/png": "[encoded data removed]"
          },
          "metadata": {
            "needs_background": "light"
          }
        },
        {
          "output_type": "display_data",
          "data": {
            "text/plain": [
              "<Figure size 432x288 with 1 Axes>"
            ],
            "image/png": "[encoded data removed]"
          },
          "metadata": {
            "needs_background": "light"
          }
        },
        {
          "output_type": "display_data",
          "data": {
            "text/plain": [
              "<Figure size 432x288 with 1 Axes>"
            ],
            "image/png": "[encoded data removed]"
          },
          "metadata": {
            "needs_background": "light"
          }
        },
        {
          "output_type": "display_data",
          "data": {
            "text/plain": [
              "<Figure size 432x288 with 1 Axes>"
            ],
            "image/png": "[encoded data removed]"
          },
          "metadata": {
            "needs_background": "light"
          }
        },
        {
          "output_type": "display_data",
          "data": {
            "text/plain": [
              "<Figure size 432x288 with 1 Axes>"
            ],
            "image/png": "[encoded data removed]"
          },
          "metadata": {
            "needs_background": "light"
          }
        },
        {
          "output_type": "display_data",
          "data": {
            "text/plain": [
              "<Figure size 432x288 with 1 Axes>"
            ],
            "image/png": "[encoded data removed]"
          },
          "metadata": {
            "needs_background": "light"
          }
        },
        {
          "output_type": "display_data",
          "data": {
            "text/plain": [
              "<Figure size 432x288 with 1 Axes>"
            ],
            "image/png": "[encoded data removed]"
          },
          "metadata": {
            "needs_background": "light"
          }
        },
        {
          "output_type": "display_data",
          "data": {
            "text/plain": [
              "<Figure size 432x288 with 1 Axes>"
            ],
            "image/png": "[encoded data removed]"
          },
          "metadata": {
            "needs_background": "light"
          }
        },
        {
          "output_type": "display_data",
          "data": {
            "text/plain": [
              "<Figure size 432x288 with 1 Axes>"
            ],
            "image/png": "[encoded data removed]"
          },
          "metadata": {
            "needs_background": "light"
          }
        },
        {
          "output_type": "display_data",
          "data": {
            "text/plain": [
              "<Figure size 432x288 with 1 Axes>"
            ],
            "image/png": "[encoded data removed]"
          },
          "metadata": {
            "needs_background": "light"
          }
        },
        {
          "output_type": "display_data",
          "data": {
            "text/plain": [
              "<Figure size 432x288 with 1 Axes>"
            ],
            "image/png": "[encoded data removed]"
          },
          "metadata": {
            "needs_background": "light"
          }
        },
        {
          "output_type": "display_data",
          "data": {
            "text/plain": [
              "<Figure size 432x288 with 1 Axes>"
            ],
            "image/png": "[encoded data removed]"
          },
          "metadata": {
            "needs_background": "light"
          }
        },
        {
          "output_type": "display_data",
          "data": {
            "text/plain": [
              "<Figure size 432x288 with 1 Axes>"
            ],
            "image/png": "[encoded data removed]"
          },
          "metadata": {
            "needs_background": "light"
          }
        },
        {
          "output_type": "display_data",
          "data": {
            "text/plain": [
              "<Figure size 432x288 with 1 Axes>"
            ],
            "image/png": "[encoded data removed]"
          },
          "metadata": {
            "needs_background": "light"
          }
        },
        {
          "output_type": "display_data",
          "data": {
            "text/plain": [
              "<Figure size 432x288 with 1 Axes>"
            ],
            "image/png": "[encoded data removed]"
          },
          "metadata": {
            "needs_background": "light"
          }
        },
        {
          "output_type": "display_data",
          "data": {
            "text/plain": [
              "<Figure size 432x288 with 1 Axes>"
            ],
            "image/png": "[encoded data removed]"
          },
          "metadata": {
            "needs_background": "light"
          }
        },
        {
          "output_type": "display_data",
          "data": {
            "text/plain": [
              "<Figure size 432x288 with 1 Axes>"
            ],
            "image/png": "[encoded data removed]"
          },
          "metadata": {
            "needs_background": "light"
          }
        },
        {
          "output_type": "display_data",
          "data": {
            "text/plain": [
              "<Figure size 432x288 with 1 Axes>"
            ],
            "image/png": "[encoded data removed]"
          },
          "metadata": {
            "needs_background": "light"
          }
        },
        {
          "output_type": "display_data",
          "data": {
            "text/plain": [
              "<Figure size 432x288 with 1 Axes>"
            ],
            "image/png": "[encoded data removed]"
          },
          "metadata": {
            "needs_background": "light"
          }
        },
        {
          "output_type": "display_data",
          "data": {
            "text/plain": [
              "<Figure size 432x288 with 1 Axes>"
            ],
            "image/png": "[encoded data removed]"
          },
          "metadata": {
            "needs_background": "light"
          }
        },
        {
          "output_type": "display_data",
          "data": {
            "text/plain": [
              "<Figure size 432x288 with 1 Axes>"
            ],
            "image/png": "[encoded data removed]"
          },
          "metadata": {
            "needs_background": "light"
          }
        },
        {
          "output_type": "display_data",
          "data": {
            "text/plain": [
              "<Figure size 432x288 with 1 Axes>"
            ],
            "image/png": "[encoded data removed]"
          },
          "metadata": {
            "needs_background": "light"
          }
        },
        {
          "output_type": "display_data",
          "data": {
            "text/plain": [
              "<Figure size 432x288 with 1 Axes>"
            ],
            "image/png": "[encoded data removed]"
          },
          "metadata": {
            "needs_background": "light"
          }
        },
        {
          "output_type": "display_data",
          "data": {
            "text/plain": [
              "<Figure size 432x288 with 1 Axes>"
            ],
            "image/png": "[encoded data removed]"
          },
          "metadata": {
            "needs_background": "light"
          }
        },
        {
          "output_type": "display_data",
          "data": {
            "text/plain": [
              "<Figure size 432x288 with 1 Axes>"
            ],
            "image/png": "[encoded data removed]"
          },
          "metadata": {
            "needs_background": "light"
          }
        },
        {
          "output_type": "display_data",
          "data": {
            "text/plain": [
              "<Figure size 432x288 with 1 Axes>"
            ],
            "image/png": "[encoded data removed]"
          },
          "metadata": {
            "needs_background": "light"
          }
        }
      ]
    },
    {
      "cell_type": "code",
      "source": [
        "#Creating Histograms for numerical columns\n"
      ],
      "metadata": {
        "id": "_N0Icnm1ZH9Y"
      },
      "execution_count": null,
      "outputs": []
    },
    {
      "cell_type": "code",
      "source": [],
      "metadata": {
        "id": "vJtlkcpcZH_t"
      },
      "execution_count": null,
      "outputs": []
    },
    {
      "cell_type": "code",
      "source": [],
      "metadata": {
        "id": "PTq5yxbQZICY"
      },
      "execution_count": null,
      "outputs": []
    },
    {
      "cell_type": "code",
      "source": [],
      "metadata": {
        "id": "L6njG8iZZIE5"
      },
      "execution_count": null,
      "outputs": []
    }
  ]
}